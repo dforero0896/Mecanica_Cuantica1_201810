{
 "cells": [
  {
   "cell_type": "markdown",
   "metadata": {},
   "source": [
    "# Mecánica Cuántica 1 -201810\n",
    "## Tarea \\# 2 - Solución\n",
    "Elaborada por Daniel Forero."
   ]
  },
  {
   "cell_type": "code",
   "execution_count": 1,
   "metadata": {
    "collapsed": true
   },
   "outputs": [],
   "source": [
    "from sympy import *\n",
    "init_printing()"
   ]
  },
  {
   "cell_type": "markdown",
   "metadata": {},
   "source": [
    "## Problema 2.1"
   ]
  },
  {
   "cell_type": "markdown",
   "metadata": {},
   "source": [
    "Recordemos la ecuación de Klein-Gordon:\n",
    "$$\\left(\\frac{1}{c^2}\\frac{\\partial^2}{\\partial t^2}-\\nabla^2 + \\frac{m^2c^2}{\\hbar^2}\\right)\\psi = 0$$\n",
    "\n",
    "Y definimos $\\mu^2 = \\frac{m^2c^2}{\\hbar^2}$."
   ]
  },
  {
   "cell_type": "code",
   "execution_count": 2,
   "metadata": {},
   "outputs": [
    {
     "data": {
      "image/png": "[encoded data removed]",
      "text/latex": [
       "$$\\frac{1}{c^{2}} \\left(c^{2} k_{i}^{2} - c^{2} \\mu^{2} - \\omega^{2}\\right) e^{i \\left(- k_{i} x_{i} + \\omega t\\right)} = 0$$"
      ],
      "text/plain": [
       "⎛ 2   2    2  2    2⎞  ⅈ⋅(-kᵢ⋅xᵢ + ω⋅t)    \n",
       "⎝c ⋅kᵢ  - c ⋅μ  - ω ⎠⋅ℯ                    \n",
       "─────────────────────────────────────── = 0\n",
       "                    2                      \n",
       "                   c                       "
      ]
     },
     "execution_count": 2,
     "metadata": {},
     "output_type": "execute_result"
    }
   ],
   "source": [
    "xi, ki, om, mu=\\\n",
    "symbols('x_i k_i omega mu',real=True)\n",
    "h,m,c,t = symbols('hbar m c t', real=True,\\\n",
    "                  positive=True,polar=True)\n",
    "psi = exp(-I*(ki*xi-om*t))\n",
    "laplace = Derivative(psi,xi,xi)\n",
    "eq = Equality((1/c**2)*Derivative(psi,t,t)-\\\n",
    "              laplace - mu**2*psi).doit()\n",
    "condition = simplify(factor(eq))\n",
    "condition"
   ]
  },
  {
   "cell_type": "markdown",
   "metadata": {},
   "source": [
    "De la anterior celda entendemos que\n",
    "$$k^2 - \\frac{\\omega^2}{c^2} + \\frac{m^2c^2}{\\hbar^2}=0$$\n",
    "Esta expresión es equivalente a\n",
    "$$p^2c^2 + m^2c^4 = E^2,$$\n",
    "es decir, la relación momento-energía relativista debe satisfacerse para que $\\psi = \\exp(-i(k_ix_i-\\omega t))$ sea solución. Más generalmente una combinación de funciones de este tipo para todo $k$ formará el campo de Klein-Gordon que posteriormente se utilizará para describir partículas de spin 0.\n",
    "\n",
    "Es además claro que fue necesario tomar $p=\\hbar k$ y $E=\\hbar \\omega$.\n"
   ]
  },
  {
   "cell_type": "code",
   "execution_count": 3,
   "metadata": {},
   "outputs": [
    {
     "data": {
      "image/png": "[encoded data removed]",
      "text/latex": [
       "$$\\frac{c k_{i}}{\\sqrt{k_{i}^{2} - \\mu^{2}}}$$"
      ],
      "text/plain": [
       "     c⋅kᵢ    \n",
       "─────────────\n",
       "   __________\n",
       "  ╱   2    2 \n",
       "╲╱  kᵢ  - μ  "
      ]
     },
     "execution_count": 3,
     "metadata": {},
     "output_type": "execute_result"
    }
   ],
   "source": [
    "disp_rel =simplify(solve(condition,om)[-1])[0]\n",
    "group_v = simplify(diff(expand(disp_rel),ki))\n",
    "group_v\n",
    "\n"
   ]
  },
  {
   "cell_type": "markdown",
   "metadata": {},
   "source": [
    "Entonces, la velocidad de grupo es $$v_g = \\frac{ck}{\\sqrt{k^2-\\mu^2}} = \\frac{ck}{\\omega}.$$ Por otro lado, la velocidad de fase es $$v_p = \\frac{\\omega}{k}.$$\n",
    "\n",
    "\n",
    "PS. El problema hubiera sido más sencillo recordando las condiciones de primera cuantización:\n",
    "$$E \\rightarrow \\sim\\frac{\\partial}{\\partial t}$$\n",
    "$$p \\rightarrow \\sim -\\hbar\\nabla.$$\n",
    "De hecho, la ecuación de KG es el primer acercamiento a ecuaciones de onda relativistas y viene de, precisamente, realizar \"primera cuantización\" en la relación energía-momentum relativista."
   ]
  },
  {
   "cell_type": "markdown",
   "metadata": {},
   "source": [
    "## Problema 2.3"
   ]
  },
  {
   "cell_type": "markdown",
   "metadata": {},
   "source": [
    "Tenemos la representación de momentum $$\\langle p | \\psi\\rangle = \\varphi(p) = \\frac{1}{(\\pi\\sigma^2\\hbar^2)^{1/4}} \\exp\\left(-\\frac{(p-p_0)^2}{2\\sigma^2\\hbar^2}\\right).$$\n",
    "\n",
    "Para obtener la representación de posición $\\langle x | \\psi\\rangle = \\phi(x)$ tomamos la transformada de Fourier, para evitar ambiguedades la definimos de la forma usual:\n",
    "\n",
    "$$ \\phi(x) = \\int_{-\\infty}^{\\infty}\\varphi(p=\\hbar k=2\\pi\\hbar\\nu)\\exp(2\\pi i\\nu x)d\\nu.\\ 2\\pi\\nu = k.$$\n",
    "Con esta formulación de la transformada no se tiene unitareidad, por lo que es necesario volver a normalizarla."
   ]
  },
  {
   "cell_type": "code",
   "execution_count": 4,
   "metadata": {},
   "outputs": [
    {
     "data": {
      "image/png": "[encoded data removed]",
      "text/latex": [
       "$$\\frac{\\sqrt{\\sigma}}{\\sqrt[4]{\\pi}} e^{- \\frac{x}{2 \\hbar} \\left(\\hbar \\sigma^{2} x - 2 i p_{0}\\right)}$$"
      ],
      "text/plain": [
       "       ⎛    2           ⎞ \n",
       "    -x⋅⎝h̅⋅σ ⋅x - 2⋅ⅈ⋅p₀⎠ \n",
       "    ──────────────────────\n",
       "             2⋅h̅         \n",
       "√σ⋅ℯ                      \n",
       "──────────────────────────\n",
       "          4 ___           \n",
       "          ╲╱ π            "
      ]
     },
     "execution_count": 4,
     "metadata": {},
     "output_type": "execute_result"
    }
   ],
   "source": [
    "p, p0,nu,x,k = symbols('p p_0 nu x k',\\\n",
    "                       real=True)\n",
    "s = Symbol('sigma', real=True, \\\n",
    "           positive=True)\n",
    "mom_repr = nsimplify(1./(pi*s**2*h**2)**(1./4)\\\n",
    "                     * exp(-(p-p0)**2/(2*s**2*h**2)))\n",
    "mom_repr\n",
    "pos_repr = \\\n",
    "inverse_fourier_transform(mom_repr.subs(p, \\\n",
    "                                        2*pi*nu*h), nu,x)\n",
    "norm = \\\n",
    "simplify(integrate(pos_repr*conjugate(pos_repr),\\\n",
    "                   (x,-oo,oo),conds='none'))\n",
    "pos_repr*=1/sqrt(norm)\n",
    "simplify(pos_repr)"
   ]
  },
  {
   "cell_type": "markdown",
   "metadata": {},
   "source": [
    "Ahora se debe calcular la varianza de la variable $\\lambda = x ,p$ según\n",
    "$$\\Delta\\lambda^2 = \\int\\lambda^2|\\phi(\\lambda)|^2d\\lambda$$\n",
    "y comprobar que $$\\Delta x\\Delta p = \\frac{\\hbar}{2}.$$"
   ]
  },
  {
   "cell_type": "code",
   "execution_count": 5,
   "metadata": {},
   "outputs": [
    {
     "data": {
      "image/png": "[encoded data removed]",
      "text/latex": [
       "$$\\frac{\\hbar^{2} \\sigma^{2}}{2} + p_{0}^{2}$$"
      ],
      "text/plain": [
       "  2  2      \n",
       "h̅ ⋅σ      2\n",
       "────── + p₀ \n",
       "  2         "
      ]
     },
     "execution_count": 5,
     "metadata": {},
     "output_type": "execute_result"
    }
   ],
   "source": [
    "delta_p_sq = integrate(p**2 * mom_repr*\\\n",
    "                       conjugate(mom_repr),\\\n",
    "                       (p,-oo,oo),conds='none')\n",
    "re(delta_p_sq)"
   ]
  },
  {
   "cell_type": "code",
   "execution_count": 6,
   "metadata": {},
   "outputs": [
    {
     "data": {
      "image/png": "[encoded data removed]",
      "text/latex": [
       "$$\\frac{1}{2 \\sigma^{2}}$$"
      ],
      "text/plain": [
       " 1  \n",
       "────\n",
       "   2\n",
       "2⋅σ "
      ]
     },
     "execution_count": 6,
     "metadata": {},
     "output_type": "execute_result"
    }
   ],
   "source": [
    "delta_x_sq = integrate(x**2 * pos_repr*\\\n",
    "                       conjugate(pos_repr),\\\n",
    "                       (x,-oo,oo),conds='none')\n",
    "re(delta_x_sq)"
   ]
  },
  {
   "cell_type": "code",
   "execution_count": 7,
   "metadata": {},
   "outputs": [
    {
     "data": {
      "image/png": "[encoded data removed]",
      "text/latex": [
       "$$\\frac{\\hbar^{2}}{4}$$"
      ],
      "text/plain": [
       "  2\n",
       "h̅ \n",
       "───\n",
       " 4 "
      ]
     },
     "execution_count": 7,
     "metadata": {},
     "output_type": "execute_result"
    }
   ],
   "source": [
    "simplify(Abs(delta_p_sq.subs(p0,0)*delta_x_sq))"
   ]
  },
  {
   "cell_type": "markdown",
   "metadata": {},
   "source": [
    "Entonces, vemos que el paquete de onda gaussiano cumple con la relación de incertidumbre.\n",
    "\n",
    "\n",
    "Ahora bien, para la siguiente parte debemos hacer que el estado $|\\psi\\rangle$ evolucione en el tiempo, para lo cual debemos, como es usual, aplicar el operador de evolución temporal, definido como $U(t) = \\exp(-iHt/\\hbar)$, siendo $H=\\frac{p^2}{2m}$ el hamiltoniano. Ya que estamos en representación de momentum (inicialmente), y tratamos partículas libres. Tenemos que el paquete de onda en un tiempo $t$ será\n",
    "$$\\varphi(p,t)=U(t)\\varphi(p)=\\exp\\left(-i\\frac{p^2t}{2m\\hbar}\\right)\\varphi(p)$$"
   ]
  },
  {
   "cell_type": "code",
   "execution_count": 8,
   "metadata": {
    "collapsed": true
   },
   "outputs": [],
   "source": [
    "mom_repr = \\\n",
    "nsimplify(simplify(exp(-I*p**2*t/(2*m*h))\\\n",
    "                   *1./(pi*s**2*h**2)**(1./4)\\\n",
    "                   * exp(-(p-p0)**2/(2*s**2*h**2))))\n",
    "mom_repr\n",
    "pos_repr = \\\n",
    "inverse_fourier_transform(mom_repr.subs(p,\\\n",
    "                                        2*pi*nu*h), \\\n",
    "                          nu,x, noconds=True)\n",
    "re(conjugate(pos_repr)*pos_repr)\n",
    "norm = \\\n",
    "simplify(integrate(re(conjugate(pos_repr)\\\n",
    "                      *pos_repr),(x,-oo,oo),conds='none'))\n",
    "#simplify(Abs(norm))\n",
    "pos_repr*=1/sqrt(norm)\n",
    "pos_repr=simplify(cancel(pos_repr))\n"
   ]
  },
  {
   "cell_type": "code",
   "execution_count": 9,
   "metadata": {},
   "outputs": [
    {
     "data": {
      "image/png": "[encoded data removed]",
      "text/latex": [
       "$$t^{2} \\left(\\frac{\\hbar^{2} \\sigma^{2}}{2 m^{2}} + \\frac{p_{0}^{2}}{m^{2}}\\right) + \\frac{1}{2 \\sigma^{2}}$$"
      ],
      "text/plain": [
       "   ⎛  2  2     2⎞       \n",
       " 2 ⎜h̅ ⋅σ    p₀ ⎟    1  \n",
       "t ⋅⎜────── + ───⎟ + ────\n",
       "   ⎜    2      2⎟      2\n",
       "   ⎝ 2⋅m      m ⎠   2⋅σ "
      ]
     },
     "execution_count": 9,
     "metadata": {},
     "output_type": "execute_result"
    }
   ],
   "source": [
    "delta_x_sq = \\\n",
    "integrate(x**2 * re(cancel(pos_repr\\\n",
    "                           *conjugate(pos_repr))),\\\n",
    "          (x,-oo,oo),conds='none')\n",
    "collect(simplify(delta_x_sq),t)"
   ]
  },
  {
   "cell_type": "markdown",
   "metadata": {},
   "source": [
    "De esta forma vemos que se obtiene la expresión deseada (si tomamos $p_0=0$. En general tenemos\n",
    "$$\\Delta x^2(t) = t^2\\left(\\frac{\\hbar^2\\sigma^2}{2m^2} + \\frac{p_0^2}{m^2}\\right) + \\frac{1}{2\\sigma^2}.$$ Que era lo que se quería demostrar."
   ]
  }
 ],
 "metadata": {
  "anaconda-cloud": {},
  "kernelspec": {
   "display_name": "Python [conda root]",
   "language": "python",
   "name": "conda-root-py"
  },
  "language_info": {
   "codemirror_mode": {
    "name": "ipython",
    "version": 2
   },
   "file_extension": ".py",
   "mimetype": "text/x-python",
   "name": "python",
   "nbconvert_exporter": "python",
   "pygments_lexer": "ipython2",
   "version": "2.7.12"
  }
 },
 "nbformat": 4,
 "nbformat_minor": 1
}
