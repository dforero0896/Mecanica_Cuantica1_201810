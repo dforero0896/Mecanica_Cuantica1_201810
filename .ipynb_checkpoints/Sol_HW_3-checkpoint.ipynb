{
 "cells": [
  {
   "cell_type": "markdown",
   "metadata": {},
   "source": [
    "# Mecánica Cuántica 1 - 201820\n",
    "## Tarea \\# 3 - Solución\n",
    "Elaborada por Daniel Forero"
   ]
  },
  {
   "cell_type": "code",
   "execution_count": 1,
   "metadata": {
    "collapsed": true
   },
   "outputs": [],
   "source": [
    "from sympy import *\n",
    "init_printing(use_latex='mathjax')\n",
    "from IPython.display import display"
   ]
  },
  {
   "cell_type": "markdown",
   "metadata": {},
   "source": [
    "## Problema 3.4"
   ]
  },
  {
   "cell_type": "markdown",
   "metadata": {},
   "source": [
    "Nuestra función inicial $\\psi(x)$ tiene $\\Delta p = \\sigma$ y $\\langle p \\rangle = q$. Si aplicamos una transformación \n",
    "$$\\phi(x)=\\exp\\left(\\frac{ip_0x}{\\hbar}\\right) \\psi(x).\\ \\ \\ p_0 = \\hbar k_0$$ \n",
    "Esta transformada de Fourier se escribiría $$\\hat{\\phi}(k) = \\int_{-\\infty}^{\\infty}\\exp(ik_0x) \\psi(x)\\exp(-ikx)dk,$$\n",
    "\n",
    "$$\\hat{\\phi}(k) = \\int_{-\\infty}^{\\infty}\\psi(x)\\exp(-i(k-k_0)x)dk,\\ \\ \\ k-k_0 = k'$$\n",
    "\n",
    "$$\\hat{\\phi}(k'+k_0) = \\int_{-\\infty}^{\\infty}\\psi(x)\\exp(-ik'x)dk'$$\n",
    "\n",
    "De esta forma vemos que la transformación en el espacio es equivalente a una translación en espacio de momentum. Esta translación, claramente, afecta el valor esperado, ya que la distribución se encuentra ahora centrada en $q+p_0$. Este será el valor esperado.\n",
    "\n",
    "Por otro lado, la translación no modifica la forma de la distribución, de manera que $\\Delta p = \\sigma$."
   ]
  },
  {
   "cell_type": "markdown",
   "metadata": {},
   "source": [
    "## Problema 3.6"
   ]
  },
  {
   "cell_type": "code",
   "execution_count": 2,
   "metadata": {},
   "outputs": [
    {
     "data": {
      "text/plain": [
       "'En x= -a'"
      ]
     },
     "metadata": {},
     "output_type": "display_data"
    },
    {
     "data": {
      "text/latex": [
       "$$A e^{i a k} - B e^{- i a q} - C e^{i a q} + e^{- i a k} = 0$$"
      ],
      "text/plain": [
       "   ⅈ⋅a⋅k      -ⅈ⋅a⋅q      ⅈ⋅a⋅q    -ⅈ⋅a⋅k    \n",
       "A⋅ℯ      - B⋅ℯ       - C⋅ℯ      + ℯ       = 0"
      ]
     },
     "metadata": {},
     "output_type": "display_data"
    },
    {
     "data": {
      "text/plain": [
       "'En x= -a'"
      ]
     },
     "metadata": {},
     "output_type": "display_data"
    },
    {
     "data": {
      "text/latex": [
       "$$- i A k e^{i a k} - i B q e^{- i a q} + i C q e^{i a q} + i k e^{- i a k} = 0$$"
      ],
      "text/plain": [
       "         ⅈ⋅a⋅k          -ⅈ⋅a⋅q          ⅈ⋅a⋅q        -ⅈ⋅a⋅k    \n",
       "- ⅈ⋅A⋅k⋅ℯ      - ⅈ⋅B⋅q⋅ℯ       + ⅈ⋅C⋅q⋅ℯ      + ⅈ⋅k⋅ℯ       = 0"
      ]
     },
     "metadata": {},
     "output_type": "display_data"
    },
    {
     "data": {
      "text/plain": [
       "'En x= a'"
      ]
     },
     "metadata": {},
     "output_type": "display_data"
    },
    {
     "data": {
      "text/latex": [
       "$$B e^{i a q} + C e^{- i a q} - D e^{i a k} = 0$$"
      ],
      "text/plain": [
       "   ⅈ⋅a⋅q      -ⅈ⋅a⋅q      ⅈ⋅a⋅k    \n",
       "B⋅ℯ      + C⋅ℯ       - D⋅ℯ      = 0"
      ]
     },
     "metadata": {},
     "output_type": "display_data"
    },
    {
     "data": {
      "text/plain": [
       "'En x= a'"
      ]
     },
     "metadata": {},
     "output_type": "display_data"
    },
    {
     "data": {
      "text/latex": [
       "$$i B q e^{i a q} - i C q e^{- i a q} - i D k e^{i a k} = 0$$"
      ],
      "text/plain": [
       "       ⅈ⋅a⋅q          -ⅈ⋅a⋅q          ⅈ⋅a⋅k    \n",
       "ⅈ⋅B⋅q⋅ℯ      - ⅈ⋅C⋅q⋅ℯ       - ⅈ⋅D⋅k⋅ℯ      = 0"
      ]
     },
     "metadata": {},
     "output_type": "display_data"
    }
   ],
   "source": [
    "A,B,C,D = symbols('A B C D')\n",
    "q, k, x, a = symbols('q k x a', real=True)\n",
    "psi_1 = exp(I*k*x) + A*exp(-I*k*x)\n",
    "psi_2 = B*exp(I*q*x) + C*exp(-I*q*x)\n",
    "psi_3 = D*exp(I*k*x)\n",
    "# En x = -a\n",
    "step_1=simplify(psi_1.subs(x,-a)-psi_2.subs(x,-a))\n",
    "display('En x= -a',Eq(step_1,0))\n",
    "step_1d=simplify(diff(psi_1,x).subs(x,-a)\\\n",
    "                 -diff(psi_2,x).subs(x,-a))\n",
    "display('En x= -a',Eq(step_1d,0))\n",
    "# En x = a\n",
    "step_11=simplify(psi_2.subs(x,a)-psi_3.subs(x,a))\n",
    "display('En x= a',Eq(step_11,0))\n",
    "step_11d=simplify(diff(psi_2,x).subs(x,a)\\\n",
    "                  -diff(psi_3,x).subs(x,a))\n",
    "display('En x= a',Eq(step_11d,0))\n"
   ]
  },
  {
   "cell_type": "code",
   "execution_count": 3,
   "metadata": {
    "collapsed": true
   },
   "outputs": [],
   "source": [
    "sols =solve([step_1, step_1d, step_11, step_11d])[0]"
   ]
  },
  {
   "cell_type": "code",
   "execution_count": 4,
   "metadata": {},
   "outputs": [
    {
     "data": {
      "text/latex": [
       "$$R = \\frac{\\left(- k + q\\right)^{2} \\left(k + q\\right)^{2} \\left(\\cos{\\left (4 a q \\right )} - 1\\right)}{- k^{4} - 6 k^{2} q^{2} - q^{4} + \\left(k^{4} - 2 k^{2} q^{2} + q^{4}\\right) \\cos{\\left (4 a q \\right )}}$$"
      ],
      "text/plain": [
       "                    2        2                          \n",
       "            (-k + q) ⋅(k + q) ⋅(cos(4⋅a⋅q) - 1)         \n",
       "R = ────────────────────────────────────────────────────\n",
       "       4      2  2    4   ⎛ 4      2  2    4⎞           \n",
       "    - k  - 6⋅k ⋅q  - q  + ⎝k  - 2⋅k ⋅q  + q ⎠⋅cos(4⋅a⋅q)"
      ]
     },
     "metadata": {},
     "output_type": "display_data"
    }
   ],
   "source": [
    "R = trigsimp(expand(sols[A]*conjugate(sols[A]))\\\n",
    "             .rewrite(sin)).collect(cos(4*a*q))\n",
    "display(Eq(Symbol('R'),R))"
   ]
  },
  {
   "cell_type": "markdown",
   "metadata": {},
   "source": [
    "$$ R = \\frac{(k^2-q^2)^2(\\cos(4qa)-1)}{-(k^4+(8-2)k^2q^2+q^2)+(k^2-2k^2q^2+q^4)\\cos(4qa)}$$\n",
    "\n",
    "$$ R = \\frac{(k^2-q^2)^2(\\cos(4qa)-1)}{(k^4-2k^2q^2+q^4)(\\cos(4qa)-1) -8k^2q^2}$$\n",
    "\n",
    "$$ R = \\frac{(k^2-q^2)^2(\\cos(4qa)-1)}{(k^2-q^2)^2(\\cos(4qa)-1) -8k^2q^2}$$"
   ]
  },
  {
   "cell_type": "code",
   "execution_count": 5,
   "metadata": {},
   "outputs": [
    {
     "data": {
      "text/latex": [
       "$$T = \\frac{8 k^{2} q^{2}}{k^{4} + 6 k^{2} q^{2} + q^{4} + \\left(- k^{4} + 2 k^{2} q^{2} - q^{4}\\right) \\cos{\\left (4 a q \\right )}}$$"
      ],
      "text/plain": [
       "                             2  2                       \n",
       "                          8⋅k ⋅q                        \n",
       "T = ────────────────────────────────────────────────────\n",
       "     4      2  2    4   ⎛   4      2  2    4⎞           \n",
       "    k  + 6⋅k ⋅q  + q  + ⎝- k  + 2⋅k ⋅q  - q ⎠⋅cos(4⋅a⋅q)"
      ]
     },
     "metadata": {},
     "output_type": "display_data"
    }
   ],
   "source": [
    "T = trigsimp(expand((sols[D]*conjugate(sols[D]))\\\n",
    "                    .rewrite(sin))).collect(cos(4*a*q))\n",
    "display(Eq(Symbol('T'),T))\n"
   ]
  },
  {
   "cell_type": "markdown",
   "metadata": {},
   "source": [
    "$$ T=\\frac{8k^2q^2}{(k^4 + (8-2)k^2q^2 + q^4)-(k^4-2k^2q^2+q^4)\\cos(4aq)}$$\n",
    "$$ T = \\frac{8k^2q^2}{8k^2q^2+(k^2-q^2)^2(1-\\cos(4aq))} $$\n",
    "\n"
   ]
  },
  {
   "cell_type": "code",
   "execution_count": 6,
   "metadata": {},
   "outputs": [
    {
     "data": {
      "text/latex": [
       "$$1$$"
      ],
      "text/plain": [
       "1"
      ]
     },
     "execution_count": 6,
     "metadata": {},
     "output_type": "execute_result"
    }
   ],
   "source": [
    "#Comprobamos que se cumpla R+T=1\n",
    "simplify(R+T)"
   ]
  },
  {
   "cell_type": "code",
   "execution_count": 7,
   "metadata": {},
   "outputs": [
    {
     "data": {
      "image/png": "[encoded data removed]",
      "text/plain": [
       "<matplotlib.figure.Figure at 0x7fa3eb81c950>"
      ]
     },
     "metadata": {},
     "output_type": "display_data"
    },
    {
     "data": {
      "text/latex": [
       "$$\\left [ \\right ]$$"
      ],
      "text/plain": [
       "[]"
      ]
     },
     "metadata": {},
     "output_type": "display_data"
    }
   ],
   "source": [
    "#Para ver que el coeficiente de transmisión se hace 1, lo graficamos.\n",
    "#Asumimos todas las constantes iguales a 1.\n",
    "E, m, h, V0 = symbols('E m hbar V_0', real=True,\\\n",
    "                      positive=True)\n",
    "T_graph=T.subs(k,sqrt(2*m*E/(h**2))).\\\n",
    "subs(q, sqrt(2*m*(E-V0)/(h**2)))\\\n",
    ".subs(m,1).subs(h,1).subs(V0,1).\\\n",
    "subs(a,1)\n",
    "R_graph=R.subs(k,sqrt(2*m*E/(h**2)))\\\n",
    ".subs(q, sqrt(2*m*(E-V0)/(h**2)))\\\n",
    ".subs(m,1).subs(h,1).subs(V0,1).subs(a,1)\n",
    "p1=plot(T_graph, label='T', color='b',\\\n",
    "        ylabel='T', xlim=(0,10))\n",
    "display(solve(T.subs(k,sqrt(2*m*E/(h**2))).\\\n",
    "              subs(q, sqrt(2*m*(E-V0)/(h**2))),E))"
   ]
  },
  {
   "cell_type": "code",
   "execution_count": 8,
   "metadata": {},
   "outputs": [
    {
     "data": {
      "text/latex": [
       "$$E = V_{0} + \\frac{\\pi^{2} \\hbar^{2}}{8 a^{2} m}$$"
      ],
      "text/plain": [
       "          2   2\n",
       "         π ⋅h̅ \n",
       "E = V₀ + ──────\n",
       "            2  \n",
       "         8⋅a ⋅m"
      ]
     },
     "metadata": {},
     "output_type": "display_data"
    }
   ],
   "source": [
    "#Hallamos para cuales energías se obtiene T=1.\n",
    "E_T1=solve(Eq(T.subs(k,sqrt(2*m*E/(h**2))).\\\n",
    "              subs(q, sqrt(2*m*(E-V0)/(h**2))),1),E)[0]\n",
    "display(Eq(E,E_T1))"
   ]
  },
  {
   "cell_type": "code",
   "execution_count": 9,
   "metadata": {},
   "outputs": [
    {
     "data": {
      "text/latex": [
       "$$V_{0} + 1.39401446049131 \\cdot 10^{-18}$$"
      ],
      "text/plain": [
       "V₀ + 1.39401446049131e-18"
      ]
     },
     "execution_count": 9,
     "metadata": {},
     "output_type": "execute_result"
    }
   ],
   "source": [
    "#La profundidad del potencial está dada por\n",
    "import scipy.constants as sc\n",
    "N(E_T1.subs(a,0.1e-9).subs(h**2,sc.hbar**2)\\\n",
    "  .subs(m,sc.m_e)-0.7*sc.e) #=0"
   ]
  },
  {
   "cell_type": "markdown",
   "metadata": {},
   "source": [
    "Entonces la profundidad del potencial es\n",
    "$$ V_0 = -1.39\\times10^{-18}J=-8.7\\ eV$$"
   ]
  },
  {
   "cell_type": "code",
   "execution_count": 10,
   "metadata": {},
   "outputs": [
    {
     "data": {
      "image/png": "[encoded data removed]",
      "text/plain": [
       "<matplotlib.figure.Figure at 0x7fa3e6d00c10>"
      ]
     },
     "metadata": {},
     "output_type": "display_data"
    }
   ],
   "source": [
    "p2=plot(R_graph, label='R', color='r',\\\n",
    "        ylabel='R', xlim=(0,10))\n"
   ]
  },
  {
   "cell_type": "markdown",
   "metadata": {},
   "source": [
    "El fenómeno puede explicarse mirando la gráfica del coeficiente de reflexión arriba, cuando lo átomos van muy despacio (baja energía) serán siempre reflejados por la barrera de potencial ($R=1$)."
   ]
  },
  {
   "cell_type": "code",
   "execution_count": null,
   "metadata": {
    "collapsed": true
   },
   "outputs": [],
   "source": []
  }
 ],
 "metadata": {
  "anaconda-cloud": {},
  "kernelspec": {
   "display_name": "Python [conda root]",
   "language": "python",
   "name": "conda-root-py"
  },
  "language_info": {
   "codemirror_mode": {
    "name": "ipython",
    "version": 2
   },
   "file_extension": ".py",
   "mimetype": "text/x-python",
   "name": "python",
   "nbconvert_exporter": "python",
   "pygments_lexer": "ipython2",
   "version": "2.7.12"
  }
 },
 "nbformat": 4,
 "nbformat_minor": 1
}
