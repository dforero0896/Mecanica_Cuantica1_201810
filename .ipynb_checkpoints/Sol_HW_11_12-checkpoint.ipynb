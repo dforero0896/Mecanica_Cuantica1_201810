{
 "cells": [
  {
   "cell_type": "code",
   "execution_count": 1,
   "metadata": {},
   "outputs": [],
   "source": [
    "from sympy import *\n",
    "init_printing()\n",
    "from IPython.display import display\n",
    "from sympy.physics.matrices import msigma\n",
    "from sympy.physics.quantum.dagger import Dagger\n",
    "from sympy.physics.quantum import Ket, Bra\n",
    "from sympy.physics.quantum.state import Wavefunction\n",
    "from sympy.physics.quantum import TensorProduct as TP\n"
   ]
  },
  {
   "cell_type": "code",
   "execution_count": 2,
   "metadata": {},
   "outputs": [],
   "source": [
    "a, b, g = symbols('alpha beta gamma')\n",
    "h = symbols('hbar', real=True, positive=True)\n",
    "base_states = [Matrix([[1], [0], [0]]), Matrix([[0], [1], [0]]), Matrix([[0], [0], [1]])]\n",
    "psi_0 = a*base_states[0] + b*base_states[1] + g*base_states[2]\n",
    "Jz = h*Matrix([[1,0,0], [0,0,0],[0,0,-1]])\n",
    "Jx = (h/sqrt(2))*Matrix([[0,1,0], [1,0,1],[0,1,0]])\n",
    "Jy = (h/sqrt(2))*Matrix([[0,-I,0], [I,0,-I],[0,I,0]])\n"
   ]
  },
  {
   "cell_type": "code",
   "execution_count": 8,
   "metadata": {},
   "outputs": [
    {
     "data": {
      "text/plain": [
       "'avg_Jx'"
      ]
     },
     "metadata": {},
     "output_type": "display_data"
    },
    {
     "data": {
      "image/png": "[encoded data removed]",
      "text/latex": [
       "$$\\frac{\\sqrt{2} \\hbar}{2} \\left(\\alpha \\overline{\\beta} + \\beta \\overline{\\alpha} + \\beta \\overline{\\gamma} + \\gamma \\overline{\\beta}\\right)$$"
      ],
      "text/plain": [
       "      ⎛  _     _     _     _⎞\n",
       "√2⋅h̅⋅⎝α⋅β + β⋅α + β⋅γ + γ⋅β⎠\n",
       "─────────────────────────────\n",
       "              2              "
      ]
     },
     "metadata": {},
     "output_type": "display_data"
    },
    {
     "data": {
      "text/plain": [
       "'avg_Jy'"
      ]
     },
     "metadata": {},
     "output_type": "display_data"
    },
    {
     "data": {
      "image/png": "[encoded data removed]",
      "text/latex": [
       "$$\\frac{i \\hbar}{2} \\sqrt{2} \\left(\\alpha \\overline{\\beta} - \\beta \\overline{\\alpha} + \\beta \\overline{\\gamma} - \\gamma \\overline{\\beta}\\right)$$"
      ],
      "text/plain": [
       "        ⎛  _     _     _     _⎞\n",
       "√2⋅ⅈ⋅h̅⋅⎝α⋅β - β⋅α + β⋅γ - γ⋅β⎠\n",
       "───────────────────────────────\n",
       "               2               "
      ]
     },
     "metadata": {},
     "output_type": "display_data"
    },
    {
     "data": {
      "text/plain": [
       "'avg_Jz'"
      ]
     },
     "metadata": {},
     "output_type": "display_data"
    },
    {
     "data": {
      "image/png": "[encoded data removed]",
      "text/latex": [
       "$$\\hbar \\left(\\alpha \\overline{\\alpha} - \\gamma \\overline{\\gamma}\\right)$$"
      ],
      "text/plain": [
       "   ⎛  _     _⎞\n",
       "h̅⋅⎝α⋅α - γ⋅γ⎠"
      ]
     },
     "metadata": {},
     "output_type": "display_data"
    }
   ],
   "source": [
    "avg_Jx = factor(Dagger(psi_0)*(Jx)*psi_0)[0]\n",
    "display('avg_Jx', avg_Jx)\n",
    "avg_Jy = factor(Dagger(psi_0)*(Jy)*psi_0)[0]\n",
    "display('avg_Jy', avg_Jy)\n",
    "avg_Jz = factor(Dagger(psi_0)*(Jz)*psi_0)[0]\n",
    "display('avg_Jz', avg_Jz)"
   ]
  },
  {
   "cell_type": "code",
   "execution_count": 10,
   "metadata": {},
   "outputs": [
    {
     "data": {
      "text/plain": [
       "'avg_Jx_sq'"
      ]
     },
     "metadata": {},
     "output_type": "display_data"
    },
    {
     "data": {
      "image/png": "[encoded data removed]",
      "text/latex": [
       "$$\\frac{\\hbar^{2}}{2} \\left(\\alpha \\left(\\overline{\\alpha} + \\overline{\\gamma}\\right) + 2 \\beta \\overline{\\beta} + \\gamma \\left(\\overline{\\alpha} + \\overline{\\gamma}\\right)\\right)$$"
      ],
      "text/plain": [
       "  2 ⎛  ⎛_   _⎞       _     ⎛_   _⎞⎞\n",
       "h̅ ⋅⎝α⋅⎝α + γ⎠ + 2⋅β⋅β + γ⋅⎝α + γ⎠⎠\n",
       "───────────────────────────────────\n",
       "                 2                 "
      ]
     },
     "metadata": {},
     "output_type": "display_data"
    },
    {
     "data": {
      "text/plain": [
       "'avg_Jy_sq'"
      ]
     },
     "metadata": {},
     "output_type": "display_data"
    },
    {
     "data": {
      "image/png": "[encoded data removed]",
      "text/latex": [
       "$$\\frac{\\hbar^{2}}{2} \\left(\\alpha \\overline{\\alpha} - \\alpha \\overline{\\gamma} + 2 \\beta \\overline{\\beta} - \\gamma \\overline{\\alpha} + \\gamma \\overline{\\gamma}\\right)$$"
      ],
      "text/plain": [
       "  2 ⎛  _     _       _     _     _⎞\n",
       "h̅ ⋅⎝α⋅α - α⋅γ + 2⋅β⋅β - γ⋅α + γ⋅γ⎠\n",
       "───────────────────────────────────\n",
       "                 2                 "
      ]
     },
     "metadata": {},
     "output_type": "display_data"
    },
    {
     "data": {
      "text/plain": [
       "'avg_Jz_sq'"
      ]
     },
     "metadata": {},
     "output_type": "display_data"
    },
    {
     "data": {
      "image/png": "[encoded data removed]",
      "text/latex": [
       "$$\\hbar^{2} \\left(\\alpha \\overline{\\alpha} + \\gamma \\overline{\\gamma}\\right)$$"
      ],
      "text/plain": [
       "  2 ⎛  _     _⎞\n",
       "h̅ ⋅⎝α⋅α + γ⋅γ⎠"
      ]
     },
     "metadata": {},
     "output_type": "display_data"
    }
   ],
   "source": [
    "avg_Jx_sq = simplify(Dagger(psi_0)*(Jx**2)*psi_0)[0]\n",
    "display('avg_Jx_sq', avg_Jx_sq)\n",
    "avg_Jy_sq = factor(Dagger(psi_0)*(Jy**2)*psi_0)[0]\n",
    "display('avg_Jy_sq', avg_Jy_sq)\n",
    "avg_Jz_sq = factor(Dagger(psi_0)*(Jz**2)*psi_0)[0]\n",
    "display('avg_Jz_sq', avg_Jz_sq)"
   ]
  },
  {
   "cell_type": "code",
   "execution_count": 12,
   "metadata": {},
   "outputs": [
    {
     "data": {
      "image/png": "[encoded data removed]",
      "text/latex": [
       "$$2 \\hbar^{2} \\left(\\alpha \\overline{\\alpha} + \\beta \\overline{\\beta} + \\gamma \\overline{\\gamma}\\right)$$"
      ],
      "text/plain": [
       "    2 ⎛  _     _     _⎞\n",
       "2⋅h̅ ⋅⎝α⋅α + β⋅β + γ⋅γ⎠"
      ]
     },
     "execution_count": 12,
     "metadata": {},
     "output_type": "execute_result"
    }
   ],
   "source": [
    "simplify(avg_Jx_sq+avg_Jy_sq+avg_Jz_sq)"
   ]
  },
  {
   "cell_type": "code",
   "execution_count": null,
   "metadata": {},
   "outputs": [],
   "source": []
  }
 ],
 "metadata": {
  "anaconda-cloud": {},
  "kernelspec": {
   "display_name": "Python [conda root]",
   "language": "python",
   "name": "conda-root-py"
  },
  "language_info": {
   "codemirror_mode": {
    "name": "ipython",
    "version": 2
   },
   "file_extension": ".py",
   "mimetype": "text/x-python",
   "name": "python",
   "nbconvert_exporter": "python",
   "pygments_lexer": "ipython2",
   "version": "2.7.14"
  }
 },
 "nbformat": 4,
 "nbformat_minor": 2
}
