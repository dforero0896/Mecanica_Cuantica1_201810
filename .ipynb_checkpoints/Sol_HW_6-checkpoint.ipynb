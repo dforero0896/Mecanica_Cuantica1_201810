{
 "cells": [
  {
   "cell_type": "markdown",
   "metadata": {},
   "source": [
    "# Mecánica Cuántica 1 -201810\n",
    "## Tarea \\# 6 - Solución\n",
    "Elaborada por Daniel Forero."
   ]
  },
  {
   "cell_type": "markdown",
   "metadata": {},
   "source": [
    "### 6."
   ]
  },
  {
   "cell_type": "markdown",
   "metadata": {},
   "source": [
    "Tenemos la primera matrix de Pauli $\\sigma_1$. Debemos ver que una rotación $$\\exp(i\\alpha\\sigma_1) = \\cos\\alpha + i\\sigma_1\\sin\\alpha.$$ Para una rotación infinitesimal ($\\delta\\alpha <<1$) podríamos tomar los primeros términos de la serie de Taylor del lado derecho de la ecuación: $$\\cos\\delta\\alpha \\approx 1$$ $$\\sin\\delta\\alpha \\approx \\delta\\alpha.$$ De esta forma tendríamos que $$\\cos\\delta\\alpha + i\\sigma_1\\sin\\delta\\alpha \\approx 1 + i\\sigma_1\\delta\\alpha.$$ Ahora, un ángulo finito $\\alpha$, puede ser escrito como $N$ ángulos infinitesimales: $\\alpha = N\\delta\\alpha,\\ N\\rightarrow \\infty$. Además, es claro que la aplicación repetida de rotaciones infinitesimales, resultará en una rotación finita, es decir $$\\lim_{N\\rightarrow\\infty} \\left(1+i\\frac{\\alpha}{N}\\sigma_1\\right)^N,$$ note que ésta es precisamente la definición de la función exponencial $\\exp(i\\sigma_1\\alpha).$ Ahora, volviendo al régimen finito, hemos mostrado que\n",
    "$$\\exp(i\\alpha\\sigma_1) = \\cos\\alpha + i\\sigma_1\\sin\\alpha.$$\n",
    "\n",
    "Note que si el lado izquierdo de la ecuación es una rotación, la primera matriz de Pauli (en realidad las tres) son los generadores de estas (de hecho, los operadores de momento angular lo son)."
   ]
  },
  {
   "cell_type": "markdown",
   "metadata": {},
   "source": [
    "### 8.\n",
    "\n",
    "Tomamos el consejo que nos dan, evaluemos $[x,H]$, con $H = \\frac{p^2}{2m} + V(x).$\n",
    "$$[x,H] = xH-Hx = \\frac{1}{2m}[x,p^2] + [x,V(x)].$$ Ahora utilizaremos una propiedad importante. Dados operadores $A,\\ B$, tenemos que $$[A,f(B)] = [A,B]\\frac{df}{dB}.$$\n",
    "De forma que $$[x,H] = \\frac{1}{2m}2p[x,p] + 0 = \\frac{p}{m}i\\hbar,$$ $$p = \\frac{m}{i\\hbar}[x,H].$$  $$ \\langle\\phi_m \\lvert p \\rvert \\phi_n \\rangle  = \\frac{m}{i\\hbar}\\langle\\phi_m \\lvert (xH-Hx) \\rvert \\phi_n \\rangle,$$ \n",
    "\n",
    "\n",
    "$$\\langle\\phi_m \\lvert p \\rvert \\phi_n \\rangle  = \\frac{m}{i\\hbar}\\left(\\langle\\phi_m \\lvert xH \\rvert \\phi_n \\rangle - \\langle\\phi_m \\lvert Hx \\rvert \\phi_n \\rangle\\right),$$\n",
    "\n",
    "\n",
    "$$\\langle\\phi_m \\lvert p \\rvert \\phi_n \\rangle  = \\frac{m}{i\\hbar}\\left(\\langle\\phi_m \\lvert xE_n \\rvert \\phi_n \\rangle - \\langle\\phi_m \\lvert E_mx \\rvert \\phi_n \\rangle\\right) = \\frac{m}{i\\hbar}(E_n - E_m) \\langle\\phi_m \\lvert x \\rvert \\phi_n \\rangle,$$\n",
    "\n",
    "\n",
    "$$ \\langle\\phi_m \\lvert p \\rvert \\phi_n \\rangle  =  \\frac{m}{i\\hbar}(E_n - E_m) \\langle\\phi_m \\lvert x \\rvert \\phi_n \\rangle, \\qquad \\alpha = \\frac{m}{i\\hbar}(E_n-E_m),$$\n",
    "que era lo que se quería demostrar.\n",
    "\n",
    "\n",
    "Para lo siguiente, debido a que vemos que la respuesta es real, multiplicamos ambos lados de la relación obtenida por su complejo conjugado:\n",
    "$$ \\langle\\phi_m \\lvert p \\rvert \\phi_n \\rangle \\langle\\phi_n \\lvert p \\rvert \\phi_m \\rangle  =  \\frac{m^2}{\\hbar^2}(E_n - E_m)^2 \\langle\\phi_m \\lvert x \\rvert \\phi_n \\rangle\\langle\\phi_n \\lvert x \\rvert \\phi_m \\rangle$$\n",
    "\n",
    "\n",
    "$$ \\langle\\phi_m \\lvert p \\rvert \\phi_n \\rangle \\langle\\phi_n \\lvert p \\rvert \\phi_m \\rangle  =  \\frac{m^2}{\\hbar^2}(E_n - E_m)^2 \\lvert\\langle\\phi_m \\lvert x \\rvert \\phi_n \\rangle\\rvert^2.$$\n",
    "Ahora, sumemos a ambos lados sobre todos los $n$:\n",
    "\n",
    "$$ \\sum_n\\langle\\phi_m \\lvert p \\rvert \\phi_n \\rangle \\langle\\phi_n \\lvert p \\rvert \\phi_m \\rangle  =  \\sum_n\\frac{m^2}{\\hbar^2}(E_n - E_m)^2 \\lvert\\langle\\phi_m \\lvert x \\rvert \\phi_n \\rangle\\rvert^2,$$\n",
    "\n",
    "$$ \\langle\\phi_m \\lvert p^2 \\rvert \\phi_m \\rangle  =  \\sum_n\\frac{m^2}{\\hbar^2}(E_n - E_m)^2 \\lvert\\langle\\phi_m \\lvert x \\rvert \\phi_n \\rangle\\rvert^2,$$\n",
    "\n",
    "que era lo que se quería demostrar."
   ]
  }
 ],
 "metadata": {
  "anaconda-cloud": {},
  "kernelspec": {
   "display_name": "Python [conda root]",
   "language": "python",
   "name": "conda-root-py"
  },
  "language_info": {
   "codemirror_mode": {
    "name": "ipython",
    "version": 2
   },
   "file_extension": ".py",
   "mimetype": "text/x-python",
   "name": "python",
   "nbconvert_exporter": "python",
   "pygments_lexer": "ipython2",
   "version": "2.7.14"
  }
 },
 "nbformat": 4,
 "nbformat_minor": 2
}
