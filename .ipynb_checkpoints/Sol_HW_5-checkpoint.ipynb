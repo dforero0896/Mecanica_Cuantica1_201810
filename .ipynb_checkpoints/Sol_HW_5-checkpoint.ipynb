{
 "cells": [
  {
   "cell_type": "markdown",
   "metadata": {
    "nbpresent": {
     "id": "594a03b4-1a6d-4988-9ffd-ed6a6ae96735"
    }
   },
   "source": [
    "# Mecánica Cuántica 1 -201810\n",
    "## Tarea \\# 2 - Solución\n",
    "Elaborada por Daniel Forero."
   ]
  },
  {
   "cell_type": "code",
   "execution_count": 1,
   "metadata": {
    "nbpresent": {
     "id": "442a3168-b2b1-45a1-b1b0-0a93ae06e7ff"
    }
   },
   "outputs": [],
   "source": [
    "from sympy import *\n",
    "init_printing()\n",
    "from IPython.display import display"
   ]
  },
  {
   "cell_type": "markdown",
   "metadata": {
    "nbpresent": {
     "id": "cc2f50c7-4ccd-4aaf-9649-e94c086bc406"
    }
   },
   "source": [
    "### 2. \n",
    "Tenemos un espacio vectorial bidimensional expandido por $\\{\\lvert 1\\rangle, \\lvert 2\\rangle\\}$.\n",
    "\n",
    "Además, se nos da la matriz $\\sigma_2$ (segunda matriz de Pauli), para comprobar su hermicidad basta con comprobar $$\\sigma_2=\\sigma^\\dagger_2.$$"
   ]
  },
  {
   "cell_type": "code",
   "execution_count": 2,
   "metadata": {
    "nbpresent": {
     "id": "c6cfab1a-8d67-4b42-a8d8-4f119e8e5114"
    }
   },
   "outputs": [
    {
     "data": {
      "image/png": "[encoded data removed]",
      "text/latex": [
       "$$\\left[\\begin{matrix}0 & - i\\\\i & 0\\end{matrix}\\right]$$"
      ],
      "text/plain": [
       "⎡0  -ⅈ⎤\n",
       "⎢     ⎥\n",
       "⎣ⅈ  0 ⎦"
      ]
     },
     "metadata": {},
     "output_type": "display_data"
    },
    {
     "data": {
      "text/plain": [
       "True"
      ]
     },
     "metadata": {},
     "output_type": "display_data"
    }
   ],
   "source": [
    "from sympy.physics.matrices import msigma\n",
    "sigma_2 = msigma(2)\n",
    "\n",
    "display(sigma_2.transpose().conjugate())\n",
    "display(sigma_2.transpose().conjugate()==sigma_2)"
   ]
  },
  {
   "cell_type": "markdown",
   "metadata": {
    "nbpresent": {
     "id": "f6aeed74-f76e-47f8-9280-a2e9f79def0a"
    }
   },
   "source": [
    "Como vemos, la relación se cumple. Además podemos notar que $\\sigma_2^\\dagger\\sigma_2 = 1$, es decir $\\sigma_2^2 = 1$ esta relación se cumple para todas las matrices $\\sigma_i,\\ i=1,2,3$. Concluimos que la matriz es hermítica (y unitaria), el observable asociado a estas matrices es el spin $S_i = \\frac{\\hbar}{2}\\sigma_i$.\n",
    "\n",
    "A continuación calculamos los vectores y valores propios."
   ]
  },
  {
   "cell_type": "code",
   "execution_count": 3,
   "metadata": {
    "nbpresent": {
     "id": "57b1c747-c038-454a-be58-dbecc0eb0830"
    }
   },
   "outputs": [
    {
     "data": {
      "image/png": "[encoded data removed]",
      "text/latex": [
       "$$\\left [ \\left ( -1, \\quad 1, \\quad \\left [ \\left[\\begin{matrix}i\\\\1\\end{matrix}\\right]\\right ]\\right ), \\quad \\left ( 1, \\quad 1, \\quad \\left [ \\left[\\begin{matrix}- i\\\\1\\end{matrix}\\right]\\right ]\\right )\\right ]$$"
      ],
      "text/plain": [
       "⎡⎛       ⎡⎡ⅈ⎤⎤⎞  ⎛      ⎡⎡-ⅈ⎤⎤⎞⎤\n",
       "⎢⎜-1, 1, ⎢⎢ ⎥⎥⎟, ⎜1, 1, ⎢⎢  ⎥⎥⎟⎥\n",
       "⎣⎝       ⎣⎣1⎦⎦⎠  ⎝      ⎣⎣1 ⎦⎦⎠⎦"
      ]
     },
     "metadata": {},
     "output_type": "display_data"
    }
   ],
   "source": [
    "evect = sigma_2.eigenvects()\n",
    "display(evect)\n",
    "ket_p = evect[0][-1][0]\n",
    "ket_p/=ket_p.norm()\n",
    "ket_m = evect[1][-1][0]\n",
    "ket_m/=ket_m.norm()\n",
    "ket_1 = Matrix([[1],[0]])\n",
    "ket_1/=ket_1.norm()\n",
    "ket_2 = Matrix([[0],[1]])\n",
    "ket_2/=ket_2.norm()\n",
    "base_1 = [ket_1, ket_2]\n",
    "evects_1 = [ket_p, ket_m]"
   ]
  },
  {
   "cell_type": "markdown",
   "metadata": {
    "nbpresent": {
     "id": "543b6d42-9f42-4119-9bc0-5835be1efd7a"
    }
   },
   "source": [
    "La diagonalización es sencilla, se espera hecha a mano. Vemos que la matriz tiene valores propios son $\\lambda_\\pm = \\pm 1$, con multiplicidad 1 (segunda entrada) y con los vectores propios mostrados $\\{\\lvert -\\rangle,\\ \\lvert +\\rangle\\},$ respectivamente.\n",
    "En la base dada, podemos expresar: $$\\lvert +\\rangle = \\frac{1}{\\sqrt{2}}(i\\lvert1\\rangle + \\lvert2\\rangle)$$\n",
    "$$\\lvert -\\rangle = \\frac{1}{\\sqrt{2}}(-i\\lvert1\\rangle + \\lvert2\\rangle)$$\n",
    "\n",
    "Los proyectores a estos vectores propios son $P_\\pm = \\lvert\\pm\\rangle\\langle\\pm\\lvert$. Para calcular las matrices asociadas (en la base $\\{\\lvert 1\\rangle, \\lvert 2\\rangle\\}$) solamente aplicamos $P_{\\pm,ij} = \\langle i \\rvert P_\\pm \\lvert j \\rangle$."
   ]
  },
  {
   "cell_type": "code",
   "execution_count": 4,
   "metadata": {},
   "outputs": [],
   "source": [
    "def bra_ket(vec1, vec2):\n",
    "    return ((vec1.transpose().conjugate())*vec2)[0]\n",
    "def build_projectors(base,pr):\n",
    "    \n",
    "    P = zeros(len(base))\n",
    "    for i in range(len(base)):\n",
    "        for k in range(len(base)):\n",
    "            P[i,k] = bra_ket(base[i], pr)*bra_ket(pr, base[k])\n",
    "    return P\n"
   ]
  },
  {
   "cell_type": "code",
   "execution_count": 5,
   "metadata": {
    "nbpresent": {
     "id": "3569b28a-fd8d-4a6c-b22d-7af6dd8a051d"
    }
   },
   "outputs": [
    {
     "data": {
      "text/plain": [
       "'For eigket'"
      ]
     },
     "metadata": {},
     "output_type": "display_data"
    },
    {
     "data": {
      "image/png": "[encoded data removed]",
      "text/latex": [
       "$$\\left[\\begin{matrix}\\frac{\\sqrt{2} i}{2}\\\\\\frac{\\sqrt{2}}{2}\\end{matrix}\\right]$$"
      ],
      "text/plain": [
       "⎡√2⋅ⅈ⎤\n",
       "⎢────⎥\n",
       "⎢ 2  ⎥\n",
       "⎢    ⎥\n",
       "⎢ √2 ⎥\n",
       "⎢ ── ⎥\n",
       "⎣ 2  ⎦"
      ]
     },
     "metadata": {},
     "output_type": "display_data"
    },
    {
     "data": {
      "text/plain": [
       "'Matrix'"
      ]
     },
     "metadata": {},
     "output_type": "display_data"
    },
    {
     "data": {
      "image/png": "[encoded data removed]",
      "text/latex": [
       "$$\\left[\\begin{matrix}\\frac{1}{2} & \\frac{i}{2}\\\\- \\frac{i}{2} & \\frac{1}{2}\\end{matrix}\\right]$$"
      ],
      "text/plain": [
       "⎡      ⅈ ⎤\n",
       "⎢1/2   ─ ⎥\n",
       "⎢      2 ⎥\n",
       "⎢        ⎥\n",
       "⎢-ⅈ      ⎥\n",
       "⎢───  1/2⎥\n",
       "⎣ 2      ⎦"
      ]
     },
     "metadata": {},
     "output_type": "display_data"
    },
    {
     "data": {
      "text/plain": [
       "'Projector?'"
      ]
     },
     "metadata": {},
     "output_type": "display_data"
    },
    {
     "data": {
      "text/plain": [
       "True"
      ]
     },
     "metadata": {},
     "output_type": "display_data"
    },
    {
     "data": {
      "image/png": "[encoded data removed]",
      "text/latex": [
       "$$\\left[\\begin{matrix}\\frac{1}{2} & \\frac{i}{2}\\\\- \\frac{i}{2} & \\frac{1}{2}\\end{matrix}\\right]$$"
      ],
      "text/plain": [
       "⎡      ⅈ ⎤\n",
       "⎢1/2   ─ ⎥\n",
       "⎢      2 ⎥\n",
       "⎢        ⎥\n",
       "⎢-ⅈ      ⎥\n",
       "⎢───  1/2⎥\n",
       "⎣ 2      ⎦"
      ]
     },
     "metadata": {},
     "output_type": "display_data"
    },
    {
     "data": {
      "image/png": "[encoded data removed]",
      "text/latex": [
       "$$\\left[\\begin{matrix}\\frac{1}{2} & \\frac{i}{2}\\\\- \\frac{i}{2} & \\frac{1}{2}\\end{matrix}\\right]$$"
      ],
      "text/plain": [
       "⎡      ⅈ ⎤\n",
       "⎢1/2   ─ ⎥\n",
       "⎢      2 ⎥\n",
       "⎢        ⎥\n",
       "⎢-ⅈ      ⎥\n",
       "⎢───  1/2⎥\n",
       "⎣ 2      ⎦"
      ]
     },
     "metadata": {},
     "output_type": "display_data"
    },
    {
     "data": {
      "text/plain": [
       "'For eigket'"
      ]
     },
     "metadata": {},
     "output_type": "display_data"
    },
    {
     "data": {
      "image/png": "[encoded data removed]",
      "text/latex": [
       "$$\\left[\\begin{matrix}- \\frac{\\sqrt{2} i}{2}\\\\\\frac{\\sqrt{2}}{2}\\end{matrix}\\right]$$"
      ],
      "text/plain": [
       "⎡-√2⋅ⅈ ⎤\n",
       "⎢──────⎥\n",
       "⎢  2   ⎥\n",
       "⎢      ⎥\n",
       "⎢  √2  ⎥\n",
       "⎢  ──  ⎥\n",
       "⎣  2   ⎦"
      ]
     },
     "metadata": {},
     "output_type": "display_data"
    },
    {
     "data": {
      "text/plain": [
       "'Matrix'"
      ]
     },
     "metadata": {},
     "output_type": "display_data"
    },
    {
     "data": {
      "image/png": "[encoded data removed]",
      "text/latex": [
       "$$\\left[\\begin{matrix}\\frac{1}{2} & - \\frac{i}{2}\\\\\\frac{i}{2} & \\frac{1}{2}\\end{matrix}\\right]$$"
      ],
      "text/plain": [
       "⎡     -ⅈ ⎤\n",
       "⎢1/2  ───⎥\n",
       "⎢      2 ⎥\n",
       "⎢        ⎥\n",
       "⎢ ⅈ      ⎥\n",
       "⎢ ─   1/2⎥\n",
       "⎣ 2      ⎦"
      ]
     },
     "metadata": {},
     "output_type": "display_data"
    },
    {
     "data": {
      "text/plain": [
       "'Projector?'"
      ]
     },
     "metadata": {},
     "output_type": "display_data"
    },
    {
     "data": {
      "text/plain": [
       "True"
      ]
     },
     "metadata": {},
     "output_type": "display_data"
    },
    {
     "data": {
      "image/png": "[encoded data removed]",
      "text/latex": [
       "$$\\left[\\begin{matrix}\\frac{1}{2} & - \\frac{i}{2}\\\\\\frac{i}{2} & \\frac{1}{2}\\end{matrix}\\right]$$"
      ],
      "text/plain": [
       "⎡     -ⅈ ⎤\n",
       "⎢1/2  ───⎥\n",
       "⎢      2 ⎥\n",
       "⎢        ⎥\n",
       "⎢ ⅈ      ⎥\n",
       "⎢ ─   1/2⎥\n",
       "⎣ 2      ⎦"
      ]
     },
     "metadata": {},
     "output_type": "display_data"
    },
    {
     "data": {
      "image/png": "[encoded data removed]",
      "text/latex": [
       "$$\\left[\\begin{matrix}\\frac{1}{2} & - \\frac{i}{2}\\\\\\frac{i}{2} & \\frac{1}{2}\\end{matrix}\\right]$$"
      ],
      "text/plain": [
       "⎡     -ⅈ ⎤\n",
       "⎢1/2  ───⎥\n",
       "⎢      2 ⎥\n",
       "⎢        ⎥\n",
       "⎢ ⅈ      ⎥\n",
       "⎢ ─   1/2⎥\n",
       "⎣ 2      ⎦"
      ]
     },
     "metadata": {},
     "output_type": "display_data"
    },
    {
     "data": {
      "text/plain": [
       "'Closed?'"
      ]
     },
     "metadata": {},
     "output_type": "display_data"
    },
    {
     "data": {
      "text/plain": [
       "True"
      ]
     },
     "metadata": {},
     "output_type": "display_data"
    },
    {
     "data": {
      "text/plain": [
       "'Orthogonal?'"
      ]
     },
     "metadata": {},
     "output_type": "display_data"
    },
    {
     "data": {
      "text/plain": [
       "True"
      ]
     },
     "metadata": {},
     "output_type": "display_data"
    }
   ],
   "source": [
    "Ps = []\n",
    "for ket in evects_1:\n",
    "    P =build_projectors(base_1, ket)\n",
    "    Ps.append(P)\n",
    "    display('For eigket',ket)\n",
    "    display ('Matrix',P,'Projector?',P**2==P,P**2,P )\n",
    "    \n",
    "display('Closed?',reduce(lambda x, y: x+y, Ps)==eye(2))\n",
    "display('Orthogonal?',reduce(lambda x, y: x*y, Ps)==zeros(2))"
   ]
  },
  {
   "cell_type": "code",
   "execution_count": 6,
   "metadata": {},
   "outputs": [],
   "source": [
    "def do_hw(matrix, base):\n",
    "    evect = matrix.eigenvects()\n",
    "    display('Eigenvalues, multiplicity, eigenvectors (no norm.)',evect)\n",
    "    evects = []\n",
    "    for i in range(len(base)):\n",
    "        k =evect[i][-1][0]\n",
    "        k/=k.norm()\n",
    "        evects.append(k)\n",
    "    Ps = []\n",
    "    for ket in evects:\n",
    "        P =build_projectors(base, ket)\n",
    "        Ps.append(P)\n",
    "        display('For eigket',ket)\n",
    "        display ('Matrix',P,'Projector?',P**2==P,P**2,P )\n",
    "    \n",
    "    display('Closed?',reduce(lambda x, y: x+y, Ps)==eye(len(base)))\n",
    "    display('Orthogonal?',reduce(lambda x, y: x*y, Ps)==zeros(len(base)))\n"
   ]
  },
  {
   "cell_type": "code",
   "execution_count": 7,
   "metadata": {},
   "outputs": [
    {
     "data": {
      "text/plain": [
       "'Eigenvalues, multiplicity, eigenvectors (no norm.)'"
      ]
     },
     "metadata": {},
     "output_type": "display_data"
    },
    {
     "data": {
      "image/png": "[encoded data removed]",
      "text/latex": [
       "$$\\left [ \\left ( 1, \\quad 1, \\quad \\left [ \\left[\\begin{matrix}- \\sqrt{2} i\\\\1\\end{matrix}\\right]\\right ]\\right ), \\quad \\left ( 4, \\quad 1, \\quad \\left [ \\left[\\begin{matrix}\\frac{\\sqrt{2} i}{2}\\\\1\\end{matrix}\\right]\\right ]\\right )\\right ]$$"
      ],
      "text/plain": [
       "⎡                   ⎛      ⎡⎡√2⋅ⅈ⎤⎤⎞⎤\n",
       "⎢⎛      ⎡⎡-√2⋅ⅈ⎤⎤⎞  ⎜      ⎢⎢────⎥⎥⎟⎥\n",
       "⎢⎜1, 1, ⎢⎢     ⎥⎥⎟, ⎜4, 1, ⎢⎢ 2  ⎥⎥⎟⎥\n",
       "⎢⎝      ⎣⎣  1  ⎦⎦⎠  ⎜      ⎢⎢    ⎥⎥⎟⎥\n",
       "⎣                   ⎝      ⎣⎣ 1  ⎦⎦⎠⎦"
      ]
     },
     "metadata": {},
     "output_type": "display_data"
    },
    {
     "data": {
      "text/plain": [
       "'For eigket'"
      ]
     },
     "metadata": {},
     "output_type": "display_data"
    },
    {
     "data": {
      "image/png": "[encoded data removed]",
      "text/latex": [
       "$$\\left[\\begin{matrix}- \\frac{\\sqrt{6} i}{3}\\\\\\frac{\\sqrt{3}}{3}\\end{matrix}\\right]$$"
      ],
      "text/plain": [
       "⎡-√6⋅ⅈ ⎤\n",
       "⎢──────⎥\n",
       "⎢  3   ⎥\n",
       "⎢      ⎥\n",
       "⎢  √3  ⎥\n",
       "⎢  ──  ⎥\n",
       "⎣  3   ⎦"
      ]
     },
     "metadata": {},
     "output_type": "display_data"
    },
    {
     "data": {
      "text/plain": [
       "'Matrix'"
      ]
     },
     "metadata": {},
     "output_type": "display_data"
    },
    {
     "data": {
      "image/png": "[encoded data removed]",
      "text/latex": [
       "$$\\left[\\begin{matrix}\\frac{2}{3} & - \\frac{\\sqrt{2} i}{3}\\\\\\frac{\\sqrt{2} i}{3} & \\frac{1}{3}\\end{matrix}\\right]$$"
      ],
      "text/plain": [
       "⎡      -√2⋅ⅈ ⎤\n",
       "⎢2/3   ──────⎥\n",
       "⎢        3   ⎥\n",
       "⎢            ⎥\n",
       "⎢√2⋅ⅈ        ⎥\n",
       "⎢────   1/3  ⎥\n",
       "⎣ 3          ⎦"
      ]
     },
     "metadata": {},
     "output_type": "display_data"
    },
    {
     "data": {
      "text/plain": [
       "'Projector?'"
      ]
     },
     "metadata": {},
     "output_type": "display_data"
    },
    {
     "data": {
      "text/plain": [
       "True"
      ]
     },
     "metadata": {},
     "output_type": "display_data"
    },
    {
     "data": {
      "image/png": "[encoded data removed]",
      "text/latex": [
       "$$\\left[\\begin{matrix}\\frac{2}{3} & - \\frac{\\sqrt{2} i}{3}\\\\\\frac{\\sqrt{2} i}{3} & \\frac{1}{3}\\end{matrix}\\right]$$"
      ],
      "text/plain": [
       "⎡      -√2⋅ⅈ ⎤\n",
       "⎢2/3   ──────⎥\n",
       "⎢        3   ⎥\n",
       "⎢            ⎥\n",
       "⎢√2⋅ⅈ        ⎥\n",
       "⎢────   1/3  ⎥\n",
       "⎣ 3          ⎦"
      ]
     },
     "metadata": {},
     "output_type": "display_data"
    },
    {
     "data": {
      "image/png": "[encoded data removed]",
      "text/latex": [
       "$$\\left[\\begin{matrix}\\frac{2}{3} & - \\frac{\\sqrt{2} i}{3}\\\\\\frac{\\sqrt{2} i}{3} & \\frac{1}{3}\\end{matrix}\\right]$$"
      ],
      "text/plain": [
       "⎡      -√2⋅ⅈ ⎤\n",
       "⎢2/3   ──────⎥\n",
       "⎢        3   ⎥\n",
       "⎢            ⎥\n",
       "⎢√2⋅ⅈ        ⎥\n",
       "⎢────   1/3  ⎥\n",
       "⎣ 3          ⎦"
      ]
     },
     "metadata": {},
     "output_type": "display_data"
    },
    {
     "data": {
      "text/plain": [
       "'For eigket'"
      ]
     },
     "metadata": {},
     "output_type": "display_data"
    },
    {
     "data": {
      "image/png": "[encoded data removed]",
      "text/latex": [
       "$$\\left[\\begin{matrix}\\frac{\\sqrt{3} i}{3}\\\\\\frac{\\sqrt{6}}{3}\\end{matrix}\\right]$$"
      ],
      "text/plain": [
       "⎡√3⋅ⅈ⎤\n",
       "⎢────⎥\n",
       "⎢ 3  ⎥\n",
       "⎢    ⎥\n",
       "⎢ √6 ⎥\n",
       "⎢ ── ⎥\n",
       "⎣ 3  ⎦"
      ]
     },
     "metadata": {},
     "output_type": "display_data"
    },
    {
     "data": {
      "text/plain": [
       "'Matrix'"
      ]
     },
     "metadata": {},
     "output_type": "display_data"
    },
    {
     "data": {
      "image/png": "[encoded data removed]",
      "text/latex": [
       "$$\\left[\\begin{matrix}\\frac{1}{3} & \\frac{\\sqrt{2} i}{3}\\\\- \\frac{\\sqrt{2} i}{3} & \\frac{2}{3}\\end{matrix}\\right]$$"
      ],
      "text/plain": [
       "⎡        √2⋅ⅈ⎤\n",
       "⎢ 1/3    ────⎥\n",
       "⎢         3  ⎥\n",
       "⎢            ⎥\n",
       "⎢-√2⋅ⅈ       ⎥\n",
       "⎢──────  2/3 ⎥\n",
       "⎣  3         ⎦"
      ]
     },
     "metadata": {},
     "output_type": "display_data"
    },
    {
     "data": {
      "text/plain": [
       "'Projector?'"
      ]
     },
     "metadata": {},
     "output_type": "display_data"
    },
    {
     "data": {
      "text/plain": [
       "True"
      ]
     },
     "metadata": {},
     "output_type": "display_data"
    },
    {
     "data": {
      "image/png": "[encoded data removed]",
      "text/latex": [
       "$$\\left[\\begin{matrix}\\frac{1}{3} & \\frac{\\sqrt{2} i}{3}\\\\- \\frac{\\sqrt{2} i}{3} & \\frac{2}{3}\\end{matrix}\\right]$$"
      ],
      "text/plain": [
       "⎡        √2⋅ⅈ⎤\n",
       "⎢ 1/3    ────⎥\n",
       "⎢         3  ⎥\n",
       "⎢            ⎥\n",
       "⎢-√2⋅ⅈ       ⎥\n",
       "⎢──────  2/3 ⎥\n",
       "⎣  3         ⎦"
      ]
     },
     "metadata": {},
     "output_type": "display_data"
    },
    {
     "data": {
      "image/png": "[encoded data removed]",
      "text/latex": [
       "$$\\left[\\begin{matrix}\\frac{1}{3} & \\frac{\\sqrt{2} i}{3}\\\\- \\frac{\\sqrt{2} i}{3} & \\frac{2}{3}\\end{matrix}\\right]$$"
      ],
      "text/plain": [
       "⎡        √2⋅ⅈ⎤\n",
       "⎢ 1/3    ────⎥\n",
       "⎢         3  ⎥\n",
       "⎢            ⎥\n",
       "⎢-√2⋅ⅈ       ⎥\n",
       "⎢──────  2/3 ⎥\n",
       "⎣  3         ⎦"
      ]
     },
     "metadata": {},
     "output_type": "display_data"
    },
    {
     "data": {
      "text/plain": [
       "'Closed?'"
      ]
     },
     "metadata": {},
     "output_type": "display_data"
    },
    {
     "data": {
      "text/plain": [
       "True"
      ]
     },
     "metadata": {},
     "output_type": "display_data"
    },
    {
     "data": {
      "text/plain": [
       "'Orthogonal?'"
      ]
     },
     "metadata": {},
     "output_type": "display_data"
    },
    {
     "data": {
      "text/plain": [
       "True"
      ]
     },
     "metadata": {},
     "output_type": "display_data"
    }
   ],
   "source": [
    "second_mat = Matrix([[2, sqrt(2)*I],[-sqrt(2)*I,3]])\n",
    "do_hw(second_mat, base_1)"
   ]
  },
  {
   "cell_type": "code",
   "execution_count": 8,
   "metadata": {
    "scrolled": false
   },
   "outputs": [
    {
     "data": {
      "text/plain": [
       "'Eigenvalues, multiplicity, eigenvectors (no norm.)'"
      ]
     },
     "metadata": {},
     "output_type": "display_data"
    },
    {
     "data": {
      "image/png": "[encoded data removed]",
      "text/latex": [
       "$$\\left [ \\left ( 0, \\quad 1, \\quad \\left [ \\left[\\begin{matrix}1\\\\0\\\\1\\end{matrix}\\right]\\right ]\\right ), \\quad \\left ( - \\hbar, \\quad 1, \\quad \\left [ \\left[\\begin{matrix}-1\\\\\\sqrt{2} i\\\\1\\end{matrix}\\right]\\right ]\\right ), \\quad \\left ( \\hbar, \\quad 1, \\quad \\left [ \\left[\\begin{matrix}-1\\\\- \\sqrt{2} i\\\\1\\end{matrix}\\right]\\right ]\\right )\\right ]$$"
      ],
      "text/plain": [
       "⎡⎛      ⎡⎡1⎤⎤⎞  ⎛        ⎡⎡ -1 ⎤⎤⎞  ⎛       ⎡⎡ -1  ⎤⎤⎞⎤\n",
       "⎢⎜      ⎢⎢ ⎥⎥⎟  ⎜        ⎢⎢    ⎥⎥⎟  ⎜       ⎢⎢     ⎥⎥⎟⎥\n",
       "⎢⎜0, 1, ⎢⎢0⎥⎥⎟, ⎜-h̅, 1, ⎢⎢√2⋅ⅈ⎥⎥⎟, ⎜h̅, 1, ⎢⎢-√2⋅ⅈ⎥⎥⎟⎥\n",
       "⎢⎜      ⎢⎢ ⎥⎥⎟  ⎜        ⎢⎢    ⎥⎥⎟  ⎜       ⎢⎢     ⎥⎥⎟⎥\n",
       "⎣⎝      ⎣⎣1⎦⎦⎠  ⎝        ⎣⎣ 1  ⎦⎦⎠  ⎝       ⎣⎣  1  ⎦⎦⎠⎦"
      ]
     },
     "metadata": {},
     "output_type": "display_data"
    },
    {
     "data": {
      "text/plain": [
       "'For eigket'"
      ]
     },
     "metadata": {},
     "output_type": "display_data"
    },
    {
     "data": {
      "image/png": "[encoded data removed]",
      "text/latex": [
       "$$\\left[\\begin{matrix}\\frac{\\sqrt{2}}{2}\\\\0\\\\\\frac{\\sqrt{2}}{2}\\end{matrix}\\right]$$"
      ],
      "text/plain": [
       "⎡√2⎤\n",
       "⎢──⎥\n",
       "⎢2 ⎥\n",
       "⎢  ⎥\n",
       "⎢0 ⎥\n",
       "⎢  ⎥\n",
       "⎢√2⎥\n",
       "⎢──⎥\n",
       "⎣2 ⎦"
      ]
     },
     "metadata": {},
     "output_type": "display_data"
    },
    {
     "data": {
      "text/plain": [
       "'Matrix'"
      ]
     },
     "metadata": {},
     "output_type": "display_data"
    },
    {
     "data": {
      "image/png": "[encoded data removed]",
      "text/latex": [
       "$$\\left[\\begin{matrix}\\frac{1}{2} & 0 & \\frac{1}{2}\\\\0 & 0 & 0\\\\\\frac{1}{2} & 0 & \\frac{1}{2}\\end{matrix}\\right]$$"
      ],
      "text/plain": [
       "⎡1/2  0  1/2⎤\n",
       "⎢           ⎥\n",
       "⎢ 0   0   0 ⎥\n",
       "⎢           ⎥\n",
       "⎣1/2  0  1/2⎦"
      ]
     },
     "metadata": {},
     "output_type": "display_data"
    },
    {
     "data": {
      "text/plain": [
       "'Projector?'"
      ]
     },
     "metadata": {},
     "output_type": "display_data"
    },
    {
     "data": {
      "text/plain": [
       "True"
      ]
     },
     "metadata": {},
     "output_type": "display_data"
    },
    {
     "data": {
      "image/png": "[encoded data removed]",
      "text/latex": [
       "$$\\left[\\begin{matrix}\\frac{1}{2} & 0 & \\frac{1}{2}\\\\0 & 0 & 0\\\\\\frac{1}{2} & 0 & \\frac{1}{2}\\end{matrix}\\right]$$"
      ],
      "text/plain": [
       "⎡1/2  0  1/2⎤\n",
       "⎢           ⎥\n",
       "⎢ 0   0   0 ⎥\n",
       "⎢           ⎥\n",
       "⎣1/2  0  1/2⎦"
      ]
     },
     "metadata": {},
     "output_type": "display_data"
    },
    {
     "data": {
      "image/png": "[encoded data removed]",
      "text/latex": [
       "$$\\left[\\begin{matrix}\\frac{1}{2} & 0 & \\frac{1}{2}\\\\0 & 0 & 0\\\\\\frac{1}{2} & 0 & \\frac{1}{2}\\end{matrix}\\right]$$"
      ],
      "text/plain": [
       "⎡1/2  0  1/2⎤\n",
       "⎢           ⎥\n",
       "⎢ 0   0   0 ⎥\n",
       "⎢           ⎥\n",
       "⎣1/2  0  1/2⎦"
      ]
     },
     "metadata": {},
     "output_type": "display_data"
    },
    {
     "data": {
      "text/plain": [
       "'For eigket'"
      ]
     },
     "metadata": {},
     "output_type": "display_data"
    },
    {
     "data": {
      "image/png": "[encoded data removed]",
      "text/latex": [
       "$$\\left[\\begin{matrix}- \\frac{1}{2}\\\\\\frac{\\sqrt{2} i}{2}\\\\\\frac{1}{2}\\end{matrix}\\right]$$"
      ],
      "text/plain": [
       "⎡-1/2⎤\n",
       "⎢    ⎥\n",
       "⎢√2⋅ⅈ⎥\n",
       "⎢────⎥\n",
       "⎢ 2  ⎥\n",
       "⎢    ⎥\n",
       "⎣1/2 ⎦"
      ]
     },
     "metadata": {},
     "output_type": "display_data"
    },
    {
     "data": {
      "text/plain": [
       "'Matrix'"
      ]
     },
     "metadata": {},
     "output_type": "display_data"
    },
    {
     "data": {
      "image/png": "[encoded data removed]",
      "text/latex": [
       "$$\\left[\\begin{matrix}\\frac{1}{4} & \\frac{\\sqrt{2} i}{4} & - \\frac{1}{4}\\\\- \\frac{\\sqrt{2} i}{4} & \\frac{1}{2} & \\frac{\\sqrt{2} i}{4}\\\\- \\frac{1}{4} & - \\frac{\\sqrt{2} i}{4} & \\frac{1}{4}\\end{matrix}\\right]$$"
      ],
      "text/plain": [
       "⎡         √2⋅ⅈ       ⎤\n",
       "⎢ 1/4     ────   -1/4⎥\n",
       "⎢          4         ⎥\n",
       "⎢                    ⎥\n",
       "⎢-√2⋅ⅈ           √2⋅ⅈ⎥\n",
       "⎢──────   1/2    ────⎥\n",
       "⎢  4              4  ⎥\n",
       "⎢                    ⎥\n",
       "⎢        -√2⋅ⅈ       ⎥\n",
       "⎢ -1/4   ──────  1/4 ⎥\n",
       "⎣          4         ⎦"
      ]
     },
     "metadata": {},
     "output_type": "display_data"
    },
    {
     "data": {
      "text/plain": [
       "'Projector?'"
      ]
     },
     "metadata": {},
     "output_type": "display_data"
    },
    {
     "data": {
      "text/plain": [
       "True"
      ]
     },
     "metadata": {},
     "output_type": "display_data"
    },
    {
     "data": {
      "image/png": "[encoded data removed]",
      "text/latex": [
       "$$\\left[\\begin{matrix}\\frac{1}{4} & \\frac{\\sqrt{2} i}{4} & - \\frac{1}{4}\\\\- \\frac{\\sqrt{2} i}{4} & \\frac{1}{2} & \\frac{\\sqrt{2} i}{4}\\\\- \\frac{1}{4} & - \\frac{\\sqrt{2} i}{4} & \\frac{1}{4}\\end{matrix}\\right]$$"
      ],
      "text/plain": [
       "⎡         √2⋅ⅈ       ⎤\n",
       "⎢ 1/4     ────   -1/4⎥\n",
       "⎢          4         ⎥\n",
       "⎢                    ⎥\n",
       "⎢-√2⋅ⅈ           √2⋅ⅈ⎥\n",
       "⎢──────   1/2    ────⎥\n",
       "⎢  4              4  ⎥\n",
       "⎢                    ⎥\n",
       "⎢        -√2⋅ⅈ       ⎥\n",
       "⎢ -1/4   ──────  1/4 ⎥\n",
       "⎣          4         ⎦"
      ]
     },
     "metadata": {},
     "output_type": "display_data"
    },
    {
     "data": {
      "image/png": "[encoded data removed]",
      "text/latex": [
       "$$\\left[\\begin{matrix}\\frac{1}{4} & \\frac{\\sqrt{2} i}{4} & - \\frac{1}{4}\\\\- \\frac{\\sqrt{2} i}{4} & \\frac{1}{2} & \\frac{\\sqrt{2} i}{4}\\\\- \\frac{1}{4} & - \\frac{\\sqrt{2} i}{4} & \\frac{1}{4}\\end{matrix}\\right]$$"
      ],
      "text/plain": [
       "⎡         √2⋅ⅈ       ⎤\n",
       "⎢ 1/4     ────   -1/4⎥\n",
       "⎢          4         ⎥\n",
       "⎢                    ⎥\n",
       "⎢-√2⋅ⅈ           √2⋅ⅈ⎥\n",
       "⎢──────   1/2    ────⎥\n",
       "⎢  4              4  ⎥\n",
       "⎢                    ⎥\n",
       "⎢        -√2⋅ⅈ       ⎥\n",
       "⎢ -1/4   ──────  1/4 ⎥\n",
       "⎣          4         ⎦"
      ]
     },
     "metadata": {},
     "output_type": "display_data"
    },
    {
     "data": {
      "text/plain": [
       "'For eigket'"
      ]
     },
     "metadata": {},
     "output_type": "display_data"
    },
    {
     "data": {
      "image/png": "[encoded data removed]",
      "text/latex": [
       "$$\\left[\\begin{matrix}- \\frac{1}{2}\\\\- \\frac{\\sqrt{2} i}{2}\\\\\\frac{1}{2}\\end{matrix}\\right]$$"
      ],
      "text/plain": [
       "⎡ -1/2 ⎤\n",
       "⎢      ⎥\n",
       "⎢-√2⋅ⅈ ⎥\n",
       "⎢──────⎥\n",
       "⎢  2   ⎥\n",
       "⎢      ⎥\n",
       "⎣ 1/2  ⎦"
      ]
     },
     "metadata": {},
     "output_type": "display_data"
    },
    {
     "data": {
      "text/plain": [
       "'Matrix'"
      ]
     },
     "metadata": {},
     "output_type": "display_data"
    },
    {
     "data": {
      "image/png": "[encoded data removed]",
      "text/latex": [
       "$$\\left[\\begin{matrix}\\frac{1}{4} & - \\frac{\\sqrt{2} i}{4} & - \\frac{1}{4}\\\\\\frac{\\sqrt{2} i}{4} & \\frac{1}{2} & - \\frac{\\sqrt{2} i}{4}\\\\- \\frac{1}{4} & \\frac{\\sqrt{2} i}{4} & \\frac{1}{4}\\end{matrix}\\right]$$"
      ],
      "text/plain": [
       "⎡      -√2⋅ⅈ         ⎤\n",
       "⎢1/4   ──────   -1/4 ⎥\n",
       "⎢        4           ⎥\n",
       "⎢                    ⎥\n",
       "⎢√2⋅ⅈ          -√2⋅ⅈ ⎥\n",
       "⎢────   1/2    ──────⎥\n",
       "⎢ 4              4   ⎥\n",
       "⎢                    ⎥\n",
       "⎢       √2⋅ⅈ         ⎥\n",
       "⎢-1/4   ────    1/4  ⎥\n",
       "⎣        4           ⎦"
      ]
     },
     "metadata": {},
     "output_type": "display_data"
    },
    {
     "data": {
      "text/plain": [
       "'Projector?'"
      ]
     },
     "metadata": {},
     "output_type": "display_data"
    },
    {
     "data": {
      "text/plain": [
       "True"
      ]
     },
     "metadata": {},
     "output_type": "display_data"
    },
    {
     "data": {
      "image/png": "[encoded data removed]",
      "text/latex": [
       "$$\\left[\\begin{matrix}\\frac{1}{4} & - \\frac{\\sqrt{2} i}{4} & - \\frac{1}{4}\\\\\\frac{\\sqrt{2} i}{4} & \\frac{1}{2} & - \\frac{\\sqrt{2} i}{4}\\\\- \\frac{1}{4} & \\frac{\\sqrt{2} i}{4} & \\frac{1}{4}\\end{matrix}\\right]$$"
      ],
      "text/plain": [
       "⎡      -√2⋅ⅈ         ⎤\n",
       "⎢1/4   ──────   -1/4 ⎥\n",
       "⎢        4           ⎥\n",
       "⎢                    ⎥\n",
       "⎢√2⋅ⅈ          -√2⋅ⅈ ⎥\n",
       "⎢────   1/2    ──────⎥\n",
       "⎢ 4              4   ⎥\n",
       "⎢                    ⎥\n",
       "⎢       √2⋅ⅈ         ⎥\n",
       "⎢-1/4   ────    1/4  ⎥\n",
       "⎣        4           ⎦"
      ]
     },
     "metadata": {},
     "output_type": "display_data"
    },
    {
     "data": {
      "image/png": "[encoded data removed]",
      "text/latex": [
       "$$\\left[\\begin{matrix}\\frac{1}{4} & - \\frac{\\sqrt{2} i}{4} & - \\frac{1}{4}\\\\\\frac{\\sqrt{2} i}{4} & \\frac{1}{2} & - \\frac{\\sqrt{2} i}{4}\\\\- \\frac{1}{4} & \\frac{\\sqrt{2} i}{4} & \\frac{1}{4}\\end{matrix}\\right]$$"
      ],
      "text/plain": [
       "⎡      -√2⋅ⅈ         ⎤\n",
       "⎢1/4   ──────   -1/4 ⎥\n",
       "⎢        4           ⎥\n",
       "⎢                    ⎥\n",
       "⎢√2⋅ⅈ          -√2⋅ⅈ ⎥\n",
       "⎢────   1/2    ──────⎥\n",
       "⎢ 4              4   ⎥\n",
       "⎢                    ⎥\n",
       "⎢       √2⋅ⅈ         ⎥\n",
       "⎢-1/4   ────    1/4  ⎥\n",
       "⎣        4           ⎦"
      ]
     },
     "metadata": {},
     "output_type": "display_data"
    },
    {
     "data": {
      "text/plain": [
       "'Closed?'"
      ]
     },
     "metadata": {},
     "output_type": "display_data"
    },
    {
     "data": {
      "text/plain": [
       "True"
      ]
     },
     "metadata": {},
     "output_type": "display_data"
    },
    {
     "data": {
      "text/plain": [
       "'Orthogonal?'"
      ]
     },
     "metadata": {},
     "output_type": "display_data"
    },
    {
     "data": {
      "text/plain": [
       "True"
      ]
     },
     "metadata": {},
     "output_type": "display_data"
    }
   ],
   "source": [
    "h = Symbol('hbar')\n",
    "third_mat = (h/(2*I))*Matrix([[0,sqrt(2), 0], [-sqrt(2),0,sqrt(2)], [0,-sqrt(2),0]])\n",
    "ket_1 = Matrix([[1],[0],[0]])\n",
    "ket_2 = Matrix([[0],[1],[0]])\n",
    "ket_3 = Matrix([[0],[0],[1]])\n",
    "base_2 = [ket_1, ket_2, ket_3]\n",
    "do_hw(third_mat, base_2)\n"
   ]
  },
  {
   "cell_type": "markdown",
   "metadata": {},
   "source": [
    "### 3.\n",
    "\n",
    "Para los kets dados, debemos comprobar $$\\langle \\psi_i\\lvert\\psi_i\\rangle = 1$$\n",
    "\n",
    "Comencemos con $\\lvert\\psi_0\\rangle$:\n",
    "\n",
    "$$\\langle \\psi_0\\lvert\\psi_0\\rangle = \\frac{1}{2}+\\frac{1}{4}+\\frac{1}{4} = 1,$$\n",
    "entonces, podemos concluir que este ket está normalizado. Note que los únicos términos sobrevivientes del bracket son los $\\langle u_i\\lvert u_i\\rangle$, ya que los demás son cero por ortogonalidad. Ahora, \n",
    "\n",
    "$$\\langle \\psi_1\\lvert\\psi_1\\rangle = \\frac{1}{3} + \\frac{1}{3} = \\frac{2}{3} \\neq 1,$$ por lo tanto, el segundo ket no está normalizado. Al normalizarlo, tenemos que $$\\lvert\\psi_1\\rangle = \\frac{1}{\\sqrt{2}}\\lvert u_1\\rangle + \\frac{i}{\\sqrt{2}}\\lvert u_3\\rangle.$$\n",
    "\n",
    "Luego, debemos definir los operadores $$\\rho_i = \\lvert\\psi_i\\rangle\\langle\\psi_i\\rvert$$"
   ]
  },
  {
   "cell_type": "code",
   "execution_count": 9,
   "metadata": {},
   "outputs": [
    {
     "data": {
      "text/plain": [
       "'rho_0 = '"
      ]
     },
     "metadata": {},
     "output_type": "display_data"
    },
    {
     "data": {
      "image/png": "[encoded data removed]",
      "text/latex": [
       "$$\\left[\\begin{matrix}\\frac{1}{2} & - \\frac{\\sqrt{2} i}{4} & \\frac{\\sqrt{2}}{4}\\\\\\frac{\\sqrt{2} i}{4} & \\frac{1}{4} & \\frac{i}{4}\\\\\\frac{\\sqrt{2}}{4} & - \\frac{i}{4} & \\frac{1}{4}\\end{matrix}\\right]$$"
      ],
      "text/plain": [
       "⎡      -√2⋅ⅈ   √2 ⎤\n",
       "⎢1/2   ──────  ── ⎥\n",
       "⎢        4     4  ⎥\n",
       "⎢                 ⎥\n",
       "⎢√2⋅ⅈ           ⅈ ⎥\n",
       "⎢────   1/4     ─ ⎥\n",
       "⎢ 4             4 ⎥\n",
       "⎢                 ⎥\n",
       "⎢ √2    -ⅈ        ⎥\n",
       "⎢ ──    ───    1/4⎥\n",
       "⎣ 4      4        ⎦"
      ]
     },
     "metadata": {},
     "output_type": "display_data"
    },
    {
     "data": {
      "text/plain": [
       "'adj(rho_0) = '"
      ]
     },
     "metadata": {},
     "output_type": "display_data"
    },
    {
     "data": {
      "image/png": "[encoded data removed]",
      "text/latex": [
       "$$\\left[\\begin{matrix}\\frac{1}{2} & - \\frac{\\sqrt{2} i}{4} & \\frac{\\sqrt{2}}{4}\\\\\\frac{\\sqrt{2} i}{4} & \\frac{1}{4} & \\frac{i}{4}\\\\\\frac{\\sqrt{2}}{4} & - \\frac{i}{4} & \\frac{1}{4}\\end{matrix}\\right]$$"
      ],
      "text/plain": [
       "⎡      -√2⋅ⅈ   √2 ⎤\n",
       "⎢1/2   ──────  ── ⎥\n",
       "⎢        4     4  ⎥\n",
       "⎢                 ⎥\n",
       "⎢√2⋅ⅈ           ⅈ ⎥\n",
       "⎢────   1/4     ─ ⎥\n",
       "⎢ 4             4 ⎥\n",
       "⎢                 ⎥\n",
       "⎢ √2    -ⅈ        ⎥\n",
       "⎢ ──    ───    1/4⎥\n",
       "⎣ 4      4        ⎦"
      ]
     },
     "metadata": {},
     "output_type": "display_data"
    },
    {
     "data": {
      "text/plain": [
       "'Hermitian?'"
      ]
     },
     "metadata": {},
     "output_type": "display_data"
    },
    {
     "data": {
      "text/plain": [
       "True"
      ]
     },
     "metadata": {},
     "output_type": "display_data"
    }
   ],
   "source": [
    "psi_0 = Matrix([[1/sqrt(2)],[I/2],[nsimplify(1./2)]])\n",
    "rho_0 = psi_0*psi_0.transpose().conjugate()\n",
    "display('rho_0 = ',rho_0)\n",
    "display('adj(rho_0) = ',rho_0.transpose().conjugate())\n",
    "display('Hermitian?',rho_0.transpose().conjugate()==rho_0)"
   ]
  },
  {
   "cell_type": "code",
   "execution_count": 10,
   "metadata": {},
   "outputs": [
    {
     "data": {
      "text/plain": [
       "'rho_1 = '"
      ]
     },
     "metadata": {},
     "output_type": "display_data"
    },
    {
     "data": {
      "image/png": "[encoded data removed]",
      "text/latex": [
       "$$\\left[\\begin{matrix}\\frac{1}{2} & 0 & \\frac{1}{2}\\\\0 & 0 & 0\\\\\\frac{1}{2} & 0 & \\frac{1}{2}\\end{matrix}\\right]$$"
      ],
      "text/plain": [
       "⎡1/2  0  1/2⎤\n",
       "⎢           ⎥\n",
       "⎢ 0   0   0 ⎥\n",
       "⎢           ⎥\n",
       "⎣1/2  0  1/2⎦"
      ]
     },
     "metadata": {},
     "output_type": "display_data"
    },
    {
     "data": {
      "text/plain": [
       "'adj(rho_1) = '"
      ]
     },
     "metadata": {},
     "output_type": "display_data"
    },
    {
     "data": {
      "image/png": "[encoded data removed]",
      "text/latex": [
       "$$\\left[\\begin{matrix}\\frac{1}{2} & 0 & \\frac{1}{2}\\\\0 & 0 & 0\\\\\\frac{1}{2} & 0 & \\frac{1}{2}\\end{matrix}\\right]$$"
      ],
      "text/plain": [
       "⎡1/2  0  1/2⎤\n",
       "⎢           ⎥\n",
       "⎢ 0   0   0 ⎥\n",
       "⎢           ⎥\n",
       "⎣1/2  0  1/2⎦"
      ]
     },
     "metadata": {},
     "output_type": "display_data"
    },
    {
     "data": {
      "text/plain": [
       "'Hermitian?'"
      ]
     },
     "metadata": {},
     "output_type": "display_data"
    },
    {
     "data": {
      "text/plain": [
       "True"
      ]
     },
     "metadata": {},
     "output_type": "display_data"
    }
   ],
   "source": [
    "psi_1 = Matrix([[1/sqrt(2)],[0],[1/sqrt(2)]])\n",
    "rho_1 = psi_1*psi_1.transpose().conjugate()\n",
    "display('rho_1 = ',rho_1)\n",
    "display('adj(rho_1) = ',rho_1.transpose().conjugate())\n",
    "display('Hermitian?',rho_1.transpose().conjugate()==rho_1)"
   ]
  },
  {
   "cell_type": "markdown",
   "metadata": {},
   "source": [
    "### 5.\n",
    "\n",
    "Finalmente, tenemos que dados $P_i$ ortogonales, es decir $P_i = P_i^\\dagger$ (autoadjuntas), una proyección $P_1P_2$ es ortogonal, si $$P_1P_2 = (P_1P_2)^\\dagger = P_2^\\dagger P_1^\\dagger = P_2P_1,$$ es decir, si $$[P_1,P_2]=0.$$\n",
    "\n",
    "Sea $\\mathcal{V}$ el subespacio al cual proyecta $P_1P_2$, es decir, $P_1P_2\\lvert\\alpha\\rangle=\\lvert\\alpha\\rangle$ implica que $\\lvert\\alpha\\rangle \\in \\mathcal{V}$.\n",
    "Ahora, si aplicamos $P_1\\lvert\\alpha\\rangle = P_1^2P_2\\lvert\\alpha\\rangle=P_1P_2\\lvert\\alpha\\rangle = \\lvert\\alpha\\rangle$ nos damos cuenta que $\\lvert\\alpha\\rangle\\in \\mathcal{S}_1$. Si repetimos el proceso con $P_2$, tenemos que $P_2\\lvert\\alpha\\rangle=P_2P_1P_2\\lvert\\alpha\\rangle = P_2^2P_1 \\lvert\\alpha\\rangle = P_2P_1\\lvert\\alpha\\rangle=P_1P_2\\lvert\\alpha\\rangle=\\lvert\\alpha\\rangle$ es evidente que $\\lvert\\alpha\\rangle \\in \\mathcal{S}_2$. De todo lo anterior, podemos concluir que si $\\lvert\\alpha\\rangle$ está tanto en $\\mathcal{S}_1$ como en $\\mathcal{S}_2$, el subespacio al que proyecta el producto debe ser $\\mathcal{V} = \\mathcal{S}_1\\cap\\mathcal{S}_2$."
   ]
  },
  {
   "cell_type": "code",
   "execution_count": null,
   "metadata": {},
   "outputs": [],
   "source": []
  }
 ],
 "metadata": {
  "anaconda-cloud": {},
  "kernelspec": {
   "display_name": "Python [conda root]",
   "language": "python",
   "name": "conda-root-py"
  },
  "language_info": {
   "codemirror_mode": {
    "name": "ipython",
    "version": 2
   },
   "file_extension": ".py",
   "mimetype": "text/x-python",
   "name": "python",
   "nbconvert_exporter": "python",
   "pygments_lexer": "ipython2",
   "version": "2.7.14"
  },
  "nbpresent": {
   "slides": {
    "c26cdc8f-2b3b-4670-8e74-32de32111a09": {
     "id": "c26cdc8f-2b3b-4670-8e74-32de32111a09",
     "prev": null,
     "regions": {
      "fdc83e1b-2598-4e10-9b3f-8143cee28ccb": {
       "attrs": {
        "height": 1,
        "width": 1,
        "x": 0,
        "y": 0
       },
       "id": "fdc83e1b-2598-4e10-9b3f-8143cee28ccb"
      }
     }
    }
   },
   "themes": {}
  }
 },
 "nbformat": 4,
 "nbformat_minor": 2
}
