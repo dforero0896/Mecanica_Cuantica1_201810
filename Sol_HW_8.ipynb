{
 "cells": [
  {
   "cell_type": "code",
   "execution_count": 1,
   "metadata": {},
   "outputs": [],
   "source": [
    "from sympy import *\n",
    "init_printing()\n",
    "from IPython.display import display\n",
    "from sympy.functions import Abs"
   ]
  },
  {
   "cell_type": "markdown",
   "metadata": {},
   "source": [
    "## Problema 3"
   ]
  },
  {
   "cell_type": "code",
   "execution_count": 2,
   "metadata": {},
   "outputs": [
    {
     "data": {
      "image/png": "[encoded data removed]",
      "text/latex": [
       "$$\\frac{1}{\\sqrt{\\hbar} \\sqrt{k_{0}}} e^{\\frac{1}{\\hbar} \\left(- \\frac{i p^{2} t}{2 m} - \\frac{\\left|{p}\\right|}{k_{0}}\\right)}$$"
      ],
      "text/plain": [
       "      2        \n",
       "   ⅈ⋅p ⋅t   │p│\n",
       " - ────── - ───\n",
       "    2⋅m      k₀\n",
       " ──────────────\n",
       "       h̅      \n",
       "ℯ              \n",
       "───────────────\n",
       "   ____   ____ \n",
       " ╲╱ h̅ ⋅╲╱ k₀  "
      ]
     },
     "metadata": {},
     "output_type": "display_data"
    },
    {
     "data": {
      "text/plain": [
       "True"
      ]
     },
     "execution_count": 2,
     "metadata": {},
     "output_type": "execute_result"
    }
   ],
   "source": [
    "p,x,k = symbols('p x k',\\\n",
    "                       real=True)\n",
    "s, h, m, t, k0, p1 = symbols('sigma hbar m t k_0 p_1', real=True, \\\n",
    "           positive=True)\n",
    "mom_repr = nsimplify(exp(-Abs(p)/(h*k0)))\n",
    "Nsq=integrate(mom_repr*mom_repr, (p,-oo,oo), conds='none')\n",
    "mom_repr/=sqrt(Nsq)\n",
    "\n",
    "mom_repr_t = exp(-I*(p**2/(2*m))*t/h)*mom_repr\n",
    "display(simplify(mom_repr_t))\n",
    "abs(mom_repr)**2==abs(mom_repr_t)**2"
   ]
  },
  {
   "cell_type": "code",
   "execution_count": 3,
   "metadata": {},
   "outputs": [
    {
     "data": {
      "text/plain": [
       "<matplotlib.figure.Figure at 0x7f7f6deeb490>"
      ]
     },
     "metadata": {},
     "output_type": "display_data"
    },
    {
     "data": {
      "image/png": "[encoded data removed]",
      "text/latex": [
       "$$1 - e^{- \\frac{2 p_{1}}{\\hbar k_{0}}}$$"
      ],
      "text/plain": [
       "     -2⋅p₁ \n",
       "     ──────\n",
       "     h̅⋅k₀ \n",
       "1 - ℯ      "
      ]
     },
     "metadata": {},
     "output_type": "display_data"
    },
    {
     "data": {
      "text/plain": [
       "<matplotlib.figure.Figure at 0x7f7f691f1f90>"
      ]
     },
     "metadata": {},
     "output_type": "display_data"
    }
   ],
   "source": [
    "P_p1 = 2*integrate(exp(-2*p/(h*k0))/Nsq, (p, 0, p1), conds='none')\n",
    "pl=plot(P_p1.subs(h,1).subs(k0,1), xlim=(-2,5), ylim=(-1,1))\n",
    "display(P_p1)\n"
   ]
  },
  {
   "cell_type": "code",
   "execution_count": null,
   "metadata": {},
   "outputs": [
    {
     "data": {
      "image/png": "[encoded data removed]",
      "text/plain": [
       "<matplotlib.figure.Figure at 0x7f7f68db80d0>"
      ]
     },
     "metadata": {},
     "output_type": "display_data"
    }
   ],
   "source": [
    "pl.show()"
   ]
  },
  {
   "cell_type": "code",
   "execution_count": 4,
   "metadata": {
    "scrolled": false
   },
   "outputs": [
    {
     "data": {
      "image/png": "[encoded data removed]",
      "text/latex": [
       "$$\\frac{\\sqrt{2} \\sqrt{k_{0}}}{\\sqrt{\\pi} \\left(k_{0}^{2} x^{2} + 1\\right)}$$"
      ],
      "text/plain": [
       "        ____   \n",
       "   √2⋅╲╱ k₀    \n",
       "───────────────\n",
       "   ⎛  2  2    ⎞\n",
       "√π⋅⎝k₀ ⋅x  + 1⎠"
      ]
     },
     "metadata": {},
     "output_type": "display_data"
    },
    {
     "data": {
      "image/png": "[encoded data removed]",
      "text/plain": [
       "<matplotlib.figure.Figure at 0x7f7f68f36fd0>"
      ]
     },
     "metadata": {},
     "output_type": "display_data"
    }
   ],
   "source": [
    "pos_repr = (1/sqrt(2*pi*h))*integrate(simplify(mom_repr*exp(I*p*x/h)), (p,-oo,oo), conds='none')\n",
    "display(simplify(cancel(pos_repr)))\n",
    "Nsq = integrate(abs(pos_repr)**2, (x,-oo,oo), conds='none')\n",
    "pos_repr/=sqrt(Nsq)\n",
    "pt=plot(simplify(pos_repr.subs(k0,1)), xlim=(-5,5), ylim=(-1,1))"
   ]
  },
  {
   "cell_type": "code",
   "execution_count": 5,
   "metadata": {},
   "outputs": [
    {
     "data": {
      "image/png": "[encoded data removed]",
      "text/latex": [
       "$$0$$"
      ],
      "text/plain": [
       "0"
      ]
     },
     "metadata": {},
     "output_type": "display_data"
    },
    {
     "data": {
      "image/png": "[encoded data removed]",
      "text/latex": [
       "$$\\frac{1}{k_{0}}$$"
      ],
      "text/plain": [
       "1 \n",
       "──\n",
       "k₀"
      ]
     },
     "metadata": {},
     "output_type": "display_data"
    },
    {
     "data": {
      "image/png": "[encoded data removed]",
      "text/latex": [
       "$$\\frac{\\hbar k_{0}}{2} \\sqrt{2}$$"
      ],
      "text/plain": [
       "√2⋅h̅⋅k₀\n",
       "────────\n",
       "   2    "
      ]
     },
     "metadata": {},
     "output_type": "display_data"
    },
    {
     "data": {
      "image/png": "[encoded data removed]",
      "text/latex": [
       "$$\\frac{\\sqrt{2} \\hbar}{2} \\geq \\frac{\\hbar}{2}$$"
      ],
      "text/plain": [
       "√2⋅h̅   h̅\n",
       "───── ≥ ──\n",
       "  2     2 "
      ]
     },
     "execution_count": 5,
     "metadata": {},
     "output_type": "execute_result"
    }
   ],
   "source": [
    "delta_p_sq = integrate(mom_repr*mom_repr*p**2, (p,-oo,oo), conds='none')\n",
    "avg_p = integrate(mom_repr*mom_repr*p, (p,-oo,oo), conds='none')\n",
    "display(avg_p)\n",
    "delta_x_sq = integrate(pos_repr*pos_repr*x**2, (x,-oo,oo), conds='none')\n",
    "display(sqrt(delta_x_sq), sqrt(delta_p_sq))\n",
    "sqrt(delta_x_sq*delta_p_sq)>=h/2"
   ]
  },
  {
   "cell_type": "code",
   "execution_count": 6,
   "metadata": {},
   "outputs": [
    {
     "data": {
      "image/png": "[encoded data removed]",
      "text/latex": [
       "$$\\frac{\\hbar^{2} k_{0}^{2}}{2}$$"
      ],
      "text/plain": [
       "  2   2\n",
       "h̅ ⋅k₀ \n",
       "───────\n",
       "   2   "
      ]
     },
     "metadata": {},
     "output_type": "display_data"
    }
   ],
   "source": [
    "delta_p_t_sq = integrate(Abs(mom_repr_t)**2*p**2, (p,-oo,oo), conds='none')\n",
    "display(delta_p_t_sq)"
   ]
  },
  {
   "cell_type": "markdown",
   "metadata": {},
   "source": [
    "# Punto 14"
   ]
  },
  {
   "cell_type": "code",
   "execution_count": 7,
   "metadata": {},
   "outputs": [],
   "source": [
    "from sympy.physics.matrices import msigma\n",
    "a,b, w = symbols('a b omega_0', real=True)\n",
    "H = h*w*diag(1, 2, 2)\n",
    "A = a*diag(1,msigma(1))\n",
    "B = b*diag(msigma(1), 1)\n"
   ]
  },
  {
   "cell_type": "code",
   "execution_count": 8,
   "metadata": {},
   "outputs": [
    {
     "data": {
      "image/png": "[encoded data removed]",
      "text/latex": [
       "$$\\left [ \\left ( \\hbar \\omega_{0}, \\quad 1, \\quad \\left [ \\left[\\begin{matrix}1\\\\0\\\\0\\end{matrix}\\right]\\right ]\\right ), \\quad \\left ( 2 \\hbar \\omega_{0}, \\quad 2, \\quad \\left [ \\left[\\begin{matrix}0\\\\1\\\\0\\end{matrix}\\right], \\quad \\left[\\begin{matrix}0\\\\0\\\\1\\end{matrix}\\right]\\right ]\\right )\\right ]$$"
      ],
      "text/plain": [
       "⎡⎛          ⎡⎡1⎤⎤⎞  ⎛            ⎡⎡0⎤  ⎡0⎤⎤⎞⎤\n",
       "⎢⎜          ⎢⎢ ⎥⎥⎟  ⎜            ⎢⎢ ⎥  ⎢ ⎥⎥⎟⎥\n",
       "⎢⎜h̅⋅ω₀, 1, ⎢⎢0⎥⎥⎟, ⎜2⋅h̅⋅ω₀, 2, ⎢⎢1⎥, ⎢0⎥⎥⎟⎥\n",
       "⎢⎜          ⎢⎢ ⎥⎥⎟  ⎜            ⎢⎢ ⎥  ⎢ ⎥⎥⎟⎥\n",
       "⎣⎝          ⎣⎣0⎦⎦⎠  ⎝            ⎣⎣0⎦  ⎣1⎦⎦⎠⎦"
      ]
     },
     "metadata": {},
     "output_type": "display_data"
    },
    {
     "data": {
      "image/png": "[encoded data removed]",
      "text/latex": [
       "$$\\left[\\begin{matrix}\\frac{\\sqrt{2}}{2}\\\\\\frac{1}{2}\\\\\\frac{1}{2}\\end{matrix}\\right]$$"
      ],
      "text/plain": [
       "⎡√2 ⎤\n",
       "⎢── ⎥\n",
       "⎢2  ⎥\n",
       "⎢   ⎥\n",
       "⎢1/2⎥\n",
       "⎢   ⎥\n",
       "⎣1/2⎦"
      ]
     },
     "metadata": {},
     "output_type": "display_data"
    },
    {
     "data": {
      "text/plain": [
       "'avg E'"
      ]
     },
     "metadata": {},
     "output_type": "display_data"
    },
    {
     "data": {
      "image/png": "[encoded data removed]",
      "text/latex": [
       "$$\\frac{3 \\omega_{0}}{2} \\hbar$$"
      ],
      "text/plain": [
       "3⋅h̅⋅ω₀\n",
       "───────\n",
       "   2   "
      ]
     },
     "metadata": {},
     "output_type": "display_data"
    },
    {
     "data": {
      "text/plain": [
       "'delta E'"
      ]
     },
     "metadata": {},
     "output_type": "display_data"
    },
    {
     "data": {
      "image/png": "[encoded data removed]",
      "text/latex": [
       "$$\\frac{\\hbar \\left|{\\omega_{0}}\\right|}{2}$$"
      ],
      "text/plain": [
       "h̅⋅│ω₀│\n",
       "───────\n",
       "   2   "
      ]
     },
     "metadata": {},
     "output_type": "display_data"
    }
   ],
   "source": [
    "display(H.eigenvects())\n",
    "Psi_0 = nsimplify(1/sqrt(2))*H.eigenvects()[0][2][0]+nsimplify(0.5)*H.eigenvects()[1][2][0]+nsimplify(0.5)*H.eigenvects()[1][2][1]\n",
    "display(Psi_0)\n",
    "display('avg E', nsimplify(0.5*H.eigenvects()[0][0] + 2*0.25*H.eigenvects()[1][0]))\n",
    "\n",
    "display('delta E', sqrt(simplify(nsimplify(0.5*H.eigenvects()[0][0]**2 + 2*0.25*H.eigenvects()[1][0]**2))-\\\n",
    "       nsimplify(0.5*H.eigenvects()[0][0] + 2*0.25*H.eigenvects()[1][0])**2))"
   ]
  },
  {
   "cell_type": "code",
   "execution_count": 9,
   "metadata": {},
   "outputs": [
    {
     "data": {
      "image/png": "[encoded data removed]",
      "text/latex": [
       "$$\\left [ \\left ( - a, \\quad 1, \\quad \\left [ \\left[\\begin{matrix}0\\\\-1\\\\1\\end{matrix}\\right]\\right ]\\right ), \\quad \\left ( a, \\quad 2, \\quad \\left [ \\left[\\begin{matrix}1\\\\0\\\\0\\end{matrix}\\right], \\quad \\left[\\begin{matrix}0\\\\1\\\\1\\end{matrix}\\right]\\right ]\\right )\\right ]$$"
      ],
      "text/plain": [
       "⎡⎛       ⎡⎡0 ⎤⎤⎞  ⎛      ⎡⎡1⎤  ⎡0⎤⎤⎞⎤\n",
       "⎢⎜       ⎢⎢  ⎥⎥⎟  ⎜      ⎢⎢ ⎥  ⎢ ⎥⎥⎟⎥\n",
       "⎢⎜-a, 1, ⎢⎢-1⎥⎥⎟, ⎜a, 2, ⎢⎢0⎥, ⎢1⎥⎥⎟⎥\n",
       "⎢⎜       ⎢⎢  ⎥⎥⎟  ⎜      ⎢⎢ ⎥  ⎢ ⎥⎥⎟⎥\n",
       "⎣⎝       ⎣⎣1 ⎦⎦⎠  ⎝      ⎣⎣0⎦  ⎣1⎦⎦⎠⎦"
      ]
     },
     "execution_count": 9,
     "metadata": {},
     "output_type": "execute_result"
    }
   ],
   "source": [
    "A.eigenvects()\n",
    "#Note que los vectores propios de A son u1 (vp a), N*(u2+u3) (vp a) y N*(-u2+u3) (vp -a)"
   ]
  },
  {
   "cell_type": "code",
   "execution_count": null,
   "metadata": {},
   "outputs": [],
   "source": []
  },
  {
   "cell_type": "code",
   "execution_count": 10,
   "metadata": {},
   "outputs": [
    {
     "data": {
      "image/png": "[encoded data removed]",
      "text/latex": [
       "$$\\left[\\begin{matrix}\\frac{\\sqrt{2}}{2} e^{- i \\hbar \\omega_{0} t}\\\\\\frac{1}{2} e^{- 2 i \\hbar \\omega_{0} t}\\\\\\frac{1}{2} e^{- 2 i \\hbar \\omega_{0} t}\\end{matrix}\\right]$$"
      ],
      "text/plain": [
       "⎡    -ⅈ⋅h̅⋅ω₀⋅t⎤\n",
       "⎢√2⋅ℯ          ⎥\n",
       "⎢──────────────⎥\n",
       "⎢      2       ⎥\n",
       "⎢              ⎥\n",
       "⎢ -2⋅ⅈ⋅h̅⋅ω₀⋅t ⎥\n",
       "⎢ℯ             ⎥\n",
       "⎢───────────── ⎥\n",
       "⎢      2       ⎥\n",
       "⎢              ⎥\n",
       "⎢ -2⋅ⅈ⋅h̅⋅ω₀⋅t ⎥\n",
       "⎢ℯ             ⎥\n",
       "⎢───────────── ⎥\n",
       "⎣      2       ⎦"
      ]
     },
     "metadata": {},
     "output_type": "display_data"
    },
    {
     "data": {
      "image/png": "[encoded data removed]",
      "text/latex": [
       "$$\\left[\\begin{matrix}\\frac{\\sqrt{2}}{2} e^{i \\hbar \\omega_{0} t} & \\frac{1}{2} e^{2 i \\hbar \\omega_{0} t} & \\frac{1}{2} e^{2 i \\hbar \\omega_{0} t}\\end{matrix}\\right]$$"
      ],
      "text/plain": [
       "⎡    ⅈ⋅h̅⋅ω₀⋅t   2⋅ⅈ⋅h̅⋅ω₀⋅t   2⋅ⅈ⋅h̅⋅ω₀⋅t⎤\n",
       "⎢√2⋅ℯ           ℯ             ℯ           ⎥\n",
       "⎢─────────────  ────────────  ────────────⎥\n",
       "⎣      2             2             2      ⎦"
      ]
     },
     "metadata": {},
     "output_type": "display_data"
    }
   ],
   "source": [
    "Psi_t = Matrix([[exp(-I*t*H.eigenvects()[0][0])*Psi_0[0]],\\\n",
    "                [exp(-I*t*H.eigenvects()[1][0])*Psi_0[1]],[exp(-I*t*H.eigenvects()[1][0])*Psi_0[2]]])\n",
    "display(Psi_t)\n",
    "Psi_t_T = adjoint(Psi_t)\n",
    "display(Psi_t_T)"
   ]
  },
  {
   "cell_type": "code",
   "execution_count": 11,
   "metadata": {},
   "outputs": [
    {
     "data": {
      "image/png": "[encoded data removed]",
      "text/latex": [
       "$$\\left[\\begin{matrix}a\\end{matrix}\\right]$$"
      ],
      "text/plain": [
       "[a]"
      ]
     },
     "metadata": {},
     "output_type": "display_data"
    },
    {
     "data": {
      "image/png": "[encoded data removed]",
      "text/latex": [
       "$$\\left[\\begin{matrix}\\frac{\\sqrt{2} b}{4} e^{i \\hbar \\omega_{0} t} + \\frac{b}{4} + \\frac{\\sqrt{2} b}{4} e^{- i \\hbar \\omega_{0} t}\\end{matrix}\\right]$$"
      ],
      "text/plain": [
       "⎡      ⅈ⋅h̅⋅ω₀⋅t             -ⅈ⋅h̅⋅ω₀⋅t⎤\n",
       "⎢√2⋅b⋅ℯ            b   √2⋅b⋅ℯ          ⎥\n",
       "⎢─────────────── + ─ + ────────────────⎥\n",
       "⎣       4          4          4        ⎦"
      ]
     },
     "metadata": {},
     "output_type": "display_data"
    }
   ],
   "source": [
    "display(Psi_t_T*A*Psi_t)\n",
    "display(Psi_t_T*B*Psi_t)"
   ]
  },
  {
   "cell_type": "code",
   "execution_count": 12,
   "metadata": {},
   "outputs": [
    {
     "data": {
      "image/png": "[encoded data removed]",
      "text/latex": [
       "$$\\left[\\begin{matrix}\\frac{\\sqrt{2} a}{2} e^{- i \\hbar \\omega_{0} t}\\\\\\frac{a}{2} e^{- 2 i \\hbar \\omega_{0} t}\\\\\\frac{a}{2} e^{- 2 i \\hbar \\omega_{0} t}\\end{matrix}\\right]$$"
      ],
      "text/plain": [
       "⎡      -ⅈ⋅h̅⋅ω₀⋅t⎤\n",
       "⎢√2⋅a⋅ℯ          ⎥\n",
       "⎢────────────────⎥\n",
       "⎢       2        ⎥\n",
       "⎢                ⎥\n",
       "⎢   -2⋅ⅈ⋅h̅⋅ω₀⋅t ⎥\n",
       "⎢a⋅ℯ             ⎥\n",
       "⎢─────────────── ⎥\n",
       "⎢       2        ⎥\n",
       "⎢                ⎥\n",
       "⎢   -2⋅ⅈ⋅h̅⋅ω₀⋅t ⎥\n",
       "⎢a⋅ℯ             ⎥\n",
       "⎢─────────────── ⎥\n",
       "⎣       2        ⎦"
      ]
     },
     "execution_count": 12,
     "metadata": {},
     "output_type": "execute_result"
    }
   ],
   "source": [
    "simplify((A*Psi_t)) #Se mide a, note que A*Psi_t = a* Psi_t"
   ]
  },
  {
   "cell_type": "code",
   "execution_count": 13,
   "metadata": {},
   "outputs": [
    {
     "data": {
      "image/png": "[encoded data removed]",
      "text/latex": [
       "$$\\left [ \\left ( - b, \\quad 1, \\quad \\left [ \\left[\\begin{matrix}-1\\\\1\\\\0\\end{matrix}\\right]\\right ]\\right ), \\quad \\left ( b, \\quad 2, \\quad \\left [ \\left[\\begin{matrix}1\\\\1\\\\0\\end{matrix}\\right], \\quad \\left[\\begin{matrix}0\\\\0\\\\1\\end{matrix}\\right]\\right ]\\right )\\right ]$$"
      ],
      "text/plain": [
       "⎡⎛       ⎡⎡-1⎤⎤⎞  ⎛      ⎡⎡1⎤  ⎡0⎤⎤⎞⎤\n",
       "⎢⎜       ⎢⎢  ⎥⎥⎟  ⎜      ⎢⎢ ⎥  ⎢ ⎥⎥⎟⎥\n",
       "⎢⎜-b, 1, ⎢⎢1 ⎥⎥⎟, ⎜b, 2, ⎢⎢1⎥, ⎢0⎥⎥⎟⎥\n",
       "⎢⎜       ⎢⎢  ⎥⎥⎟  ⎜      ⎢⎢ ⎥  ⎢ ⎥⎥⎟⎥\n",
       "⎣⎝       ⎣⎣0 ⎦⎦⎠  ⎝      ⎣⎣0⎦  ⎣1⎦⎦⎠⎦"
      ]
     },
     "execution_count": 13,
     "metadata": {},
     "output_type": "execute_result"
    }
   ],
   "source": [
    "B.eigenvects()"
   ]
  },
  {
   "cell_type": "code",
   "execution_count": 14,
   "metadata": {},
   "outputs": [
    {
     "data": {
      "image/png": "[encoded data removed]",
      "text/latex": [
       "$$- \\frac{\\sqrt{2}}{4} \\cos{\\left (\\hbar \\omega_{0} t \\right )} + \\frac{3}{8}$$"
      ],
      "text/plain": [
       "  √2⋅cos(h̅⋅ω₀⋅t)   3\n",
       "- ─────────────── + ─\n",
       "         4          8"
      ]
     },
     "metadata": {},
     "output_type": "display_data"
    },
    {
     "data": {
      "image/png": "[encoded data removed]",
      "text/latex": [
       "$$\\frac{\\sqrt{2}}{4} \\cos{\\left (\\hbar \\omega_{0} t \\right )} + \\frac{5}{8}$$"
      ],
      "text/plain": [
       "√2⋅cos(h̅⋅ω₀⋅t)   5\n",
       "─────────────── + ─\n",
       "       4          8"
      ]
     },
     "metadata": {},
     "output_type": "display_data"
    }
   ],
   "source": [
    "#Medir -b\n",
    "display(simplify((abs((nsimplify(1/sqrt(2))*adjoint(B.eigenvects()[0][2][0])*Psi_t)[0])**2).rewrite(cos)))\n",
    "#Medir b\n",
    "display(simplify((abs(nsimplify(1/sqrt(2))*adjoint(B.eigenvects()[1][2][0])\\\n",
    "                     *Psi_t)[0]**2+abs(adjoint(B.eigenvects()[1][2][1])*Psi_t)[0]**2).rewrite(cos)))\n"
   ]
  },
  {
   "cell_type": "code",
   "execution_count": null,
   "metadata": {},
   "outputs": [],
   "source": []
  }
 ],
 "metadata": {
  "anaconda-cloud": {},
  "kernelspec": {
   "display_name": "Python [conda root]",
   "language": "python",
   "name": "conda-root-py"
  },
  "language_info": {
   "codemirror_mode": {
    "name": "ipython",
    "version": 2
   },
   "file_extension": ".py",
   "mimetype": "text/x-python",
   "name": "python",
   "nbconvert_exporter": "python",
   "pygments_lexer": "ipython2",
   "version": "2.7.14"
  }
 },
 "nbformat": 4,
 "nbformat_minor": 2
}
