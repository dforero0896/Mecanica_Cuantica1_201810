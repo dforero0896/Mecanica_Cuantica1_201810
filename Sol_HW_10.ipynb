{
 "cells": [
  {
   "cell_type": "code",
   "execution_count": 1,
   "metadata": {},
   "outputs": [],
   "source": [
    "from sympy import *\n",
    "init_printing()\n",
    "from IPython.display import display\n",
    "from sympy.physics.matrices import msigma\n",
    "from sympy.physics.quantum.dagger import Dagger"
   ]
  },
  {
   "cell_type": "markdown",
   "metadata": {},
   "source": [
    "# Problema 3"
   ]
  },
  {
   "cell_type": "code",
   "execution_count": 2,
   "metadata": {},
   "outputs": [
    {
     "data": {
      "image/png": "[encoded data removed]",
      "text/latex": [
       "$$\\left[\\begin{matrix}\\frac{\\hbar \\omega_{0}}{4} \\sqrt{2} & \\frac{\\hbar \\omega_{0}}{4} \\sqrt{2}\\\\\\frac{\\hbar \\omega_{0}}{4} \\sqrt{2} & - \\frac{\\hbar \\omega_{0}}{4} \\sqrt{2}\\end{matrix}\\right]$$"
      ],
      "text/plain": [
       "⎡√2⋅h̅⋅ω₀   √2⋅h̅⋅ω₀ ⎤\n",
       "⎢────────   ──────── ⎥\n",
       "⎢   4          4     ⎥\n",
       "⎢                    ⎥\n",
       "⎢√2⋅h̅⋅ω₀  -√2⋅h̅⋅ω₀ ⎥\n",
       "⎢────────  ──────────⎥\n",
       "⎣   4          4     ⎦"
      ]
     },
     "metadata": {},
     "output_type": "display_data"
    }
   ],
   "source": [
    "h, B0, w0 = symbols('hbar B_0 omega_0', positive=True, real=True)\n",
    "\n",
    "H = w0/sqrt(2) * msigma(1)*h/2 + w0/sqrt(2) * msigma(3)*h/2\n",
    "display(H)\n",
    "#0.25 "
   ]
  },
  {
   "cell_type": "code",
   "execution_count": 3,
   "metadata": {},
   "outputs": [
    {
     "data": {
      "image/png": "[encoded data removed]",
      "text/latex": [
       "$$\\left [ \\left ( - \\frac{\\hbar \\omega_{0}}{2}, \\quad 1, \\quad \\left [ \\left[\\begin{matrix}- \\frac{\\sqrt{2} \\hbar \\omega_{0}}{4 \\left(\\frac{\\hbar \\omega_{0}}{4} \\sqrt{2} + \\frac{\\hbar \\omega_{0}}{2}\\right)}\\\\1\\end{matrix}\\right]\\right ]\\right ), \\quad \\left ( \\frac{\\hbar \\omega_{0}}{2}, \\quad 1, \\quad \\left [ \\left[\\begin{matrix}- \\frac{2 \\sqrt{2}}{\\hbar \\omega_{0}} \\left(- \\frac{\\hbar \\omega_{0}}{2} - \\frac{\\hbar \\omega_{0}}{4} \\sqrt{2}\\right)\\\\1\\end{matrix}\\right]\\right ]\\right )\\right ]$$"
      ],
      "text/plain": [
       "⎡⎛            ⎡⎡     -√2⋅h̅⋅ω₀      ⎤⎤⎞  ⎛          ⎡⎡      ⎛  h̅⋅ω₀   √2⋅h̅⋅ω\n",
       "⎢⎜            ⎢⎢────────────────────⎥⎥⎟  ⎜          ⎢⎢-2⋅√2⋅⎜- ───── - ───────\n",
       "⎢⎜-h̅⋅ω₀      ⎢⎢  ⎛√2⋅h̅⋅ω₀   h̅⋅ω₀⎞⎥⎥⎟  ⎜h̅⋅ω₀     ⎢⎢      ⎝    2        4   \n",
       "⎢⎜───────, 1, ⎢⎢4⋅⎜──────── + ─────⎟⎥⎥⎟, ⎜─────, 1, ⎢⎢────────────────────────\n",
       "⎢⎜   2        ⎢⎢  ⎝   4         2  ⎠⎥⎥⎟  ⎜  2       ⎢⎢           h̅⋅ω₀        \n",
       "⎢⎜            ⎢⎢                    ⎥⎥⎟  ⎜          ⎢⎢                        \n",
       "⎣⎝            ⎣⎣         1          ⎦⎦⎠  ⎝          ⎣⎣             1          \n",
       "\n",
       "₀⎞ ⎤⎤⎞⎤\n",
       "─⎟ ⎥⎥⎟⎥\n",
       " ⎠ ⎥⎥⎟⎥\n",
       "───⎥⎥⎟⎥\n",
       "   ⎥⎥⎟⎥\n",
       "   ⎥⎥⎟⎥\n",
       "   ⎦⎦⎠⎦"
      ]
     },
     "metadata": {},
     "output_type": "display_data"
    },
    {
     "data": {
      "image/png": "[encoded data removed]",
      "text/latex": [
       "$$\\left[\\begin{matrix}-0.38268343236509\\\\0.923879532511287\\end{matrix}\\right]$$"
      ],
      "text/plain": [
       "⎡-0.38268343236509⎤\n",
       "⎢                 ⎥\n",
       "⎣0.923879532511287⎦"
      ]
     },
     "metadata": {},
     "output_type": "display_data"
    },
    {
     "data": {
      "image/png": "[encoded data removed]",
      "text/latex": [
       "$$\\left[\\begin{matrix}0.923879532511287\\\\0.38268343236509\\end{matrix}\\right]$$"
      ],
      "text/plain": [
       "⎡0.923879532511287⎤\n",
       "⎢                 ⎥\n",
       "⎣0.38268343236509 ⎦"
      ]
     },
     "metadata": {},
     "output_type": "display_data"
    },
    {
     "data": {
      "image/png": "[encoded data removed]",
      "text/latex": [
       "$$0.853553390593274$$"
      ],
      "text/plain": [
       "0.853553390593274"
      ]
     },
     "execution_count": 3,
     "metadata": {},
     "output_type": "execute_result"
    }
   ],
   "source": [
    "display(H.eigenvects())\n",
    "vec1 = simplify(H.eigenvects()[0][2][0])\n",
    "vec2 = simplify(H.eigenvects()[1][2][0])\n",
    "val1 = simplify(H.eigenvects()[0][0])\n",
    "val2 = simplify(H.eigenvects()[1][0])\n",
    "Nsq=simplify(vec1.dot(vec1))\n",
    "vec1/=sqrt(Nsq)\n",
    "display(simplify(vec1.evalf()))\n",
    "Nsq=simplify(vec2.dot(vec2))\n",
    "vec2/=sqrt(Nsq)\n",
    "display(simplify(vec2.evalf()))\n",
    "#0.25\n",
    "(1/((1-sqrt(2))**2+1)).evalf()"
   ]
  },
  {
   "cell_type": "code",
   "execution_count": 4,
   "metadata": {},
   "outputs": [
    {
     "data": {
      "image/png": "[encoded data removed]",
      "text/latex": [
       "$$0.853553390593274$$"
      ],
      "text/plain": [
       "0.853553390593274"
      ]
     },
     "metadata": {},
     "output_type": "display_data"
    },
    {
     "data": {
      "image/png": "[encoded data removed]",
      "text/latex": [
       "$$0.146446609406726$$"
      ],
      "text/plain": [
       "0.146446609406726"
      ]
     },
     "metadata": {},
     "output_type": "display_data"
    }
   ],
   "source": [
    "asq, bsq,t = symbols('a^2 b^2 t', positive=True, real=True)\n",
    "minus = Matrix([[0], [1]])\n",
    "solve(Eq(minus[0], asq*vec1[0] + bsq*vec2[0]), (asq,bsq))[0][asq]\n",
    "solve(Eq(minus[1], asq*vec1[1] + bsq*vec2[1]), (asq,bsq))[0][asq]\n",
    "b = solve(Eq(solve(Eq(minus[0], asq*vec1[0] + bsq*vec2[0]),\\\n",
    "                   (asq,bsq))[0][asq],solve(Eq(minus[1], asq*vec1[1] + bsq*vec2[1]), (asq,bsq))[0][asq]))[0]\n",
    "a = solve(Eq(minus[1], asq*vec1[1] + bsq*vec2[1]), (asq,bsq))[0][asq].subs(bsq, b)\n",
    "display((a**2).evalf(),(b**2).evalf())\n",
    "#Se pueden obtener -hw/2 con probabilidad a**2 y -hw/2 con probabilidad b**2"
   ]
  },
  {
   "cell_type": "code",
   "execution_count": 5,
   "metadata": {},
   "outputs": [
    {
     "data": {
      "image/png": "[encoded data removed]",
      "text/latex": [
       "$$0.923879532511287$$"
      ],
      "text/plain": [
       "0.923879532511287"
      ]
     },
     "metadata": {},
     "output_type": "display_data"
    },
    {
     "data": {
      "image/png": "[encoded data removed]",
      "text/latex": [
       "$$0.38268343236509$$"
      ],
      "text/plain": [
       "0.382683432365090"
      ]
     },
     "metadata": {},
     "output_type": "display_data"
    },
    {
     "name": "stdout",
     "output_type": "stream",
     "text": [
      "0.853553390593274\n"
     ]
    }
   ],
   "source": [
    "display(a.evalf(), b.evalf())\n",
    "print (1/(4-2*sqrt(2))).evalf()"
   ]
  },
  {
   "cell_type": "code",
   "execution_count": 6,
   "metadata": {},
   "outputs": [
    {
     "data": {
      "image/png": "[encoded data removed]",
      "text/latex": [
       "$$\\left[\\begin{matrix}- 0.353553390593274 e^{\\frac{i \\omega_{0}}{2} t} + 0.353553390593274 e^{- \\frac{i \\omega_{0}}{2} t}\\\\0.853553390593274 e^{\\frac{i \\omega_{0}}{2} t} + 0.146446609406726 e^{- \\frac{i \\omega_{0}}{2} t}\\end{matrix}\\right]$$"
      ],
      "text/plain": [
       "⎡                     ⅈ⋅ω₀⋅t                      -ⅈ⋅ω₀⋅t ⎤\n",
       "⎢                     ──────                      ────────⎥\n",
       "⎢                       2                            2    ⎥\n",
       "⎢- 0.353553390593274⋅ℯ       + 0.353553390593274⋅ℯ        ⎥\n",
       "⎢                                                         ⎥\n",
       "⎢                    ⅈ⋅ω₀⋅t                      -ⅈ⋅ω₀⋅t  ⎥\n",
       "⎢                    ──────                      ──────── ⎥\n",
       "⎢                      2                            2     ⎥\n",
       "⎣ 0.853553390593274⋅ℯ       + 0.146446609406726⋅ℯ         ⎦"
      ]
     },
     "execution_count": 6,
     "metadata": {},
     "output_type": "execute_result"
    }
   ],
   "source": [
    "minus_t = exp(-I*val1*t/h)*a*vec1 + exp(-I*val2*t/h)*b*vec2\n",
    "trigsimp(minus_t.evalf())\n"
   ]
  },
  {
   "cell_type": "code",
   "execution_count": 7,
   "metadata": {},
   "outputs": [
    {
     "data": {
      "image/png": "[encoded data removed]",
      "text/latex": [
       "$$\\left[\\begin{matrix}0.353553390593274 e^{\\frac{i \\omega_{0}}{2} t} - 0.353553390593274 e^{- \\frac{i \\omega_{0}}{2} t} & 0.146446609406726 e^{\\frac{i \\omega_{0}}{2} t} + 0.853553390593274 e^{- \\frac{i \\omega_{0}}{2} t}\\end{matrix}\\right]$$"
      ],
      "text/plain": [
       "⎡                   ⅈ⋅ω₀⋅t                      -ⅈ⋅ω₀⋅t                      ⅈ\n",
       "⎢                   ──────                      ────────                     ─\n",
       "⎢                     2                            2                          \n",
       "⎣0.353553390593274⋅ℯ       - 0.353553390593274⋅ℯ          0.146446609406726⋅ℯ \n",
       "\n",
       "⋅ω₀⋅t                      -ⅈ⋅ω₀⋅t ⎤\n",
       "─────                      ────────⎥\n",
       " 2                            2    ⎥\n",
       "      + 0.853553390593274⋅ℯ        ⎦"
      ]
     },
     "metadata": {},
     "output_type": "display_data"
    }
   ],
   "source": [
    "minus_t_dagg=Dagger(minus_t)\n",
    "display(minus_t_dagg.evalf())"
   ]
  },
  {
   "cell_type": "code",
   "execution_count": 8,
   "metadata": {},
   "outputs": [
    {
     "data": {
      "image/png": "[encoded data removed]",
      "text/latex": [
       "$$- \\frac{\\hbar}{2} \\sin^{2}{\\left (\\frac{\\omega_{0} t}{2} \\right )}$$"
      ],
      "text/plain": [
       "       2⎛ω₀⋅t⎞ \n",
       "-h̅⋅sin ⎜────⎟ \n",
       "        ⎝ 2  ⎠ \n",
       "───────────────\n",
       "       2       "
      ]
     },
     "metadata": {},
     "output_type": "display_data"
    }
   ],
   "source": [
    "avg_Sx = h/2 * minus_t_dagg*msigma(1)*minus_t\n",
    "display(simplify(avg_Sx[0].rewrite(sin)))"
   ]
  },
  {
   "cell_type": "code",
   "execution_count": 9,
   "metadata": {},
   "outputs": [
    {
     "data": {
      "image/png": "[encoded data removed]",
      "text/latex": [
       "$$- \\frac{1}{2} \\sin^{2}{\\left (\\frac{\\omega_{0} t}{2} \\right )}$$"
      ],
      "text/plain": [
       "    2⎛ω₀⋅t⎞ \n",
       "-sin ⎜────⎟ \n",
       "     ⎝ 2  ⎠ \n",
       "────────────\n",
       "     2      "
      ]
     },
     "execution_count": 9,
     "metadata": {},
     "output_type": "execute_result"
    }
   ],
   "source": [
    "(sin(pi/4)*sin(w0*t/2)**2*1*(sin(pi/8)**2 - cos(pi/8)**2))"
   ]
  },
  {
   "cell_type": "markdown",
   "metadata": {},
   "source": [
    "# Problema 7"
   ]
  },
  {
   "cell_type": "code",
   "execution_count": 16,
   "metadata": {},
   "outputs": [
    {
     "data": {
      "image/png": "[encoded data removed]",
      "text/latex": [
       "$$\\left[\\begin{matrix}0 & - i\\\\i & 0\\end{matrix}\\right]$$"
      ],
      "text/plain": [
       "⎡0  -ⅈ⎤\n",
       "⎢     ⎥\n",
       "⎣ⅈ  0 ⎦"
      ]
     },
     "execution_count": 16,
     "metadata": {},
     "output_type": "execute_result"
    }
   ],
   "source": [
    "from sympy.physics.quantum import TensorProduct as TP\n",
    "S1y = h/2 * TP(msigma(2), eye(2))\n",
    "S1y\n",
    "msigma(2)"
   ]
  },
  {
   "cell_type": "code",
   "execution_count": 80,
   "metadata": {},
   "outputs": [
    {
     "data": {
      "image/png": "[encoded data removed]",
      "text/latex": [
       "$$\\left[\\begin{matrix}\\frac{\\hbar}{2}\\\\- \\frac{i \\hbar}{2}\\\\- \\frac{i \\hbar}{2}\\\\\\frac{i \\hbar}{2}\\end{matrix}\\right]$$"
      ],
      "text/plain": [
       "⎡  h̅  ⎤\n",
       "⎢  ──  ⎥\n",
       "⎢  2   ⎥\n",
       "⎢      ⎥\n",
       "⎢-ⅈ⋅h̅ ⎥\n",
       "⎢──────⎥\n",
       "⎢  2   ⎥\n",
       "⎢      ⎥\n",
       "⎢-ⅈ⋅h̅ ⎥\n",
       "⎢──────⎥\n",
       "⎢  2   ⎥\n",
       "⎢      ⎥\n",
       "⎢ ⅈ⋅h̅ ⎥\n",
       "⎢ ──── ⎥\n",
       "⎣  2   ⎦"
      ]
     },
     "execution_count": 80,
     "metadata": {},
     "output_type": "execute_result"
    }
   ],
   "source": [
    "S1y.eigenvects()\n",
    "S1y*Matrix([[-1], [1], [I], [1]])\n"
   ]
  },
  {
   "cell_type": "code",
   "execution_count": 12,
   "metadata": {},
   "outputs": [
    {
     "data": {
      "image/png": "[encoded data removed]",
      "text/latex": [
       "$$\\left[\\begin{matrix}\\alpha\\\\\\beta\\\\\\gamma\\\\\\delta\\end{matrix}\\right]$$"
      ],
      "text/plain": [
       "⎡α⎤\n",
       "⎢ ⎥\n",
       "⎢β⎥\n",
       "⎢ ⎥\n",
       "⎢γ⎥\n",
       "⎢ ⎥\n",
       "⎣δ⎦"
      ]
     },
     "execution_count": 12,
     "metadata": {},
     "output_type": "execute_result"
    }
   ],
   "source": [
    "a, b, g, d = symbols('alpha beta gamma delta', real=False)\n",
    "init = Matrix([[a], [b], [g], [d]])\n",
    "init"
   ]
  },
  {
   "cell_type": "code",
   "execution_count": 81,
   "metadata": {},
   "outputs": [
    {
     "data": {
      "image/png": "[encoded data removed]",
      "text/latex": [
       "$$\\left[\\begin{matrix}0 & 0 & - \\frac{i \\hbar}{2} & 0\\\\0 & 0 & 0 & - \\frac{i \\hbar}{2}\\\\\\frac{i \\hbar}{2} & 0 & 0 & 0\\\\0 & \\frac{i \\hbar}{2} & 0 & 0\\end{matrix}\\right]$$"
      ],
      "text/plain": [
       "⎡            -ⅈ⋅h̅         ⎤\n",
       "⎢ 0     0    ──────    0   ⎥\n",
       "⎢              2           ⎥\n",
       "⎢                          ⎥\n",
       "⎢                    -ⅈ⋅h̅ ⎥\n",
       "⎢ 0     0      0     ──────⎥\n",
       "⎢                      2   ⎥\n",
       "⎢                          ⎥\n",
       "⎢ⅈ⋅h̅                      ⎥\n",
       "⎢────   0      0       0   ⎥\n",
       "⎢ 2                        ⎥\n",
       "⎢                          ⎥\n",
       "⎢      ⅈ⋅h̅                ⎥\n",
       "⎢ 0    ────    0       0   ⎥\n",
       "⎣       2                  ⎦"
      ]
     },
     "metadata": {},
     "output_type": "display_data"
    }
   ],
   "source": [
    "import numpy as np\n",
    "pp = Matrix([[1], [0], [0], [0]])\n",
    "pm = Matrix([[0], [1], [0], [0]])\n",
    "mp = Matrix([[0], [0], [1], [0]])\n",
    "mm = Matrix([[0], [0], [0], [1]])\n",
    "es = [pp, pm, mp, mm]\n",
    "check = MutableMatrix(np.zeros([4,4]))\n",
    "for i in range(len(pp)):\n",
    "    for k in range(len(pp)):\n",
    "        check[i,k] = Dagger(es[i])*S1y*es[k]\n",
    "display(check)"
   ]
  },
  {
   "cell_type": "code",
   "execution_count": 45,
   "metadata": {
    "scrolled": false
   },
   "outputs": [
    {
     "name": "stdout",
     "output_type": "stream",
     "text": [
      "True\n"
     ]
    },
    {
     "data": {
      "image/png": "[encoded data removed]",
      "text/latex": [
       "$$- \\frac{\\hbar}{2}$$"
      ],
      "text/plain": [
       "-h̅ \n",
       "────\n",
       " 2  "
      ]
     },
     "metadata": {},
     "output_type": "display_data"
    },
    {
     "data": {
      "image/png": "[encoded data removed]",
      "text/latex": [
       "$$\\left[\\begin{matrix}- \\frac{\\sqrt{2}}{2}\\\\0\\\\\\frac{\\sqrt{2}}{2}\\\\0\\end{matrix}\\right]$$"
      ],
      "text/plain": [
       "⎡-√2 ⎤\n",
       "⎢────⎥\n",
       "⎢ 2  ⎥\n",
       "⎢    ⎥\n",
       "⎢ 0  ⎥\n",
       "⎢    ⎥\n",
       "⎢ √2 ⎥\n",
       "⎢ ── ⎥\n",
       "⎢ 2  ⎥\n",
       "⎢    ⎥\n",
       "⎣ 0  ⎦"
      ]
     },
     "metadata": {},
     "output_type": "display_data"
    },
    {
     "data": {
      "image/png": "[encoded data removed]",
      "text/latex": [
       "$$\\left[\\begin{matrix}0\\\\- \\frac{i \\hbar}{4} \\sqrt{2}\\\\0\\\\\\frac{i \\hbar}{4} \\sqrt{2}\\end{matrix}\\right]$$"
      ],
      "text/plain": [
       "⎡    0    ⎤\n",
       "⎢         ⎥\n",
       "⎢-√2⋅ⅈ⋅h̅ ⎥\n",
       "⎢─────────⎥\n",
       "⎢    4    ⎥\n",
       "⎢         ⎥\n",
       "⎢    0    ⎥\n",
       "⎢         ⎥\n",
       "⎢ √2⋅ⅈ⋅h̅ ⎥\n",
       "⎢ ─────── ⎥\n",
       "⎣    4    ⎦"
      ]
     },
     "metadata": {},
     "output_type": "display_data"
    },
    {
     "data": {
      "image/png": "[encoded data removed]",
      "text/latex": [
       "$$- \\frac{\\hbar}{2}$$"
      ],
      "text/plain": [
       "-h̅ \n",
       "────\n",
       " 2  "
      ]
     },
     "metadata": {},
     "output_type": "display_data"
    },
    {
     "data": {
      "image/png": "[encoded data removed]",
      "text/latex": [
       "$$\\left[\\begin{matrix}0\\\\- \\frac{\\sqrt{2}}{2}\\\\0\\\\\\frac{\\sqrt{2}}{2}\\end{matrix}\\right]$$"
      ],
      "text/plain": [
       "⎡ 0  ⎤\n",
       "⎢    ⎥\n",
       "⎢-√2 ⎥\n",
       "⎢────⎥\n",
       "⎢ 2  ⎥\n",
       "⎢    ⎥\n",
       "⎢ 0  ⎥\n",
       "⎢    ⎥\n",
       "⎢ √2 ⎥\n",
       "⎢ ── ⎥\n",
       "⎣ 2  ⎦"
      ]
     },
     "metadata": {},
     "output_type": "display_data"
    },
    {
     "data": {
      "image/png": "[encoded data removed]",
      "text/latex": [
       "$$\\left[\\begin{matrix}\\frac{i \\hbar}{4} \\sqrt{2}\\\\0\\\\- \\frac{i \\hbar}{4} \\sqrt{2}\\\\0\\end{matrix}\\right]$$"
      ],
      "text/plain": [
       "⎡ √2⋅ⅈ⋅h̅ ⎤\n",
       "⎢ ─────── ⎥\n",
       "⎢    4    ⎥\n",
       "⎢         ⎥\n",
       "⎢    0    ⎥\n",
       "⎢         ⎥\n",
       "⎢-√2⋅ⅈ⋅h̅ ⎥\n",
       "⎢─────────⎥\n",
       "⎢    4    ⎥\n",
       "⎢         ⎥\n",
       "⎣    0    ⎦"
      ]
     },
     "metadata": {},
     "output_type": "display_data"
    },
    {
     "data": {
      "image/png": "[encoded data removed]",
      "text/latex": [
       "$$\\frac{\\hbar}{2}$$"
      ],
      "text/plain": [
       "h̅\n",
       "──\n",
       "2 "
      ]
     },
     "metadata": {},
     "output_type": "display_data"
    },
    {
     "data": {
      "image/png": "[encoded data removed]",
      "text/latex": [
       "$$\\left[\\begin{matrix}\\frac{\\sqrt{2}}{2}\\\\0\\\\\\frac{\\sqrt{2}}{2}\\\\0\\end{matrix}\\right]$$"
      ],
      "text/plain": [
       "⎡√2⎤\n",
       "⎢──⎥\n",
       "⎢2 ⎥\n",
       "⎢  ⎥\n",
       "⎢0 ⎥\n",
       "⎢  ⎥\n",
       "⎢√2⎥\n",
       "⎢──⎥\n",
       "⎢2 ⎥\n",
       "⎢  ⎥\n",
       "⎣0 ⎦"
      ]
     },
     "metadata": {},
     "output_type": "display_data"
    },
    {
     "data": {
      "image/png": "[encoded data removed]",
      "text/latex": [
       "$$\\left[\\begin{matrix}0\\\\\\frac{i \\hbar}{4} \\sqrt{2}\\\\0\\\\\\frac{i \\hbar}{4} \\sqrt{2}\\end{matrix}\\right]$$"
      ],
      "text/plain": [
       "⎡   0   ⎤\n",
       "⎢       ⎥\n",
       "⎢√2⋅ⅈ⋅h̅⎥\n",
       "⎢───────⎥\n",
       "⎢   4   ⎥\n",
       "⎢       ⎥\n",
       "⎢   0   ⎥\n",
       "⎢       ⎥\n",
       "⎢√2⋅ⅈ⋅h̅⎥\n",
       "⎢───────⎥\n",
       "⎣   4   ⎦"
      ]
     },
     "metadata": {},
     "output_type": "display_data"
    },
    {
     "data": {
      "image/png": "[encoded data removed]",
      "text/latex": [
       "$$\\frac{\\hbar}{2}$$"
      ],
      "text/plain": [
       "h̅\n",
       "──\n",
       "2 "
      ]
     },
     "metadata": {},
     "output_type": "display_data"
    },
    {
     "data": {
      "image/png": "[encoded data removed]",
      "text/latex": [
       "$$\\left[\\begin{matrix}0\\\\\\frac{\\sqrt{2}}{2}\\\\0\\\\\\frac{\\sqrt{2}}{2}\\end{matrix}\\right]$$"
      ],
      "text/plain": [
       "⎡0 ⎤\n",
       "⎢  ⎥\n",
       "⎢√2⎥\n",
       "⎢──⎥\n",
       "⎢2 ⎥\n",
       "⎢  ⎥\n",
       "⎢0 ⎥\n",
       "⎢  ⎥\n",
       "⎢√2⎥\n",
       "⎢──⎥\n",
       "⎣2 ⎦"
      ]
     },
     "metadata": {},
     "output_type": "display_data"
    },
    {
     "data": {
      "image/png": "[encoded data removed]",
      "text/latex": [
       "$$\\left[\\begin{matrix}- \\frac{i \\hbar}{4} \\sqrt{2}\\\\0\\\\- \\frac{i \\hbar}{4} \\sqrt{2}\\\\0\\end{matrix}\\right]$$"
      ],
      "text/plain": [
       "⎡-√2⋅ⅈ⋅h̅ ⎤\n",
       "⎢─────────⎥\n",
       "⎢    4    ⎥\n",
       "⎢         ⎥\n",
       "⎢    0    ⎥\n",
       "⎢         ⎥\n",
       "⎢-√2⋅ⅈ⋅h̅ ⎥\n",
       "⎢─────────⎥\n",
       "⎢    4    ⎥\n",
       "⎢         ⎥\n",
       "⎣    0    ⎦"
      ]
     },
     "metadata": {},
     "output_type": "display_data"
    }
   ],
   "source": [
    "S1x = h/2 * TP(msigma(1), eye(2))\n",
    "S2y = h/2 * TP(eye(2), msigma(2))\n",
    "print S1x*S2y==S2y*S1x\n",
    "simul1 = S1x\n",
    "simul1.eigenvects()\n",
    "vecs = []\n",
    "vecs.append(simul1.eigenvects()[0][2][0])\n",
    "vecs.append(simul1.eigenvects()[0][2][1])\n",
    "vecs.append(simul1.eigenvects()[1][2][0])\n",
    "vecs.append(simul1.eigenvects()[1][2][1])\n",
    "vals = []\n",
    "vals.append(simul1.eigenvects()[0][0])\n",
    "vals.append(simul1.eigenvects()[0][0])\n",
    "vals.append(simul1.eigenvects()[1][0])\n",
    "vals.append(simul1.eigenvects()[1][0])\n",
    "Ps = []\n",
    "for i in range(len(vecs)):\n",
    "    vecs[i]/=sqrt((Dagger(vecs[i])*vecs[i])[0])\n",
    "    display(vals[i], vecs[i])\n",
    "    display(S2y*vecs[i])\n",
    "    Ps.append((abs(Dagger(vecs[i])*init)**2)[0])\n",
    "    #display(abs((Dagger(vecs[i])*init)[0])**2)\n",
    "#display(simplify(Ps[0]+Ps[1]))\n"
   ]
  },
  {
   "cell_type": "code",
   "execution_count": 47,
   "metadata": {},
   "outputs": [
    {
     "data": {
      "image/png": "[encoded data removed]",
      "text/latex": [
       "$$\\left[\\begin{matrix}- \\frac{\\sqrt{2}}{2}\\\\0\\\\\\frac{\\sqrt{2}}{2}\\\\0\\end{matrix}\\right]$$"
      ],
      "text/plain": [
       "⎡-√2 ⎤\n",
       "⎢────⎥\n",
       "⎢ 2  ⎥\n",
       "⎢    ⎥\n",
       "⎢ 0  ⎥\n",
       "⎢    ⎥\n",
       "⎢ √2 ⎥\n",
       "⎢ ── ⎥\n",
       "⎢ 2  ⎥\n",
       "⎢    ⎥\n",
       "⎣ 0  ⎦"
      ]
     },
     "execution_count": 47,
     "metadata": {},
     "output_type": "execute_result"
    }
   ],
   "source": [
    "vecs[0]"
   ]
  },
  {
   "cell_type": "code",
   "execution_count": 78,
   "metadata": {},
   "outputs": [
    {
     "data": {
      "image/png": "[encoded data removed]",
      "text/latex": [
       "$$- \\frac{\\hbar^{2}}{4}$$"
      ],
      "text/plain": [
       "   2 \n",
       "-h̅  \n",
       "─────\n",
       "  4  "
      ]
     },
     "metadata": {},
     "output_type": "display_data"
    },
    {
     "data": {
      "image/png": "[encoded data removed]",
      "text/latex": [
       "$$\\left|{\\frac{i \\beta}{2} \\sqrt{2} + \\frac{\\sqrt{2} \\gamma}{2}}\\right|^{2}$$"
      ],
      "text/plain": [
       "               2\n",
       "│√2⋅ⅈ⋅β   √2⋅γ│ \n",
       "│────── + ────│ \n",
       "│  2       2  │ "
      ]
     },
     "metadata": {},
     "output_type": "display_data"
    },
    {
     "data": {
      "image/png": "[encoded data removed]",
      "text/latex": [
       "$$- \\frac{\\hbar^{2}}{4}$$"
      ],
      "text/plain": [
       "   2 \n",
       "-h̅  \n",
       "─────\n",
       "  4  "
      ]
     },
     "metadata": {},
     "output_type": "display_data"
    },
    {
     "data": {
      "image/png": "[encoded data removed]",
      "text/latex": [
       "$$\\left|{\\frac{i \\alpha}{2} \\sqrt{2} - \\frac{\\sqrt{2} \\delta}{2}}\\right|^{2}$$"
      ],
      "text/plain": [
       "               2\n",
       "│√2⋅ⅈ⋅α   √2⋅δ│ \n",
       "│────── - ────│ \n",
       "│  2       2  │ "
      ]
     },
     "metadata": {},
     "output_type": "display_data"
    },
    {
     "data": {
      "image/png": "[encoded data removed]",
      "text/latex": [
       "$$\\frac{\\hbar^{2}}{4}$$"
      ],
      "text/plain": [
       "  2\n",
       "h̅ \n",
       "───\n",
       " 4 "
      ]
     },
     "metadata": {},
     "output_type": "display_data"
    },
    {
     "data": {
      "image/png": "[encoded data removed]",
      "text/latex": [
       "$$\\left|{\\frac{i \\beta}{2} \\sqrt{2} - \\frac{\\sqrt{2} \\gamma}{2}}\\right|^{2}$$"
      ],
      "text/plain": [
       "               2\n",
       "│√2⋅ⅈ⋅β   √2⋅γ│ \n",
       "│────── - ────│ \n",
       "│  2       2  │ "
      ]
     },
     "metadata": {},
     "output_type": "display_data"
    },
    {
     "data": {
      "image/png": "[encoded data removed]",
      "text/latex": [
       "$$\\frac{\\hbar^{2}}{4}$$"
      ],
      "text/plain": [
       "  2\n",
       "h̅ \n",
       "───\n",
       " 4 "
      ]
     },
     "metadata": {},
     "output_type": "display_data"
    },
    {
     "data": {
      "image/png": "[encoded data removed]",
      "text/latex": [
       "$$\\left|{\\frac{i \\alpha}{2} \\sqrt{2} + \\frac{\\sqrt{2} \\delta}{2}}\\right|^{2}$$"
      ],
      "text/plain": [
       "               2\n",
       "│√2⋅ⅈ⋅α   √2⋅δ│ \n",
       "│────── + ────│ \n",
       "│  2       2  │ "
      ]
     },
     "metadata": {},
     "output_type": "display_data"
    },
    {
     "data": {
      "image/png": "[encoded data removed]",
      "text/latex": [
       "$$\\frac{1}{2} \\left|{i \\alpha - \\delta}\\right|^{2} + \\frac{1}{2} \\left|{i \\beta + \\gamma}\\right|^{2}$$"
      ],
      "text/plain": [
       "         2            2\n",
       "│ⅈ⋅α - δ│    │ⅈ⋅β + γ│ \n",
       "────────── + ──────────\n",
       "    2            2     "
      ]
     },
     "metadata": {},
     "output_type": "display_data"
    },
    {
     "data": {
      "image/png": "[encoded data removed]",
      "text/latex": [
       "$$\\left [ \\left[\\begin{matrix}0\\\\- \\frac{\\sqrt{2} i}{2}\\\\\\frac{\\sqrt{2}}{2}\\\\0\\end{matrix}\\right], \\quad \\left[\\begin{matrix}\\frac{\\sqrt{2} i}{2}\\\\0\\\\0\\\\\\frac{\\sqrt{2}}{2}\\end{matrix}\\right], \\quad \\left[\\begin{matrix}0\\\\\\frac{\\sqrt{2} i}{2}\\\\\\frac{\\sqrt{2}}{2}\\\\0\\end{matrix}\\right], \\quad \\left[\\begin{matrix}- \\frac{\\sqrt{2} i}{2}\\\\0\\\\0\\\\\\frac{\\sqrt{2}}{2}\\end{matrix}\\right]\\right ]$$"
      ],
      "text/plain": [
       "⎡⎡  0   ⎤  ⎡√2⋅ⅈ⎤  ⎡ 0  ⎤  ⎡-√2⋅ⅈ ⎤⎤\n",
       "⎢⎢      ⎥  ⎢────⎥  ⎢    ⎥  ⎢──────⎥⎥\n",
       "⎢⎢-√2⋅ⅈ ⎥  ⎢ 2  ⎥  ⎢√2⋅ⅈ⎥  ⎢  2   ⎥⎥\n",
       "⎢⎢──────⎥  ⎢    ⎥  ⎢────⎥  ⎢      ⎥⎥\n",
       "⎢⎢  2   ⎥  ⎢ 0  ⎥  ⎢ 2  ⎥  ⎢  0   ⎥⎥\n",
       "⎢⎢      ⎥, ⎢    ⎥, ⎢    ⎥, ⎢      ⎥⎥\n",
       "⎢⎢  √2  ⎥  ⎢ 0  ⎥  ⎢ √2 ⎥  ⎢  0   ⎥⎥\n",
       "⎢⎢  ──  ⎥  ⎢    ⎥  ⎢ ── ⎥  ⎢      ⎥⎥\n",
       "⎢⎢  2   ⎥  ⎢ √2 ⎥  ⎢ 2  ⎥  ⎢  √2  ⎥⎥\n",
       "⎢⎢      ⎥  ⎢ ── ⎥  ⎢    ⎥  ⎢  ──  ⎥⎥\n",
       "⎣⎣  0   ⎦  ⎣ 2  ⎦  ⎣ 0  ⎦  ⎣  2   ⎦⎦"
      ]
     },
     "metadata": {},
     "output_type": "display_data"
    },
    {
     "data": {
      "text/plain": [
       "'\\ncheck = MutableMatrix(np.zeros([4,4]))\\nfor i in range(len(pp)):\\n    for k in range(len(pp)):\\n        check[i,k] = Dagger(vecs[i])*S1x*vecs[k]\\ndisplay(check)\\ncheck.eigenvects()'"
      ]
     },
     "execution_count": 78,
     "metadata": {},
     "output_type": "execute_result"
    }
   ],
   "source": [
    "simul2 = TP(h/2 * msigma(1),h/2 * msigma(2))\n",
    "#simul2=S2y\n",
    "simul2.eigenvects()\n",
    "vecs = []\n",
    "vecs.append(simul2.eigenvects()[0][2][0])\n",
    "vecs.append(simul2.eigenvects()[0][2][1])\n",
    "vecs.append(simul2.eigenvects()[1][2][0])\n",
    "vecs.append(simul2.eigenvects()[1][2][1])\n",
    "vals = []\n",
    "vals.append(simul2.eigenvects()[0][0])\n",
    "vals.append(simul2.eigenvects()[0][0])\n",
    "vals.append(simul2.eigenvects()[1][0])\n",
    "vals.append(simul2.eigenvects()[1][0])\n",
    "Ps = []\n",
    "for i in range(len(vecs)):\n",
    "    display(vals[i])\n",
    "    vecs[i]/=sqrt((Dagger(vecs[i])*vecs[i])[0])\n",
    "    Ps.append((abs(Dagger(vecs[i])*init)**2)[0])\n",
    "    display(abs((Dagger(vecs[i])*init)[0])**2)\n",
    "display(simplify(Ps[0]+Ps[1]))\n",
    "display(vecs)\n",
    "'''\n",
    "check = MutableMatrix(np.zeros([4,4]))\n",
    "for i in range(len(pp)):\n",
    "    for k in range(len(pp)):\n",
    "        check[i,k] = Dagger(vecs[i])*S1x*vecs[k]\n",
    "display(check)\n",
    "check.eigenvects()'''"
   ]
  },
  {
   "cell_type": "code",
   "execution_count": 79,
   "metadata": {},
   "outputs": [
    {
     "data": {
      "image/png": "[encoded data removed]",
      "text/latex": [
       "$$\\left[\\begin{matrix}- \\frac{\\hbar}{4}\\\\- \\frac{\\hbar}{4}\\\\- \\frac{i \\hbar}{4}\\\\\\frac{i \\hbar}{4}\\end{matrix}\\right]$$"
      ],
      "text/plain": [
       "⎡ -h̅  ⎤\n",
       "⎢ ──── ⎥\n",
       "⎢  4   ⎥\n",
       "⎢      ⎥\n",
       "⎢ -h̅  ⎥\n",
       "⎢ ──── ⎥\n",
       "⎢  4   ⎥\n",
       "⎢      ⎥\n",
       "⎢-ⅈ⋅h̅ ⎥\n",
       "⎢──────⎥\n",
       "⎢  4   ⎥\n",
       "⎢      ⎥\n",
       "⎢ ⅈ⋅h̅ ⎥\n",
       "⎢ ──── ⎥\n",
       "⎣  4   ⎦"
      ]
     },
     "metadata": {},
     "output_type": "display_data"
    },
    {
     "data": {
      "image/png": "[encoded data removed]",
      "text/latex": [
       "$$\\left[\\begin{matrix}- \\frac{\\hbar}{4}\\\\\\frac{\\hbar}{4}\\\\\\frac{i \\hbar}{4}\\\\\\frac{i \\hbar}{4}\\end{matrix}\\right]$$"
      ],
      "text/plain": [
       "⎡-h̅ ⎤\n",
       "⎢────⎥\n",
       "⎢ 4  ⎥\n",
       "⎢    ⎥\n",
       "⎢ h̅ ⎥\n",
       "⎢ ── ⎥\n",
       "⎢ 4  ⎥\n",
       "⎢    ⎥\n",
       "⎢ⅈ⋅h̅⎥\n",
       "⎢────⎥\n",
       "⎢ 4  ⎥\n",
       "⎢    ⎥\n",
       "⎢ⅈ⋅h̅⎥\n",
       "⎢────⎥\n",
       "⎣ 4  ⎦"
      ]
     },
     "metadata": {},
     "output_type": "display_data"
    }
   ],
   "source": [
    "lam = symbols('lamda')\n",
    "new_vecs = []\n",
    "new_vecs.append(1/sqrt(2) * (vecs[0]+vecs[1]))\n",
    "new_vecs.append(1/sqrt(2) * (vecs[0]-vecs[1]))\n",
    "new_vecs.append(1/sqrt(2) * (vecs[2]+vecs[3]))\n",
    "new_vecs.append(1/sqrt(2) * (vecs[2]-vecs[3]))\n",
    "for i in range(4):\n",
    "    solve(S1x*new_vecs[i]-lam*new_vecs[i])\n",
    "display(S2y*new_vecs[0])\n",
    "display(I*h/2 *new_vecs[0])"
   ]
  },
  {
   "cell_type": "code",
   "execution_count": 119,
   "metadata": {
    "scrolled": false
   },
   "outputs": [
    {
     "data": {
      "image/png": "[encoded data removed]",
      "text/latex": [
       "$$\\left [ \\left ( - \\frac{\\hbar}{2}, \\quad 2, \\quad \\left [ \\left[\\begin{matrix}i\\\\1\\\\0\\\\0\\end{matrix}\\right], \\quad \\left[\\begin{matrix}0\\\\0\\\\i\\\\1\\end{matrix}\\right]\\right ]\\right ), \\quad \\left ( \\frac{\\hbar}{2}, \\quad 2, \\quad \\left [ \\left[\\begin{matrix}- i\\\\1\\\\0\\\\0\\end{matrix}\\right], \\quad \\left[\\begin{matrix}0\\\\0\\\\- i\\\\1\\end{matrix}\\right]\\right ]\\right )\\right ]$$"
      ],
      "text/plain": [
       "⎡⎛         ⎡⎡ⅈ⎤  ⎡0⎤⎤⎞  ⎛       ⎡⎡-ⅈ⎤  ⎡0 ⎤⎤⎞⎤\n",
       "⎢⎜         ⎢⎢ ⎥  ⎢ ⎥⎥⎟  ⎜       ⎢⎢  ⎥  ⎢  ⎥⎥⎟⎥\n",
       "⎢⎜-h̅      ⎢⎢1⎥  ⎢0⎥⎥⎟  ⎜h̅     ⎢⎢1 ⎥  ⎢0 ⎥⎥⎟⎥\n",
       "⎢⎜────, 2, ⎢⎢ ⎥, ⎢ ⎥⎥⎟, ⎜──, 2, ⎢⎢  ⎥, ⎢  ⎥⎥⎟⎥\n",
       "⎢⎜ 2       ⎢⎢0⎥  ⎢ⅈ⎥⎥⎟  ⎜2      ⎢⎢0 ⎥  ⎢-ⅈ⎥⎥⎟⎥\n",
       "⎢⎜         ⎢⎢ ⎥  ⎢ ⎥⎥⎟  ⎜       ⎢⎢  ⎥  ⎢  ⎥⎥⎟⎥\n",
       "⎣⎝         ⎣⎣0⎦  ⎣1⎦⎦⎠  ⎝       ⎣⎣0 ⎦  ⎣1 ⎦⎦⎠⎦"
      ]
     },
     "execution_count": 119,
     "metadata": {},
     "output_type": "execute_result"
    }
   ],
   "source": [
    "S2y.eigenvects()"
   ]
  },
  {
   "cell_type": "code",
   "execution_count": 27,
   "metadata": {},
   "outputs": [
    {
     "data": {
      "image/png": "[encoded data removed]",
      "text/latex": [
       "$$\\left [ \\left ( - \\frac{\\hbar^{2}}{4}, \\quad 2, \\quad \\left [ \\left[\\begin{matrix}0\\\\- i\\\\1\\\\0\\end{matrix}\\right], \\quad \\left[\\begin{matrix}i\\\\0\\\\0\\\\1\\end{matrix}\\right]\\right ]\\right ), \\quad \\left ( \\frac{\\hbar^{2}}{4}, \\quad 2, \\quad \\left [ \\left[\\begin{matrix}0\\\\i\\\\1\\\\0\\end{matrix}\\right], \\quad \\left[\\begin{matrix}- i\\\\0\\\\0\\\\1\\end{matrix}\\right]\\right ]\\right )\\right ]$$"
      ],
      "text/plain": [
       "⎡⎛          ⎡⎡0 ⎤  ⎡ⅈ⎤⎤⎞  ⎛        ⎡⎡0⎤  ⎡-ⅈ⎤⎤⎞⎤\n",
       "⎢⎜   2      ⎢⎢  ⎥  ⎢ ⎥⎥⎟  ⎜  2     ⎢⎢ ⎥  ⎢  ⎥⎥⎟⎥\n",
       "⎢⎜-h̅       ⎢⎢-ⅈ⎥  ⎢0⎥⎥⎟  ⎜h̅      ⎢⎢ⅈ⎥  ⎢0 ⎥⎥⎟⎥\n",
       "⎢⎜─────, 2, ⎢⎢  ⎥, ⎢ ⎥⎥⎟, ⎜───, 2, ⎢⎢ ⎥, ⎢  ⎥⎥⎟⎥\n",
       "⎢⎜  4       ⎢⎢1 ⎥  ⎢0⎥⎥⎟  ⎜ 4      ⎢⎢1⎥  ⎢0 ⎥⎥⎟⎥\n",
       "⎢⎜          ⎢⎢  ⎥  ⎢ ⎥⎥⎟  ⎜        ⎢⎢ ⎥  ⎢  ⎥⎥⎟⎥\n",
       "⎣⎝          ⎣⎣0 ⎦  ⎣1⎦⎦⎠  ⎝        ⎣⎣0⎦  ⎣1 ⎦⎦⎠⎦"
      ]
     },
     "execution_count": 27,
     "metadata": {},
     "output_type": "execute_result"
    }
   ],
   "source": [
    "TP(h/2 * msigma(1),h/2 * msigma(2)).eigenvects()"
   ]
  },
  {
   "cell_type": "code",
   "execution_count": 49,
   "metadata": {},
   "outputs": [
    {
     "data": {
      "image/png": "[encoded data removed]",
      "text/latex": [
       "$$\\left [ \\left ( -1, \\quad 1, \\quad \\left [ \\left[\\begin{matrix}-1\\\\1\\end{matrix}\\right]\\right ]\\right ), \\quad \\left ( 1, \\quad 1, \\quad \\left [ \\left[\\begin{matrix}1\\\\1\\end{matrix}\\right]\\right ]\\right )\\right ]$$"
      ],
      "text/plain": [
       "⎡⎛       ⎡⎡-1⎤⎤⎞  ⎛      ⎡⎡1⎤⎤⎞⎤\n",
       "⎢⎜-1, 1, ⎢⎢  ⎥⎥⎟, ⎜1, 1, ⎢⎢ ⎥⎥⎟⎥\n",
       "⎣⎝       ⎣⎣1 ⎦⎦⎠  ⎝      ⎣⎣1⎦⎦⎠⎦"
      ]
     },
     "execution_count": 49,
     "metadata": {},
     "output_type": "execute_result"
    }
   ],
   "source": [
    "msigma(1).eigenvects()"
   ]
  },
  {
   "cell_type": "code",
   "execution_count": null,
   "metadata": {},
   "outputs": [],
   "source": []
  }
 ],
 "metadata": {
  "anaconda-cloud": {},
  "kernelspec": {
   "display_name": "Python [conda root]",
   "language": "python",
   "name": "conda-root-py"
  },
  "language_info": {
   "codemirror_mode": {
    "name": "ipython",
    "version": 2
   },
   "file_extension": ".py",
   "mimetype": "text/x-python",
   "name": "python",
   "nbconvert_exporter": "python",
   "pygments_lexer": "ipython2",
   "version": "2.7.14"
  }
 },
 "nbformat": 4,
 "nbformat_minor": 2
}
