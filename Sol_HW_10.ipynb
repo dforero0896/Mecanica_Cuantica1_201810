{
 "cells": [
  {
   "cell_type": "code",
   "execution_count": 1,
   "metadata": {},
   "outputs": [],
   "source": [
    "from sympy import *\n",
    "init_printing()\n",
    "from IPython.display import display\n",
    "from sympy.physics.matrices import msigma\n",
    "from sympy.physics.quantum.dagger import Dagger\n",
    "from sympy.physics.quantum import Ket, Bra\n",
    "from sympy.physics.quantum.state import Wavefunction\n",
    "from sympy.physics.quantum import TensorProduct as TP"
   ]
  },
  {
   "cell_type": "markdown",
   "metadata": {},
   "source": [
    "# Problema 3"
   ]
  },
  {
   "cell_type": "code",
   "execution_count": 2,
   "metadata": {},
   "outputs": [
    {
     "data": {
      "image/png": "[encoded data removed]",
      "text/latex": [
       "$$\\left[\\begin{matrix}\\frac{\\hbar \\omega_{0}}{4} \\sqrt{2} & \\frac{\\hbar \\omega_{0}}{4} \\sqrt{2}\\\\\\frac{\\hbar \\omega_{0}}{4} \\sqrt{2} & - \\frac{\\hbar \\omega_{0}}{4} \\sqrt{2}\\end{matrix}\\right]$$"
      ],
      "text/plain": [
       "⎡√2⋅h̅⋅ω₀   √2⋅h̅⋅ω₀ ⎤\n",
       "⎢────────   ──────── ⎥\n",
       "⎢   4          4     ⎥\n",
       "⎢                    ⎥\n",
       "⎢√2⋅h̅⋅ω₀  -√2⋅h̅⋅ω₀ ⎥\n",
       "⎢────────  ──────────⎥\n",
       "⎣   4          4     ⎦"
      ]
     },
     "metadata": {},
     "output_type": "display_data"
    }
   ],
   "source": [
    "h, B0, w0 = symbols('hbar B_0 omega_0', positive=True, real=True)\n",
    "\n",
    "H = w0/sqrt(2) * msigma(1)*h/2 + w0/sqrt(2) * msigma(3)*h/2\n",
    "display(H)\n",
    "#0.25 "
   ]
  },
  {
   "cell_type": "code",
   "execution_count": 3,
   "metadata": {},
   "outputs": [
    {
     "data": {
      "image/png": "[encoded data removed]",
      "text/latex": [
       "$$\\left [ \\left ( - \\frac{\\hbar \\omega_{0}}{2}, \\quad 1, \\quad \\left [ \\left[\\begin{matrix}- \\frac{\\sqrt{2} \\hbar \\omega_{0}}{4 \\left(\\frac{\\hbar \\omega_{0}}{4} \\sqrt{2} + \\frac{\\hbar \\omega_{0}}{2}\\right)}\\\\1\\end{matrix}\\right]\\right ]\\right ), \\quad \\left ( \\frac{\\hbar \\omega_{0}}{2}, \\quad 1, \\quad \\left [ \\left[\\begin{matrix}- \\frac{2 \\sqrt{2}}{\\hbar \\omega_{0}} \\left(- \\frac{\\hbar \\omega_{0}}{2} - \\frac{\\hbar \\omega_{0}}{4} \\sqrt{2}\\right)\\\\1\\end{matrix}\\right]\\right ]\\right )\\right ]$$"
      ],
      "text/plain": [
       "⎡⎛            ⎡⎡     -√2⋅h̅⋅ω₀      ⎤⎤⎞  ⎛          ⎡⎡      ⎛  h̅⋅ω₀   √2⋅h̅⋅ω\n",
       "⎢⎜            ⎢⎢────────────────────⎥⎥⎟  ⎜          ⎢⎢-2⋅√2⋅⎜- ───── - ───────\n",
       "⎢⎜-h̅⋅ω₀      ⎢⎢  ⎛√2⋅h̅⋅ω₀   h̅⋅ω₀⎞⎥⎥⎟  ⎜h̅⋅ω₀     ⎢⎢      ⎝    2        4   \n",
       "⎢⎜───────, 1, ⎢⎢4⋅⎜──────── + ─────⎟⎥⎥⎟, ⎜─────, 1, ⎢⎢────────────────────────\n",
       "⎢⎜   2        ⎢⎢  ⎝   4         2  ⎠⎥⎥⎟  ⎜  2       ⎢⎢           h̅⋅ω₀        \n",
       "⎢⎜            ⎢⎢                    ⎥⎥⎟  ⎜          ⎢⎢                        \n",
       "⎣⎝            ⎣⎣         1          ⎦⎦⎠  ⎝          ⎣⎣             1          \n",
       "\n",
       "₀⎞ ⎤⎤⎞⎤\n",
       "─⎟ ⎥⎥⎟⎥\n",
       " ⎠ ⎥⎥⎟⎥\n",
       "───⎥⎥⎟⎥\n",
       "   ⎥⎥⎟⎥\n",
       "   ⎥⎥⎟⎥\n",
       "   ⎦⎦⎠⎦"
      ]
     },
     "metadata": {},
     "output_type": "display_data"
    },
    {
     "data": {
      "text/plain": [
       "'sn_dn'"
      ]
     },
     "metadata": {},
     "output_type": "display_data"
    },
    {
     "data": {
      "image/png": "[encoded data removed]",
      "text/latex": [
       "$$\\left[\\begin{matrix}-0.38268343236509\\\\0.923879532511287\\end{matrix}\\right]$$"
      ],
      "text/plain": [
       "⎡-0.38268343236509⎤\n",
       "⎢                 ⎥\n",
       "⎣0.923879532511287⎦"
      ]
     },
     "metadata": {},
     "output_type": "display_data"
    },
    {
     "data": {
      "text/plain": [
       "'sn_up'"
      ]
     },
     "metadata": {},
     "output_type": "display_data"
    },
    {
     "data": {
      "image/png": "[encoded data removed]",
      "text/latex": [
       "$$\\left[\\begin{matrix}0.923879532511287\\\\0.38268343236509\\end{matrix}\\right]$$"
      ],
      "text/plain": [
       "⎡0.923879532511287⎤\n",
       "⎢                 ⎥\n",
       "⎣0.38268343236509 ⎦"
      ]
     },
     "metadata": {},
     "output_type": "display_data"
    }
   ],
   "source": [
    "display(H.eigenvects())\n",
    "vec1 = simplify(H.eigenvects()[0][2][0])\n",
    "vec2 = simplify(H.eigenvects()[1][2][0])\n",
    "val1 = simplify(H.eigenvects()[0][0])\n",
    "val2 = simplify(H.eigenvects()[1][0])\n",
    "Nsq=(Dagger(vec1)*vec1)[0]\n",
    "vec1/=sqrt(Nsq)\n",
    "display('sn_dn',simplify(vec1.evalf()))\n",
    "Nsq=(Dagger(vec2)*vec2)[0]\n",
    "vec2/=sqrt(Nsq)\n",
    "display('sn_up',simplify(vec2.evalf()))\n",
    "#0.25"
   ]
  },
  {
   "cell_type": "code",
   "execution_count": 4,
   "metadata": {},
   "outputs": [
    {
     "data": {
      "text/plain": [
       "'sn_up'"
      ]
     },
     "metadata": {},
     "output_type": "display_data"
    },
    {
     "data": {
      "image/png": "[encoded data removed]",
      "text/latex": [
       "$$\\left[\\begin{matrix}0.923879532511287\\\\0.38268343236509\\end{matrix}\\right]$$"
      ],
      "text/plain": [
       "⎡0.923879532511287⎤\n",
       "⎢                 ⎥\n",
       "⎣0.38268343236509 ⎦"
      ]
     },
     "metadata": {},
     "output_type": "display_data"
    },
    {
     "data": {
      "text/plain": [
       "'sn_dn'"
      ]
     },
     "metadata": {},
     "output_type": "display_data"
    },
    {
     "data": {
      "image/png": "[encoded data removed]",
      "text/latex": [
       "$$\\left[\\begin{matrix}0.38268343236509\\\\-0.923879532511287\\end{matrix}\\right]$$"
      ],
      "text/plain": [
       "⎡ 0.38268343236509 ⎤\n",
       "⎢                  ⎥\n",
       "⎣-0.923879532511287⎦"
      ]
     },
     "metadata": {},
     "output_type": "display_data"
    }
   ],
   "source": [
    "th, phi, w = symbols('theta phi omega', real=True)\n",
    "chi_n_up = Matrix([[cos(th/2)],[sin(th/2)*exp(I*phi)]])\n",
    "chi_n_dn = Matrix([[sin(th/2)],[-cos(th/2)*exp(I*phi)]])\n",
    "sn_up = chi_n_up.subs(th,pi/4).subs(phi,0)\n",
    "sn_dn = chi_n_dn.subs(th,pi/4).subs(phi,0)\n",
    "display('sn_up',sn_up.evalf())\n",
    "display('sn_dn',sn_dn.evalf())"
   ]
  },
  {
   "cell_type": "code",
   "execution_count": 5,
   "metadata": {},
   "outputs": [
    {
     "data": {
      "text/plain": [
       "'P_sn_dn=a**2'"
      ]
     },
     "metadata": {},
     "output_type": "display_data"
    },
    {
     "data": {
      "image/png": "[encoded data removed]",
      "text/latex": [
       "$$0.853553390593274$$"
      ],
      "text/plain": [
       "0.853553390593274"
      ]
     },
     "metadata": {},
     "output_type": "display_data"
    },
    {
     "data": {
      "text/plain": [
       "'P_sn_up=b**2'"
      ]
     },
     "metadata": {},
     "output_type": "display_data"
    },
    {
     "data": {
      "image/png": "[encoded data removed]",
      "text/latex": [
       "$$0.146446609406726$$"
      ],
      "text/plain": [
       "0.146446609406726"
      ]
     },
     "metadata": {},
     "output_type": "display_data"
    }
   ],
   "source": [
    "asq, bsq,t = symbols('a^2 b^2 t', positive=True, real=True)\n",
    "minus = Matrix([[0], [1]])\n",
    "solve(Eq(minus[0], asq*vec1[0] + bsq*vec2[0]), (asq,bsq))[0][asq]\n",
    "solve(Eq(minus[1], asq*vec1[1] + bsq*vec2[1]), (asq,bsq))[0][asq]\n",
    "b = solve(Eq(solve(Eq(minus[0], asq*vec1[0] + bsq*vec2[0]),\\\n",
    "                   (asq,bsq))[0][asq],solve(Eq(minus[1], asq*vec1[1] + bsq*vec2[1]), (asq,bsq))[0][asq]))[0]\n",
    "a = solve(Eq(minus[1], asq*vec1[1] + bsq*vec2[1]), (asq,bsq))[0][asq].subs(bsq, b)\n",
    "display('P_sn_dn=a**2',(a**2).evalf(),'P_sn_up=b**2',(b**2).evalf())\n",
    "#Se pueden obtener -hw/2 con probabilidad a**2 y hw/2 con probabilidad b**2"
   ]
  },
  {
   "cell_type": "code",
   "execution_count": 6,
   "metadata": {},
   "outputs": [
    {
     "data": {
      "text/plain": [
       "'psi_t'"
      ]
     },
     "metadata": {},
     "output_type": "display_data"
    },
    {
     "data": {
      "image/png": "[encoded data removed]",
      "text/latex": [
       "$$\\left[\\begin{matrix}- 0.353553390593274 e^{\\frac{i \\omega_{0}}{2} t} + 0.353553390593274 e^{- \\frac{i \\omega_{0}}{2} t}\\\\0.853553390593274 e^{\\frac{i \\omega_{0}}{2} t} + 0.146446609406726 e^{- \\frac{i \\omega_{0}}{2} t}\\end{matrix}\\right]$$"
      ],
      "text/plain": [
       "⎡                     ⅈ⋅ω₀⋅t                      -ⅈ⋅ω₀⋅t ⎤\n",
       "⎢                     ──────                      ────────⎥\n",
       "⎢                       2                            2    ⎥\n",
       "⎢- 0.353553390593274⋅ℯ       + 0.353553390593274⋅ℯ        ⎥\n",
       "⎢                                                         ⎥\n",
       "⎢                    ⅈ⋅ω₀⋅t                      -ⅈ⋅ω₀⋅t  ⎥\n",
       "⎢                    ──────                      ──────── ⎥\n",
       "⎢                      2                            2     ⎥\n",
       "⎣ 0.853553390593274⋅ℯ       + 0.146446609406726⋅ℯ         ⎦"
      ]
     },
     "metadata": {},
     "output_type": "display_data"
    }
   ],
   "source": [
    "minus_t = exp(-I*val1*t/h)*a*vec1 + exp(-I*val2*t/h)*b*vec2\n",
    "display('psi_t',trigsimp(minus_t.evalf()))"
   ]
  },
  {
   "cell_type": "code",
   "execution_count": 7,
   "metadata": {},
   "outputs": [
    {
     "data": {
      "image/png": "[encoded data removed]",
      "text/latex": [
       "$$- \\frac{\\hbar}{2} \\sin^{2}{\\left (\\frac{\\omega_{0} t}{2} \\right )}$$"
      ],
      "text/plain": [
       "       2⎛ω₀⋅t⎞ \n",
       "-h̅⋅sin ⎜────⎟ \n",
       "        ⎝ 2  ⎠ \n",
       "───────────────\n",
       "       2       "
      ]
     },
     "metadata": {},
     "output_type": "display_data"
    }
   ],
   "source": [
    "avg_Sx = h/2 * Dagger(minus_t)*msigma(1)*minus_t\n",
    "display(simplify(avg_Sx[0].rewrite(sin)))"
   ]
  },
  {
   "cell_type": "markdown",
   "metadata": {},
   "source": [
    "# Problema 7"
   ]
  },
  {
   "cell_type": "code",
   "execution_count": 8,
   "metadata": {},
   "outputs": [
    {
     "data": {
      "text/plain": [
       "'S1y'"
      ]
     },
     "metadata": {},
     "output_type": "display_data"
    },
    {
     "data": {
      "image/png": "[encoded data removed]",
      "text/latex": [
       "$$\\left[\\begin{matrix}0 & 0 & - \\frac{i \\hbar}{2} & 0\\\\0 & 0 & 0 & - \\frac{i \\hbar}{2}\\\\\\frac{i \\hbar}{2} & 0 & 0 & 0\\\\0 & \\frac{i \\hbar}{2} & 0 & 0\\end{matrix}\\right]$$"
      ],
      "text/plain": [
       "⎡            -ⅈ⋅h̅         ⎤\n",
       "⎢ 0     0    ──────    0   ⎥\n",
       "⎢              2           ⎥\n",
       "⎢                          ⎥\n",
       "⎢                    -ⅈ⋅h̅ ⎥\n",
       "⎢ 0     0      0     ──────⎥\n",
       "⎢                      2   ⎥\n",
       "⎢                          ⎥\n",
       "⎢ⅈ⋅h̅                      ⎥\n",
       "⎢────   0      0       0   ⎥\n",
       "⎢ 2                        ⎥\n",
       "⎢                          ⎥\n",
       "⎢      ⅈ⋅h̅                ⎥\n",
       "⎢ 0    ────    0       0   ⎥\n",
       "⎣       2                  ⎦"
      ]
     },
     "metadata": {},
     "output_type": "display_data"
    }
   ],
   "source": [
    "from sympy.physics.quantum import TensorProduct as TP\n",
    "S1y = h/2 * TP(msigma(2), eye(2))\n",
    "display('S1y',S1y)"
   ]
  },
  {
   "cell_type": "code",
   "execution_count": 9,
   "metadata": {},
   "outputs": [
    {
     "data": {
      "image/png": "[encoded data removed]",
      "text/latex": [
       "$$\\left [ \\left ( - \\frac{\\hbar}{2}, \\quad 2, \\quad \\left [ \\left[\\begin{matrix}i\\\\0\\\\1\\\\0\\end{matrix}\\right], \\quad \\left[\\begin{matrix}0\\\\i\\\\0\\\\1\\end{matrix}\\right]\\right ]\\right ), \\quad \\left ( \\frac{\\hbar}{2}, \\quad 2, \\quad \\left [ \\left[\\begin{matrix}- i\\\\0\\\\1\\\\0\\end{matrix}\\right], \\quad \\left[\\begin{matrix}0\\\\- i\\\\0\\\\1\\end{matrix}\\right]\\right ]\\right )\\right ]$$"
      ],
      "text/plain": [
       "⎡⎛         ⎡⎡ⅈ⎤  ⎡0⎤⎤⎞  ⎛       ⎡⎡-ⅈ⎤  ⎡0 ⎤⎤⎞⎤\n",
       "⎢⎜         ⎢⎢ ⎥  ⎢ ⎥⎥⎟  ⎜       ⎢⎢  ⎥  ⎢  ⎥⎥⎟⎥\n",
       "⎢⎜-h̅      ⎢⎢0⎥  ⎢ⅈ⎥⎥⎟  ⎜h̅     ⎢⎢0 ⎥  ⎢-ⅈ⎥⎥⎟⎥\n",
       "⎢⎜────, 2, ⎢⎢ ⎥, ⎢ ⎥⎥⎟, ⎜──, 2, ⎢⎢  ⎥, ⎢  ⎥⎥⎟⎥\n",
       "⎢⎜ 2       ⎢⎢1⎥  ⎢0⎥⎥⎟  ⎜2      ⎢⎢1 ⎥  ⎢0 ⎥⎥⎟⎥\n",
       "⎢⎜         ⎢⎢ ⎥  ⎢ ⎥⎥⎟  ⎜       ⎢⎢  ⎥  ⎢  ⎥⎥⎟⎥\n",
       "⎣⎝         ⎣⎣0⎦  ⎣1⎦⎦⎠  ⎝       ⎣⎣0 ⎦  ⎣1 ⎦⎦⎠⎦"
      ]
     },
     "execution_count": 9,
     "metadata": {},
     "output_type": "execute_result"
    }
   ],
   "source": [
    "S1y.eigenvects()"
   ]
  },
  {
   "cell_type": "code",
   "execution_count": 10,
   "metadata": {},
   "outputs": [
    {
     "data": {
      "image/png": "[encoded data removed]",
      "text/latex": [
       "$$\\left[\\begin{matrix}\\alpha\\\\\\beta\\\\\\gamma\\\\\\delta\\end{matrix}\\right]$$"
      ],
      "text/plain": [
       "⎡α⎤\n",
       "⎢ ⎥\n",
       "⎢β⎥\n",
       "⎢ ⎥\n",
       "⎢γ⎥\n",
       "⎢ ⎥\n",
       "⎣δ⎦"
      ]
     },
     "execution_count": 10,
     "metadata": {},
     "output_type": "execute_result"
    }
   ],
   "source": [
    "a, b, g, d = symbols('alpha beta gamma delta', real=False)\n",
    "Ket_p = Matrix([[1],[0]])\n",
    "Ket_m = Matrix([[0],[1]])\n",
    "Ket_pp = TP(Ket_p,Ket_p)\n",
    "Ket_pm = TP(Ket_p,Ket_m)\n",
    "Ket_mp = TP(Ket_m,Ket_p)\n",
    "Ket_mm = TP(Ket_m,Ket_m)\n",
    "init = a*Ket_pp + b*Ket_pm + g*Ket_mp + d*Ket_mm\n",
    "init"
   ]
  },
  {
   "cell_type": "code",
   "execution_count": 11,
   "metadata": {},
   "outputs": [
    {
     "data": {
      "image/png": "[encoded data removed]",
      "text/latex": [
       "$$\\left[\\begin{matrix}\\frac{\\alpha}{2} - \\frac{i \\beta}{2} - \\frac{i \\delta}{2} + \\frac{\\gamma}{2}\\\\\\frac{\\alpha}{2} + \\frac{i \\beta}{2} + \\frac{i \\delta}{2} + \\frac{\\gamma}{2}\\\\\\frac{\\alpha}{2} - \\frac{i \\beta}{2} + \\frac{i \\delta}{2} - \\frac{\\gamma}{2}\\\\\\frac{\\alpha}{2} + \\frac{i \\beta}{2} - \\frac{i \\delta}{2} - \\frac{\\gamma}{2}\\end{matrix}\\right]$$"
      ],
      "text/plain": [
       "⎡α   ⅈ⋅β   ⅈ⋅δ   γ⎤\n",
       "⎢─ - ─── - ─── + ─⎥\n",
       "⎢2    2     2    2⎥\n",
       "⎢                 ⎥\n",
       "⎢α   ⅈ⋅β   ⅈ⋅δ   γ⎥\n",
       "⎢─ + ─── + ─── + ─⎥\n",
       "⎢2    2     2    2⎥\n",
       "⎢                 ⎥\n",
       "⎢α   ⅈ⋅β   ⅈ⋅δ   γ⎥\n",
       "⎢─ - ─── + ─── - ─⎥\n",
       "⎢2    2     2    2⎥\n",
       "⎢                 ⎥\n",
       "⎢α   ⅈ⋅β   ⅈ⋅δ   γ⎥\n",
       "⎢─ + ─── - ─── - ─⎥\n",
       "⎣2    2     2    2⎦"
      ]
     },
     "metadata": {},
     "output_type": "display_data"
    }
   ],
   "source": [
    "sx = [chi_n_up.subs(th,pi/2).subs(phi,0),chi_n_dn.subs(th,pi/2).subs(phi,0)]\n",
    "sy = [chi_n_up.subs(th,pi/2).subs(phi,pi/2),chi_n_dn.subs(th,pi/2).subs(phi,pi/2)]\n",
    "Ket_pxpy = TP(sx[0],sy[0])\n",
    "Ket_pxmy = TP(sx[0],sy[1])\n",
    "Ket_mxpy = TP(sx[1],sy[0])\n",
    "Ket_mxmy = TP(sx[1],sy[1])\n",
    "Base_change=Matrix([Ket_pxpy,Ket_pxmy,Ket_mxpy, Ket_mxmy]).reshape(4,4).transpose()\n",
    "init_sxsy = Dagger(Base_change)*init\n",
    "display(init_sxsy)"
   ]
  },
  {
   "cell_type": "code",
   "execution_count": 12,
   "metadata": {},
   "outputs": [
    {
     "data": {
      "image/png": "[encoded data removed]",
      "text/latex": [
       "$$\\left[\\begin{matrix}\\frac{l n}{2} - \\frac{i l}{2} o + \\frac{m n}{2} - \\frac{i m}{2} o\\\\\\frac{l n}{2} + \\frac{i l}{2} o + \\frac{m n}{2} + \\frac{i m}{2} o\\\\\\frac{l n}{2} - \\frac{i l}{2} o - \\frac{m n}{2} + \\frac{i m}{2} o\\\\\\frac{l n}{2} + \\frac{i l}{2} o - \\frac{m n}{2} - \\frac{i m}{2} o\\end{matrix}\\right]$$"
      ],
      "text/plain": [
       "⎡l⋅n   ⅈ⋅l⋅o   m⋅n   ⅈ⋅m⋅o⎤\n",
       "⎢─── - ───── + ─── - ─────⎥\n",
       "⎢ 2      2      2      2  ⎥\n",
       "⎢                         ⎥\n",
       "⎢l⋅n   ⅈ⋅l⋅o   m⋅n   ⅈ⋅m⋅o⎥\n",
       "⎢─── + ───── + ─── + ─────⎥\n",
       "⎢ 2      2      2      2  ⎥\n",
       "⎢                         ⎥\n",
       "⎢l⋅n   ⅈ⋅l⋅o   m⋅n   ⅈ⋅m⋅o⎥\n",
       "⎢─── - ───── - ─── + ─────⎥\n",
       "⎢ 2      2      2      2  ⎥\n",
       "⎢                         ⎥\n",
       "⎢l⋅n   ⅈ⋅l⋅o   m⋅n   ⅈ⋅m⋅o⎥\n",
       "⎢─── + ───── - ─── - ─────⎥\n",
       "⎣ 2      2      2      2  ⎦"
      ]
     },
     "metadata": {},
     "output_type": "display_data"
    },
    {
     "data": {
      "image/png": "[encoded data removed]",
      "text/latex": [
       "$$\\left [ \\left \\{ \\alpha : l n, \\quad \\beta : l o, \\quad \\delta : m o, \\quad \\gamma : m n\\right \\}\\right ]$$"
      ],
      "text/plain": [
       "[{α: l⋅n, β: l⋅o, δ: m⋅o, γ: m⋅n}]"
      ]
     },
     "execution_count": 12,
     "metadata": {},
     "output_type": "execute_result"
    }
   ],
   "source": [
    "l, m, n, o = symbols('l m n o', real=False)\n",
    "Ket_z1 = l*Ket_p + m*Ket_m\n",
    "Ket_z2 = n*Ket_p + o*Ket_m\n",
    "state= expand(TP(Ket_z1,Ket_z2))\n",
    "state_sxsy = simplify(Dagger(Base_change)*state)\n",
    "display(state_sxsy)\n",
    "solve(init_sxsy-state_sxsy)"
   ]
  },
  {
   "cell_type": "code",
   "execution_count": 13,
   "metadata": {},
   "outputs": [
    {
     "data": {
      "image/png": "[encoded data removed]",
      "text/latex": [
       "$$\\left[\\begin{matrix}\\frac{\\alpha}{2} - \\frac{i \\beta}{2} - \\frac{\\delta}{2} - \\frac{i \\gamma}{2}\\\\\\frac{\\alpha}{2} + \\frac{i \\beta}{2} + \\frac{\\delta}{2} - \\frac{i \\gamma}{2}\\\\\\frac{\\alpha}{2} - \\frac{i \\beta}{2} + \\frac{\\delta}{2} + \\frac{i \\gamma}{2}\\\\\\frac{\\alpha}{2} + \\frac{i \\beta}{2} - \\frac{\\delta}{2} + \\frac{i \\gamma}{2}\\end{matrix}\\right]$$"
      ],
      "text/plain": [
       "⎡α   ⅈ⋅β   δ   ⅈ⋅γ⎤\n",
       "⎢─ - ─── - ─ - ───⎥\n",
       "⎢2    2    2    2 ⎥\n",
       "⎢                 ⎥\n",
       "⎢α   ⅈ⋅β   δ   ⅈ⋅γ⎥\n",
       "⎢─ + ─── + ─ - ───⎥\n",
       "⎢2    2    2    2 ⎥\n",
       "⎢                 ⎥\n",
       "⎢α   ⅈ⋅β   δ   ⅈ⋅γ⎥\n",
       "⎢─ - ─── + ─ + ───⎥\n",
       "⎢2    2    2    2 ⎥\n",
       "⎢                 ⎥\n",
       "⎢α   ⅈ⋅β   δ   ⅈ⋅γ⎥\n",
       "⎢─ + ─── - ─ + ───⎥\n",
       "⎣2    2    2    2 ⎦"
      ]
     },
     "metadata": {},
     "output_type": "display_data"
    }
   ],
   "source": [
    "Ket_pypy = TP(sy[0],sy[0])\n",
    "Ket_pymy = TP(sy[0],sy[1])\n",
    "Ket_mypy = TP(sy[1],sy[0])\n",
    "Ket_mymy = TP(sy[1],sy[1])\n",
    "Base_change=Matrix([Ket_pypy,Ket_pymy,Ket_mypy, Ket_mymy]).reshape(4,4).transpose()\n",
    "init_sysy = Dagger(Base_change)*init\n",
    "display(init_sysy)"
   ]
  },
  {
   "cell_type": "code",
   "execution_count": 14,
   "metadata": {},
   "outputs": [
    {
     "data": {
      "image/png": "[encoded data removed]",
      "text/latex": [
       "$$\\left[\\begin{matrix}\\frac{l n}{2} - \\frac{i l}{2} o - \\frac{i m}{2} n - \\frac{m o}{2}\\\\\\frac{l n}{2} + \\frac{i l}{2} o - \\frac{i m}{2} n + \\frac{m o}{2}\\\\\\frac{l n}{2} - \\frac{i l}{2} o + \\frac{i m}{2} n + \\frac{m o}{2}\\\\\\frac{l n}{2} + \\frac{i l}{2} o + \\frac{i m}{2} n - \\frac{m o}{2}\\end{matrix}\\right]$$"
      ],
      "text/plain": [
       "⎡l⋅n   ⅈ⋅l⋅o   ⅈ⋅m⋅n   m⋅o⎤\n",
       "⎢─── - ───── - ───── - ───⎥\n",
       "⎢ 2      2       2      2 ⎥\n",
       "⎢                         ⎥\n",
       "⎢l⋅n   ⅈ⋅l⋅o   ⅈ⋅m⋅n   m⋅o⎥\n",
       "⎢─── + ───── - ───── + ───⎥\n",
       "⎢ 2      2       2      2 ⎥\n",
       "⎢                         ⎥\n",
       "⎢l⋅n   ⅈ⋅l⋅o   ⅈ⋅m⋅n   m⋅o⎥\n",
       "⎢─── - ───── + ───── + ───⎥\n",
       "⎢ 2      2       2      2 ⎥\n",
       "⎢                         ⎥\n",
       "⎢l⋅n   ⅈ⋅l⋅o   ⅈ⋅m⋅n   m⋅o⎥\n",
       "⎢─── + ───── + ───── - ───⎥\n",
       "⎣ 2      2       2      2 ⎦"
      ]
     },
     "metadata": {},
     "output_type": "display_data"
    },
    {
     "data": {
      "image/png": "[encoded data removed]",
      "text/latex": [
       "$$\\left [ \\left \\{ \\alpha : l n, \\quad \\beta : l o, \\quad \\delta : m o, \\quad \\gamma : m n\\right \\}\\right ]$$"
      ],
      "text/plain": [
       "[{α: l⋅n, β: l⋅o, δ: m⋅o, γ: m⋅n}]"
      ]
     },
     "execution_count": 14,
     "metadata": {},
     "output_type": "execute_result"
    }
   ],
   "source": [
    "state_sysy = simplify(Dagger(Base_change)*state)\n",
    "display(state_sysy)\n",
    "solve(init_sysy-state_sysy)"
   ]
  },
  {
   "cell_type": "code",
   "execution_count": 15,
   "metadata": {},
   "outputs": [
    {
     "data": {
      "text/plain": [
       "'Psy-, b'"
      ]
     },
     "metadata": {},
     "output_type": "display_data"
    },
    {
     "data": {
      "image/png": "[encoded data removed]",
      "text/latex": [
       "$$- \\frac{1}{2} \\left(- \\alpha \\overline{\\alpha} + i \\alpha \\overline{\\beta} - i \\beta \\overline{\\alpha} - \\beta \\overline{\\beta} - \\delta \\overline{\\delta} - i \\delta \\overline{\\gamma} + i \\gamma \\overline{\\delta} - \\gamma \\overline{\\gamma}\\right)$$"
      ],
      "text/plain": [
       " ⎛    _       _       _     _     _       _       _     _⎞ \n",
       "-⎝- α⋅α + ⅈ⋅α⋅β - ⅈ⋅β⋅α - β⋅β - δ⋅δ - ⅈ⋅δ⋅γ + ⅈ⋅γ⋅δ - γ⋅γ⎠ \n",
       "───────────────────────────────────────────────────────────\n",
       "                             2                             "
      ]
     },
     "metadata": {},
     "output_type": "display_data"
    },
    {
     "data": {
      "text/plain": [
       "'Psy-,c'"
      ]
     },
     "metadata": {},
     "output_type": "display_data"
    },
    {
     "data": {
      "image/png": "[encoded data removed]",
      "text/latex": [
       "$$- \\frac{1}{2} \\left(- \\alpha \\overline{\\alpha} + i \\alpha \\overline{\\beta} - i \\beta \\overline{\\alpha} - \\beta \\overline{\\beta} - \\delta \\overline{\\delta} - i \\delta \\overline{\\gamma} + i \\gamma \\overline{\\delta} - \\gamma \\overline{\\gamma}\\right)$$"
      ],
      "text/plain": [
       " ⎛    _       _       _     _     _       _       _     _⎞ \n",
       "-⎝- α⋅α + ⅈ⋅α⋅β - ⅈ⋅β⋅α - β⋅β - δ⋅δ - ⅈ⋅δ⋅γ + ⅈ⋅γ⋅δ - γ⋅γ⎠ \n",
       "───────────────────────────────────────────────────────────\n",
       "                             2                             "
      ]
     },
     "metadata": {},
     "output_type": "display_data"
    }
   ],
   "source": [
    "#De b:\n",
    "Pb = init_sxsy.conjugate().multiply_elementwise(init_sxsy)\n",
    "display('Psy-, b', factor(Pb[1]+Pb[3]))\n",
    "#De c:\n",
    "Pc = init_sysy.conjugate().multiply_elementwise(init_sysy)\n",
    "display('Psy-,c', factor(Pc[1]+Pc[3]))"
   ]
  },
  {
   "cell_type": "code",
   "execution_count": null,
   "metadata": {},
   "outputs": [],
   "source": []
  }
 ],
 "metadata": {
  "anaconda-cloud": {},
  "kernelspec": {
   "display_name": "Python [conda root]",
   "language": "python",
   "name": "conda-root-py"
  },
  "language_info": {
   "codemirror_mode": {
    "name": "ipython",
    "version": 2
   },
   "file_extension": ".py",
   "mimetype": "text/x-python",
   "name": "python",
   "nbconvert_exporter": "python",
   "pygments_lexer": "ipython2",
   "version": "2.7.14"
  }
 },
 "nbformat": 4,
 "nbformat_minor": 2
}
