{
 "cells": [
  {
   "cell_type": "code",
   "execution_count": 2,
   "metadata": {},
   "outputs": [],
   "source": [
    "from sympy import *\n",
    "init_printing()\n",
    "from IPython.display import display\n",
    "from sympy.physics.matrices import msigma\n"
   ]
  },
  {
   "cell_type": "markdown",
   "metadata": {},
   "source": [
    "# Problema 3"
   ]
  },
  {
   "cell_type": "code",
   "execution_count": 38,
   "metadata": {},
   "outputs": [
    {
     "data": {
      "image/png": "[encoded data removed]",
      "text/latex": [
       "$$\\left[\\begin{matrix}\\frac{\\hbar \\omega_{0}}{4} \\sqrt{2} & \\frac{\\hbar \\omega_{0}}{4} \\sqrt{2}\\\\\\frac{\\hbar \\omega_{0}}{4} \\sqrt{2} & - \\frac{\\hbar \\omega_{0}}{4} \\sqrt{2}\\end{matrix}\\right]$$"
      ],
      "text/plain": [
       "⎡√2⋅h̅⋅ω₀   √2⋅h̅⋅ω₀ ⎤\n",
       "⎢────────   ──────── ⎥\n",
       "⎢   4          4     ⎥\n",
       "⎢                    ⎥\n",
       "⎢√2⋅h̅⋅ω₀  -√2⋅h̅⋅ω₀ ⎥\n",
       "⎢────────  ──────────⎥\n",
       "⎣   4          4     ⎦"
      ]
     },
     "metadata": {},
     "output_type": "display_data"
    }
   ],
   "source": [
    "h, B0, w0 = symbols('hbar B_0 omega_0', positive=True, real=True)\n",
    "\n",
    "H = w0/sqrt(2) * msigma(1)*h/2 + w0/sqrt(2) * msigma(3)*h/2\n",
    "display(H)\n",
    "#0.25 "
   ]
  },
  {
   "cell_type": "code",
   "execution_count": 87,
   "metadata": {},
   "outputs": [
    {
     "data": {
      "image/png": "[encoded data removed]",
      "text/latex": [
       "$$\\left [ \\left ( - \\frac{\\hbar \\omega_{0}}{2}, \\quad 1, \\quad \\left [ \\left[\\begin{matrix}- \\frac{\\sqrt{2} \\hbar \\omega_{0}}{4 \\left(\\frac{\\hbar \\omega_{0}}{4} \\sqrt{2} + \\frac{\\hbar \\omega_{0}}{2}\\right)}\\\\1\\end{matrix}\\right]\\right ]\\right ), \\quad \\left ( \\frac{\\hbar \\omega_{0}}{2}, \\quad 1, \\quad \\left [ \\left[\\begin{matrix}- \\frac{2 \\sqrt{2}}{\\hbar \\omega_{0}} \\left(- \\frac{\\hbar \\omega_{0}}{2} - \\frac{\\hbar \\omega_{0}}{4} \\sqrt{2}\\right)\\\\1\\end{matrix}\\right]\\right ]\\right )\\right ]$$"
      ],
      "text/plain": [
       "⎡⎛            ⎡⎡     -√2⋅h̅⋅ω₀      ⎤⎤⎞  ⎛          ⎡⎡      ⎛  h̅⋅ω₀   √2⋅h̅⋅ω\n",
       "⎢⎜            ⎢⎢────────────────────⎥⎥⎟  ⎜          ⎢⎢-2⋅√2⋅⎜- ───── - ───────\n",
       "⎢⎜-h̅⋅ω₀      ⎢⎢  ⎛√2⋅h̅⋅ω₀   h̅⋅ω₀⎞⎥⎥⎟  ⎜h̅⋅ω₀     ⎢⎢      ⎝    2        4   \n",
       "⎢⎜───────, 1, ⎢⎢4⋅⎜──────── + ─────⎟⎥⎥⎟, ⎜─────, 1, ⎢⎢────────────────────────\n",
       "⎢⎜   2        ⎢⎢  ⎝   4         2  ⎠⎥⎥⎟  ⎜  2       ⎢⎢           h̅⋅ω₀        \n",
       "⎢⎜            ⎢⎢                    ⎥⎥⎟  ⎜          ⎢⎢                        \n",
       "⎣⎝            ⎣⎣         1          ⎦⎦⎠  ⎝          ⎣⎣             1          \n",
       "\n",
       "₀⎞ ⎤⎤⎞⎤\n",
       "─⎟ ⎥⎥⎟⎥\n",
       " ⎠ ⎥⎥⎟⎥\n",
       "───⎥⎥⎟⎥\n",
       "   ⎥⎥⎟⎥\n",
       "   ⎥⎥⎟⎥\n",
       "   ⎦⎦⎠⎦"
      ]
     },
     "metadata": {},
     "output_type": "display_data"
    },
    {
     "data": {
      "image/png": "[encoded data removed]",
      "text/latex": [
       "$$\\left[\\begin{matrix}-0.38268343236509\\\\0.923879532511287\\end{matrix}\\right]$$"
      ],
      "text/plain": [
       "⎡-0.38268343236509⎤\n",
       "⎢                 ⎥\n",
       "⎣0.923879532511287⎦"
      ]
     },
     "metadata": {},
     "output_type": "display_data"
    },
    {
     "data": {
      "image/png": "[encoded data removed]",
      "text/latex": [
       "$$\\left[\\begin{matrix}0.923879532511287\\\\0.38268343236509\\end{matrix}\\right]$$"
      ],
      "text/plain": [
       "⎡0.923879532511287⎤\n",
       "⎢                 ⎥\n",
       "⎣0.38268343236509 ⎦"
      ]
     },
     "metadata": {},
     "output_type": "display_data"
    }
   ],
   "source": [
    "display(H.eigenvects())\n",
    "vec1 = simplify(H.eigenvects()[0][2][0])\n",
    "vec2 = simplify(H.eigenvects()[1][2][0])\n",
    "val1 = simplify(H.eigenvects()[0][0])\n",
    "val2 = simplify(H.eigenvects()[1][0])\n",
    "Nsq=simplify(vec1.dot(vec1))\n",
    "vec1/=sqrt(Nsq)\n",
    "display(simplify(vec1.evalf()))\n",
    "Nsq=simplify(vec2.dot(vec2))\n",
    "vec2/=sqrt(Nsq)\n",
    "display(simplify(vec2.evalf()))\n",
    "#0.25"
   ]
  },
  {
   "cell_type": "code",
   "execution_count": 90,
   "metadata": {},
   "outputs": [
    {
     "data": {
      "image/png": "[encoded data removed]",
      "text/latex": [
       "$$0.853553390593274$$"
      ],
      "text/plain": [
       "0.853553390593274"
      ]
     },
     "metadata": {},
     "output_type": "display_data"
    },
    {
     "data": {
      "image/png": "[encoded data removed]",
      "text/latex": [
       "$$0.146446609406726$$"
      ],
      "text/plain": [
       "0.146446609406726"
      ]
     },
     "metadata": {},
     "output_type": "display_data"
    }
   ],
   "source": [
    "asq, bsq,t = symbols('a^2 b^2 t', positive=True, real=True)\n",
    "minus = Matrix([[0], [1]])\n",
    "solve(Eq(minus[0], asq*vec1[0] + bsq*vec2[0]), (asq,bsq))[0][asq]\n",
    "solve(Eq(minus[1], asq*vec1[1] + bsq*vec2[1]), (asq,bsq))[0][asq]\n",
    "b = solve(Eq(solve(Eq(minus[0], asq*vec1[0] + bsq*vec2[0]),\\\n",
    "                   (asq,bsq))[0][asq],solve(Eq(minus[1], asq*vec1[1] + bsq*vec2[1]), (asq,bsq))[0][asq]))[0]\n",
    "a = solve(Eq(minus[1], asq*vec1[1] + bsq*vec2[1]), (asq,bsq))[0][asq].subs(bsq, b)\n",
    "display((a**2).evalf(),(b**2).evalf())\n",
    "#Se pueden obtener -hw/2 con probabilidad a**2 y -hw/2 con probabilidad b**2"
   ]
  },
  {
   "cell_type": "code",
   "execution_count": 91,
   "metadata": {},
   "outputs": [
    {
     "data": {
      "image/png": "[encoded data removed]",
      "text/latex": [
       "$$\\left[\\begin{matrix}\\frac{\\left(- \\sqrt{2} + 1\\right) \\left(\\frac{\\sqrt{2}}{2} + 1\\right) e^{\\frac{i \\omega_{0}}{2} t}}{\\sqrt{- 2 \\sqrt{2} + 4} \\sqrt{\\sqrt{2} + 2}} + \\frac{\\sqrt{- \\sqrt{2} + 2} e^{- \\frac{i \\omega_{0}}{2} t}}{2 \\sqrt{2 \\sqrt{2} + 4}} \\left(1 + \\sqrt{2}\\right)\\\\\\frac{\\left(\\frac{\\sqrt{2}}{2} + 1\\right) e^{\\frac{i \\omega_{0}}{2} t}}{\\sqrt{- 2 \\sqrt{2} + 4} \\sqrt{\\sqrt{2} + 2}} + \\frac{\\sqrt{- \\sqrt{2} + 2} e^{- \\frac{i \\omega_{0}}{2} t}}{2 \\sqrt{2 \\sqrt{2} + 4}}\\end{matrix}\\right]$$"
      ],
      "text/plain": [
       "⎡                    ⅈ⋅ω₀⋅t                                 ⎤\n",
       "⎢                    ──────                         -ⅈ⋅ω₀⋅t ⎥\n",
       "⎢          ⎛√2    ⎞    2                            ────────⎥\n",
       "⎢(-√2 + 1)⋅⎜── + 1⎟⋅ℯ                    _________     2    ⎥\n",
       "⎢          ⎝2     ⎠           (1 + √2)⋅╲╱ -√2 + 2 ⋅ℯ        ⎥\n",
       "⎢────────────────────────── + ──────────────────────────────⎥\n",
       "⎢   ___________   ________                __________        ⎥\n",
       "⎢ ╲╱ -2⋅√2 + 4 ⋅╲╱ √2 + 2             2⋅╲╱ 2⋅√2 + 4         ⎥\n",
       "⎢                                                           ⎥\n",
       "⎢                   ⅈ⋅ω₀⋅t                                  ⎥\n",
       "⎢                   ──────                    -ⅈ⋅ω₀⋅t       ⎥\n",
       "⎢         ⎛√2    ⎞    2                       ────────      ⎥\n",
       "⎢         ⎜── + 1⎟⋅ℯ               _________     2          ⎥\n",
       "⎢         ⎝2     ⎠               ╲╱ -√2 + 2 ⋅ℯ              ⎥\n",
       "⎢     ──────────────────────── + ─────────────────────      ⎥\n",
       "⎢       ___________   ________           __________         ⎥\n",
       "⎣     ╲╱ -2⋅√2 + 4 ⋅╲╱ √2 + 2        2⋅╲╱ 2⋅√2 + 4          ⎦"
      ]
     },
     "execution_count": 91,
     "metadata": {},
     "output_type": "execute_result"
    }
   ],
   "source": [
    "minus_t = exp(-I*val1*t/h)*a*vec1 + exp(-I*val2*t/h)*b*vec2\n",
    "minus_t"
   ]
  },
  {
   "cell_type": "code",
   "execution_count": null,
   "metadata": {},
   "outputs": [],
   "source": []
  }
 ],
 "metadata": {
  "anaconda-cloud": {},
  "kernelspec": {
   "display_name": "Python [conda root]",
   "language": "python",
   "name": "conda-root-py"
  },
  "language_info": {
   "codemirror_mode": {
    "name": "ipython",
    "version": 2
   },
   "file_extension": ".py",
   "mimetype": "text/x-python",
   "name": "python",
   "nbconvert_exporter": "python",
   "pygments_lexer": "ipython2",
   "version": "2.7.14"
  }
 },
 "nbformat": 4,
 "nbformat_minor": 2
}
