{
 "cells": [
  {
   "cell_type": "code",
   "execution_count": 1,
   "metadata": {},
   "outputs": [],
   "source": [
    "from sympy import *\n",
    "init_printing()\n",
    "from IPython.display import display\n",
    "from sympy.physics.matrices import msigma\n",
    "from sympy.physics.quantum.dagger import Dagger\n",
    "from sympy.physics.quantum import Ket, Bra\n",
    "from sympy.physics.quantum.state import Wavefunction\n",
    "from sympy.physics.quantum import TensorProduct as TP"
   ]
  },
  {
   "cell_type": "markdown",
   "metadata": {},
   "source": [
    "# Problema 16"
   ]
  },
  {
   "cell_type": "code",
   "execution_count": 2,
   "metadata": {},
   "outputs": [
    {
     "data": {
      "text/plain": [
       "'avg_H1'"
      ]
     },
     "metadata": {},
     "output_type": "display_data"
    },
    {
     "data": {
      "image/png": "[encoded data removed]",
      "text/latex": [
       "$$\\left[\\begin{matrix}\\frac{5 \\xi}{2}\\end{matrix}\\right]$$"
      ],
      "text/plain": [
       "⎡5⋅ξ⎤\n",
       "⎢───⎥\n",
       "⎣ 2 ⎦"
      ]
     },
     "metadata": {},
     "output_type": "display_data"
    },
    {
     "data": {
      "text/plain": [
       "'avg_H2'"
      ]
     },
     "metadata": {},
     "output_type": "display_data"
    },
    {
     "data": {
      "image/png": "[encoded data removed]",
      "text/latex": [
       "$$\\left[\\begin{matrix}3 \\xi\\end{matrix}\\right]$$"
      ],
      "text/plain": [
       "[3⋅ξ]"
      ]
     },
     "metadata": {},
     "output_type": "display_data"
    },
    {
     "data": {
      "text/plain": [
       "'avg_H1*avg_H2'"
      ]
     },
     "metadata": {},
     "output_type": "display_data"
    },
    {
     "data": {
      "image/png": "[encoded data removed]",
      "text/latex": [
       "$$\\left[\\begin{matrix}\\frac{15 \\xi^{2}}{2}\\end{matrix}\\right]$$"
      ],
      "text/plain": [
       "⎡    2⎤\n",
       "⎢15⋅ξ ⎥\n",
       "⎢─────⎥\n",
       "⎣  2  ⎦"
      ]
     },
     "metadata": {},
     "output_type": "display_data"
    },
    {
     "data": {
      "text/plain": [
       "'avg_H1H2'"
      ]
     },
     "metadata": {},
     "output_type": "display_data"
    },
    {
     "data": {
      "image/png": "[encoded data removed]",
      "text/latex": [
       "$$\\left[\\begin{matrix}\\frac{15 \\xi^{2}}{2}\\end{matrix}\\right]$$"
      ],
      "text/plain": [
       "⎡    2⎤\n",
       "⎢15⋅ξ ⎥\n",
       "⎢─────⎥\n",
       "⎣  2  ⎦"
      ]
     },
     "metadata": {},
     "output_type": "display_data"
    }
   ],
   "source": [
    "z = symbols('xi', real=True, positive=True)\n",
    "Ket_1 = Matrix([[1],[0]])\n",
    "Ket_2 = Matrix([[0],[1]])\n",
    "Ket_11 = TP(Ket_1,Ket_1)\n",
    "Ket_12 = TP(Ket_1,Ket_2)\n",
    "Ket_21 = TP(Ket_2,Ket_1)\n",
    "Ket_22 = TP(Ket_2,Ket_2)\n",
    "psi_0_B=1/sqrt(6) *Ket_11 + 1/sqrt(3)* Ket_12 + 1/sqrt(6) *Ket_21 + 1/sqrt(3) * Ket_22\n",
    "\n",
    "def E(n,q):\n",
    "    return (n**2 + q**2)*z\n",
    "H1 = Matrix([[E(1,0),0],[0,E(2,0)]])\n",
    "H1_TP = TP(H1,eye(2))\n",
    "H2 = Matrix([[E(0,1),0],[0,E(0,2)]])\n",
    "H2_TP = TP(eye(2),H2)\n",
    "def do_HW(psi):\n",
    "    avg_H1 = Dagger(psi)*H1_TP*psi\n",
    "    display('avg_H1', avg_H1)\n",
    "    avg_H2 = Dagger(psi)*H2_TP*psi\n",
    "    display('avg_H2', avg_H2)\n",
    "    display('avg_H1*avg_H2', avg_H1*avg_H2)\n",
    "    avg_H1H2 = Dagger(psi)*TP(H1,H2)*psi\n",
    "    display('avg_H1H2', avg_H1H2)\n",
    "do_HW(psi_0_B)\n",
    "#Como el estado psi_0 es un producto tensorial, los valores esperados son iguales."
   ]
  },
  {
   "cell_type": "code",
   "execution_count": 3,
   "metadata": {},
   "outputs": [
    {
     "data": {
      "text/plain": [
       "'avg_H1'"
      ]
     },
     "metadata": {},
     "output_type": "display_data"
    },
    {
     "data": {
      "image/png": "[encoded data removed]",
      "text/latex": [
       "$$\\left[\\begin{matrix}\\frac{5 \\xi}{2}\\end{matrix}\\right]$$"
      ],
      "text/plain": [
       "⎡5⋅ξ⎤\n",
       "⎢───⎥\n",
       "⎣ 2 ⎦"
      ]
     },
     "metadata": {},
     "output_type": "display_data"
    },
    {
     "data": {
      "text/plain": [
       "'avg_H2'"
      ]
     },
     "metadata": {},
     "output_type": "display_data"
    },
    {
     "data": {
      "image/png": "[encoded data removed]",
      "text/latex": [
       "$$\\left[\\begin{matrix}3 \\xi\\end{matrix}\\right]$$"
      ],
      "text/plain": [
       "[3⋅ξ]"
      ]
     },
     "metadata": {},
     "output_type": "display_data"
    },
    {
     "data": {
      "text/plain": [
       "'avg_H1*avg_H2'"
      ]
     },
     "metadata": {},
     "output_type": "display_data"
    },
    {
     "data": {
      "image/png": "[encoded data removed]",
      "text/latex": [
       "$$\\left[\\begin{matrix}\\frac{15 \\xi^{2}}{2}\\end{matrix}\\right]$$"
      ],
      "text/plain": [
       "⎡    2⎤\n",
       "⎢15⋅ξ ⎥\n",
       "⎢─────⎥\n",
       "⎣  2  ⎦"
      ]
     },
     "metadata": {},
     "output_type": "display_data"
    },
    {
     "data": {
      "text/plain": [
       "'avg_H1H2'"
      ]
     },
     "metadata": {},
     "output_type": "display_data"
    },
    {
     "data": {
      "image/png": "[encoded data removed]",
      "text/latex": [
       "$$\\left[\\begin{matrix}\\frac{15 \\xi^{2}}{2}\\end{matrix}\\right]$$"
      ],
      "text/plain": [
       "⎡    2⎤\n",
       "⎢15⋅ξ ⎥\n",
       "⎢─────⎥\n",
       "⎣  2  ⎦"
      ]
     },
     "metadata": {},
     "output_type": "display_data"
    }
   ],
   "source": [
    "t,h = symbols('t hbar', real=True, positive=True)\n",
    "t_vec_B = Matrix([[exp(-I*E(1,1)*t/h)],[exp(-I*E(1,2)*t/h)],[exp(-I*E(2,1)*t/h)],[exp(-I*E(2,2)*t/h)]])\n",
    "psi_t=t_vec_B.multiply_elementwise(psi_0_B)\n",
    "do_HW(psi_t)\n",
    "#Es claro que es igual a cuando el ket no depende del tiempo."
   ]
  },
  {
   "cell_type": "code",
   "execution_count": 4,
   "metadata": {},
   "outputs": [
    {
     "data": {
      "text/plain": [
       "'avg_H1'"
      ]
     },
     "metadata": {},
     "output_type": "display_data"
    },
    {
     "data": {
      "image/png": "[encoded data removed]",
      "text/latex": [
       "$$\\left[\\begin{matrix}\\frac{8 \\xi}{5}\\end{matrix}\\right]$$"
      ],
      "text/plain": [
       "⎡8⋅ξ⎤\n",
       "⎢───⎥\n",
       "⎣ 5 ⎦"
      ]
     },
     "metadata": {},
     "output_type": "display_data"
    },
    {
     "data": {
      "text/plain": [
       "'avg_H2'"
      ]
     },
     "metadata": {},
     "output_type": "display_data"
    },
    {
     "data": {
      "image/png": "[encoded data removed]",
      "text/latex": [
       "$$\\left[\\begin{matrix}\\frac{14 \\xi}{5}\\end{matrix}\\right]$$"
      ],
      "text/plain": [
       "⎡14⋅ξ⎤\n",
       "⎢────⎥\n",
       "⎣ 5  ⎦"
      ]
     },
     "metadata": {},
     "output_type": "display_data"
    },
    {
     "data": {
      "text/plain": [
       "'avg_H1*avg_H2'"
      ]
     },
     "metadata": {},
     "output_type": "display_data"
    },
    {
     "data": {
      "image/png": "[encoded data removed]",
      "text/latex": [
       "$$\\left[\\begin{matrix}\\frac{112 \\xi^{2}}{25}\\end{matrix}\\right]$$"
      ],
      "text/plain": [
       "⎡     2⎤\n",
       "⎢112⋅ξ ⎥\n",
       "⎢──────⎥\n",
       "⎣  25  ⎦"
      ]
     },
     "metadata": {},
     "output_type": "display_data"
    },
    {
     "data": {
      "text/plain": [
       "'avg_H1H2'"
      ]
     },
     "metadata": {},
     "output_type": "display_data"
    },
    {
     "data": {
      "image/png": "[encoded data removed]",
      "text/latex": [
       "$$\\left[\\begin{matrix}\\frac{17 \\xi^{2}}{5}\\end{matrix}\\right]$$"
      ],
      "text/plain": [
       "⎡    2⎤\n",
       "⎢17⋅ξ ⎥\n",
       "⎢─────⎥\n",
       "⎣  5  ⎦"
      ]
     },
     "metadata": {},
     "output_type": "display_data"
    }
   ],
   "source": [
    "psi_0_D=1/sqrt(5) *Ket_11 + sqrt(3)/sqrt(5)* Ket_12 + 1/sqrt(5) *Ket_21\n",
    "do_HW(psi_0_D)\n",
    "#Como en este caso no se trata de un estado producto tensorial, el producto de los valores esperados no es igual al valor esperado del producto."
   ]
  },
  {
   "cell_type": "code",
   "execution_count": 5,
   "metadata": {},
   "outputs": [
    {
     "data": {
      "text/plain": [
       "'avg_H1'"
      ]
     },
     "metadata": {},
     "output_type": "display_data"
    },
    {
     "data": {
      "image/png": "[encoded data removed]",
      "text/latex": [
       "$$\\left[\\begin{matrix}\\frac{8 \\xi}{5}\\end{matrix}\\right]$$"
      ],
      "text/plain": [
       "⎡8⋅ξ⎤\n",
       "⎢───⎥\n",
       "⎣ 5 ⎦"
      ]
     },
     "metadata": {},
     "output_type": "display_data"
    },
    {
     "data": {
      "text/plain": [
       "'avg_H2'"
      ]
     },
     "metadata": {},
     "output_type": "display_data"
    },
    {
     "data": {
      "image/png": "[encoded data removed]",
      "text/latex": [
       "$$\\left[\\begin{matrix}\\frac{14 \\xi}{5}\\end{matrix}\\right]$$"
      ],
      "text/plain": [
       "⎡14⋅ξ⎤\n",
       "⎢────⎥\n",
       "⎣ 5  ⎦"
      ]
     },
     "metadata": {},
     "output_type": "display_data"
    },
    {
     "data": {
      "text/plain": [
       "'avg_H1*avg_H2'"
      ]
     },
     "metadata": {},
     "output_type": "display_data"
    },
    {
     "data": {
      "image/png": "[encoded data removed]",
      "text/latex": [
       "$$\\left[\\begin{matrix}\\frac{112 \\xi^{2}}{25}\\end{matrix}\\right]$$"
      ],
      "text/plain": [
       "⎡     2⎤\n",
       "⎢112⋅ξ ⎥\n",
       "⎢──────⎥\n",
       "⎣  25  ⎦"
      ]
     },
     "metadata": {},
     "output_type": "display_data"
    },
    {
     "data": {
      "text/plain": [
       "'avg_H1H2'"
      ]
     },
     "metadata": {},
     "output_type": "display_data"
    },
    {
     "data": {
      "image/png": "[encoded data removed]",
      "text/latex": [
       "$$\\left[\\begin{matrix}\\frac{17 \\xi^{2}}{5}\\end{matrix}\\right]$$"
      ],
      "text/plain": [
       "⎡    2⎤\n",
       "⎢17⋅ξ ⎥\n",
       "⎢─────⎥\n",
       "⎣  5  ⎦"
      ]
     },
     "metadata": {},
     "output_type": "display_data"
    }
   ],
   "source": [
    "psi_t_D = t_vec_B.multiply_elementwise(psi_0_D)\n",
    "do_HW(psi_t_D)"
   ]
  },
  {
   "cell_type": "code",
   "execution_count": 6,
   "metadata": {},
   "outputs": [],
   "source": [
    "def do_HW_2(psi,t_vec=t_vec_B):\n",
    "    rho_0 = psi*Dagger(psi)\n",
    "    display('rho_0',rho_0)\n",
    "    psi_t = t_vec.multiply_elementwise(psi)\n",
    "    rho_t = psi_t*Dagger(psi_t)\n",
    "    display('rho_t',rho_t)\n",
    "    one_kets = [Ket_1, Ket_2]\n",
    "    two_kets = [Ket_1, Ket_2]\n",
    "    rho_1 = MutableMatrix(zeros(2))\n",
    "    for n in range(2):\n",
    "        for np in range(2):\n",
    "            summ=0\n",
    "            for p in range(2):\n",
    "                summ += (Dagger(TP(one_kets[n],two_kets[p]))*rho_0*TP(one_kets[np],two_kets[p]))[0]\n",
    "            rho_1[n,np]=summ\n",
    "    display('rho_1',rho_1)\n",
    "\n",
    "    rho_2 = MutableMatrix(zeros(2))\n",
    "    for p in range(2):\n",
    "        for pp in range(2):\n",
    "            summ=0\n",
    "            for n in range(2):\n",
    "                summ += (Dagger(TP(one_kets[n],two_kets[p]))*rho_0*TP(one_kets[n],two_kets[pp]))[0]\n",
    "            rho_2[p,pp] = summ\n",
    "    display('rho_2',rho_2)\n",
    "    display('rho1 x rho_2',TP(rho_1,rho_2))\n",
    "    display('rho1 x rho_2 == rho_0',TP(rho_1,rho_2)==rho_0)\n",
    "\n"
   ]
  },
  {
   "cell_type": "code",
   "execution_count": 7,
   "metadata": {},
   "outputs": [
    {
     "data": {
      "text/plain": [
       "'rho_0'"
      ]
     },
     "metadata": {},
     "output_type": "display_data"
    },
    {
     "data": {
      "image/png": "[encoded data removed]",
      "text/latex": [
       "$$\\left[\\begin{matrix}\\frac{1}{6} & \\frac{\\sqrt{2}}{6} & \\frac{1}{6} & \\frac{\\sqrt{2}}{6}\\\\\\frac{\\sqrt{2}}{6} & \\frac{1}{3} & \\frac{\\sqrt{2}}{6} & \\frac{1}{3}\\\\\\frac{1}{6} & \\frac{\\sqrt{2}}{6} & \\frac{1}{6} & \\frac{\\sqrt{2}}{6}\\\\\\frac{\\sqrt{2}}{6} & \\frac{1}{3} & \\frac{\\sqrt{2}}{6} & \\frac{1}{3}\\end{matrix}\\right]$$"
      ],
      "text/plain": [
       "⎡     √2        √2 ⎤\n",
       "⎢1/6  ──   1/6  ── ⎥\n",
       "⎢     6         6  ⎥\n",
       "⎢                  ⎥\n",
       "⎢√2        √2      ⎥\n",
       "⎢──   1/3  ──   1/3⎥\n",
       "⎢6         6       ⎥\n",
       "⎢                  ⎥\n",
       "⎢     √2        √2 ⎥\n",
       "⎢1/6  ──   1/6  ── ⎥\n",
       "⎢     6         6  ⎥\n",
       "⎢                  ⎥\n",
       "⎢√2        √2      ⎥\n",
       "⎢──   1/3  ──   1/3⎥\n",
       "⎣6         6       ⎦"
      ]
     },
     "metadata": {},
     "output_type": "display_data"
    },
    {
     "data": {
      "text/plain": [
       "'rho_t'"
      ]
     },
     "metadata": {},
     "output_type": "display_data"
    },
    {
     "data": {
      "image/png": "[encoded data removed]",
      "text/latex": [
       "$$\\left[\\begin{matrix}\\frac{1}{6} & \\frac{\\sqrt{2}}{6} e^{\\frac{3 i}{\\hbar} t \\xi} & \\frac{1}{6} e^{\\frac{3 i}{\\hbar} t \\xi} & \\frac{\\sqrt{2}}{6} e^{\\frac{6 i}{\\hbar} t \\xi}\\\\\\frac{\\sqrt{2}}{6} e^{- \\frac{3 i}{\\hbar} t \\xi} & \\frac{1}{3} & \\frac{\\sqrt{2}}{6} & \\frac{1}{3} e^{\\frac{3 i}{\\hbar} t \\xi}\\\\\\frac{1}{6} e^{- \\frac{3 i}{\\hbar} t \\xi} & \\frac{\\sqrt{2}}{6} & \\frac{1}{6} & \\frac{\\sqrt{2}}{6} e^{\\frac{3 i}{\\hbar} t \\xi}\\\\\\frac{\\sqrt{2}}{6} e^{- \\frac{6 i}{\\hbar} t \\xi} & \\frac{1}{3} e^{- \\frac{3 i}{\\hbar} t \\xi} & \\frac{\\sqrt{2}}{6} e^{- \\frac{3 i}{\\hbar} t \\xi} & \\frac{1}{3}\\end{matrix}\\right]$$"
      ],
      "text/plain": [
       "⎡                   3⋅ⅈ⋅t⋅ξ     3⋅ⅈ⋅t⋅ξ         6⋅ⅈ⋅t⋅ξ⎤\n",
       "⎢                   ───────     ───────         ───────⎥\n",
       "⎢                      h̅          h̅              h̅  ⎥\n",
       "⎢               √2⋅ℯ           ℯ            √2⋅ℯ       ⎥\n",
       "⎢     1/6       ───────────    ────────     ───────────⎥\n",
       "⎢                    6            6              6     ⎥\n",
       "⎢                                                      ⎥\n",
       "⎢    -3⋅ⅈ⋅t⋅ξ                                 3⋅ⅈ⋅t⋅ξ  ⎥\n",
       "⎢    ─────────                                ───────  ⎥\n",
       "⎢        h̅                                      h̅    ⎥\n",
       "⎢√2⋅ℯ                             √2         ℯ         ⎥\n",
       "⎢─────────────      1/3           ──         ────────  ⎥\n",
       "⎢      6                          6             3      ⎥\n",
       "⎢                                                      ⎥\n",
       "⎢  -3⋅ⅈ⋅t⋅ξ                                     3⋅ⅈ⋅t⋅ξ⎥\n",
       "⎢  ─────────                                    ───────⎥\n",
       "⎢      h̅                                          h̅  ⎥\n",
       "⎢ ℯ                 √2                      √2⋅ℯ       ⎥\n",
       "⎢ ──────────        ──            1/6       ───────────⎥\n",
       "⎢     6             6                            6     ⎥\n",
       "⎢                                                      ⎥\n",
       "⎢    -6⋅ⅈ⋅t⋅ξ    -3⋅ⅈ⋅t⋅ξ        -3⋅ⅈ⋅t⋅ξ              ⎥\n",
       "⎢    ─────────   ─────────       ─────────             ⎥\n",
       "⎢        h̅          h̅              h̅                ⎥\n",
       "⎢√2⋅ℯ           ℯ            √2⋅ℯ                      ⎥\n",
       "⎢─────────────  ──────────   ─────────────      1/3    ⎥\n",
       "⎣      6            3              6                   ⎦"
      ]
     },
     "metadata": {},
     "output_type": "display_data"
    },
    {
     "data": {
      "text/plain": [
       "'rho_1'"
      ]
     },
     "metadata": {},
     "output_type": "display_data"
    },
    {
     "data": {
      "image/png": "[encoded data removed]",
      "text/latex": [
       "$$\\left[\\begin{matrix}\\frac{1}{2} & \\frac{1}{2}\\\\\\frac{1}{2} & \\frac{1}{2}\\end{matrix}\\right]$$"
      ],
      "text/plain": [
       "⎡1/2  1/2⎤\n",
       "⎢        ⎥\n",
       "⎣1/2  1/2⎦"
      ]
     },
     "metadata": {},
     "output_type": "display_data"
    },
    {
     "data": {
      "text/plain": [
       "'rho_2'"
      ]
     },
     "metadata": {},
     "output_type": "display_data"
    },
    {
     "data": {
      "image/png": "[encoded data removed]",
      "text/latex": [
       "$$\\left[\\begin{matrix}\\frac{1}{3} & \\frac{\\sqrt{2}}{3}\\\\\\frac{\\sqrt{2}}{3} & \\frac{2}{3}\\end{matrix}\\right]$$"
      ],
      "text/plain": [
       "⎡     √2 ⎤\n",
       "⎢1/3  ── ⎥\n",
       "⎢     3  ⎥\n",
       "⎢        ⎥\n",
       "⎢√2      ⎥\n",
       "⎢──   2/3⎥\n",
       "⎣3       ⎦"
      ]
     },
     "metadata": {},
     "output_type": "display_data"
    },
    {
     "data": {
      "text/plain": [
       "'rho1 x rho_2'"
      ]
     },
     "metadata": {},
     "output_type": "display_data"
    },
    {
     "data": {
      "image/png": "[encoded data removed]",
      "text/latex": [
       "$$\\left[\\begin{matrix}\\frac{1}{6} & \\frac{\\sqrt{2}}{6} & \\frac{1}{6} & \\frac{\\sqrt{2}}{6}\\\\\\frac{\\sqrt{2}}{6} & \\frac{1}{3} & \\frac{\\sqrt{2}}{6} & \\frac{1}{3}\\\\\\frac{1}{6} & \\frac{\\sqrt{2}}{6} & \\frac{1}{6} & \\frac{\\sqrt{2}}{6}\\\\\\frac{\\sqrt{2}}{6} & \\frac{1}{3} & \\frac{\\sqrt{2}}{6} & \\frac{1}{3}\\end{matrix}\\right]$$"
      ],
      "text/plain": [
       "⎡     √2        √2 ⎤\n",
       "⎢1/6  ──   1/6  ── ⎥\n",
       "⎢     6         6  ⎥\n",
       "⎢                  ⎥\n",
       "⎢√2        √2      ⎥\n",
       "⎢──   1/3  ──   1/3⎥\n",
       "⎢6         6       ⎥\n",
       "⎢                  ⎥\n",
       "⎢     √2        √2 ⎥\n",
       "⎢1/6  ──   1/6  ── ⎥\n",
       "⎢     6         6  ⎥\n",
       "⎢                  ⎥\n",
       "⎢√2        √2      ⎥\n",
       "⎢──   1/3  ──   1/3⎥\n",
       "⎣6         6       ⎦"
      ]
     },
     "metadata": {},
     "output_type": "display_data"
    },
    {
     "data": {
      "text/plain": [
       "'rho1 x rho_2 == rho_0'"
      ]
     },
     "metadata": {},
     "output_type": "display_data"
    },
    {
     "data": {
      "text/plain": [
       "True"
      ]
     },
     "metadata": {},
     "output_type": "display_data"
    }
   ],
   "source": [
    "do_HW_2(psi_0_B)"
   ]
  },
  {
   "cell_type": "code",
   "execution_count": 8,
   "metadata": {},
   "outputs": [
    {
     "data": {
      "text/plain": [
       "'rho_0'"
      ]
     },
     "metadata": {},
     "output_type": "display_data"
    },
    {
     "data": {
      "image/png": "[encoded data removed]",
      "text/latex": [
       "$$\\left[\\begin{matrix}\\frac{1}{5} & \\frac{\\sqrt{3}}{5} & \\frac{1}{5} & 0\\\\\\frac{\\sqrt{3}}{5} & \\frac{3}{5} & \\frac{\\sqrt{3}}{5} & 0\\\\\\frac{1}{5} & \\frac{\\sqrt{3}}{5} & \\frac{1}{5} & 0\\\\0 & 0 & 0 & 0\\end{matrix}\\right]$$"
      ],
      "text/plain": [
       "⎡     √3         ⎤\n",
       "⎢1/5  ──   1/5  0⎥\n",
       "⎢     5          ⎥\n",
       "⎢                ⎥\n",
       "⎢√3        √3    ⎥\n",
       "⎢──   3/5  ──   0⎥\n",
       "⎢5         5     ⎥\n",
       "⎢                ⎥\n",
       "⎢     √3         ⎥\n",
       "⎢1/5  ──   1/5  0⎥\n",
       "⎢     5          ⎥\n",
       "⎢                ⎥\n",
       "⎣ 0    0    0   0⎦"
      ]
     },
     "metadata": {},
     "output_type": "display_data"
    },
    {
     "data": {
      "text/plain": [
       "'rho_t'"
      ]
     },
     "metadata": {},
     "output_type": "display_data"
    },
    {
     "data": {
      "image/png": "[encoded data removed]",
      "text/latex": [
       "$$\\left[\\begin{matrix}\\frac{1}{5} & \\frac{\\sqrt{3}}{5} e^{\\frac{3 i}{\\hbar} t \\xi} & \\frac{1}{5} e^{\\frac{3 i}{\\hbar} t \\xi} & 0\\\\\\frac{\\sqrt{3}}{5} e^{- \\frac{3 i}{\\hbar} t \\xi} & \\frac{3}{5} & \\frac{\\sqrt{3}}{5} & 0\\\\\\frac{1}{5} e^{- \\frac{3 i}{\\hbar} t \\xi} & \\frac{\\sqrt{3}}{5} & \\frac{1}{5} & 0\\\\0 & 0 & 0 & 0\\end{matrix}\\right]$$"
      ],
      "text/plain": [
       "⎡                   3⋅ⅈ⋅t⋅ξ   3⋅ⅈ⋅t⋅ξ   ⎤\n",
       "⎢                   ───────   ───────   ⎥\n",
       "⎢                      h̅        h̅     ⎥\n",
       "⎢               √3⋅ℯ         ℯ          ⎥\n",
       "⎢     1/5       ───────────  ────────  0⎥\n",
       "⎢                    5          5       ⎥\n",
       "⎢                                       ⎥\n",
       "⎢    -3⋅ⅈ⋅t⋅ξ                           ⎥\n",
       "⎢    ─────────                          ⎥\n",
       "⎢        h̅                             ⎥\n",
       "⎢√3⋅ℯ                           √3      ⎥\n",
       "⎢─────────────      3/5         ──     0⎥\n",
       "⎢      5                        5       ⎥\n",
       "⎢                                       ⎥\n",
       "⎢  -3⋅ⅈ⋅t⋅ξ                             ⎥\n",
       "⎢  ─────────                            ⎥\n",
       "⎢      h̅                               ⎥\n",
       "⎢ ℯ                 √3                  ⎥\n",
       "⎢ ──────────        ──         1/5     0⎥\n",
       "⎢     5             5                   ⎥\n",
       "⎢                                       ⎥\n",
       "⎣      0             0          0      0⎦"
      ]
     },
     "metadata": {},
     "output_type": "display_data"
    },
    {
     "data": {
      "text/plain": [
       "'rho_1'"
      ]
     },
     "metadata": {},
     "output_type": "display_data"
    },
    {
     "data": {
      "image/png": "[encoded data removed]",
      "text/latex": [
       "$$\\left[\\begin{matrix}\\frac{4}{5} & \\frac{1}{5}\\\\\\frac{1}{5} & \\frac{1}{5}\\end{matrix}\\right]$$"
      ],
      "text/plain": [
       "⎡4/5  1/5⎤\n",
       "⎢        ⎥\n",
       "⎣1/5  1/5⎦"
      ]
     },
     "metadata": {},
     "output_type": "display_data"
    },
    {
     "data": {
      "text/plain": [
       "'rho_2'"
      ]
     },
     "metadata": {},
     "output_type": "display_data"
    },
    {
     "data": {
      "image/png": "[encoded data removed]",
      "text/latex": [
       "$$\\left[\\begin{matrix}\\frac{2}{5} & \\frac{\\sqrt{3}}{5}\\\\\\frac{\\sqrt{3}}{5} & \\frac{3}{5}\\end{matrix}\\right]$$"
      ],
      "text/plain": [
       "⎡     √3 ⎤\n",
       "⎢2/5  ── ⎥\n",
       "⎢     5  ⎥\n",
       "⎢        ⎥\n",
       "⎢√3      ⎥\n",
       "⎢──   3/5⎥\n",
       "⎣5       ⎦"
      ]
     },
     "metadata": {},
     "output_type": "display_data"
    },
    {
     "data": {
      "text/plain": [
       "'rho1 x rho_2'"
      ]
     },
     "metadata": {},
     "output_type": "display_data"
    },
    {
     "data": {
      "image/png": "[encoded data removed]",
      "text/latex": [
       "$$\\left[\\begin{matrix}\\frac{8}{25} & \\frac{4 \\sqrt{3}}{25} & \\frac{2}{25} & \\frac{\\sqrt{3}}{25}\\\\\\frac{4 \\sqrt{3}}{25} & \\frac{12}{25} & \\frac{\\sqrt{3}}{25} & \\frac{3}{25}\\\\\\frac{2}{25} & \\frac{\\sqrt{3}}{25} & \\frac{2}{25} & \\frac{\\sqrt{3}}{25}\\\\\\frac{\\sqrt{3}}{25} & \\frac{3}{25} & \\frac{\\sqrt{3}}{25} & \\frac{3}{25}\\end{matrix}\\right]$$"
      ],
      "text/plain": [
       "⎡      4⋅√3         √3 ⎤\n",
       "⎢8/25  ────  2/25   ── ⎥\n",
       "⎢       25          25 ⎥\n",
       "⎢                      ⎥\n",
       "⎢4⋅√3   12    √3       ⎥\n",
       "⎢────   ──    ──   3/25⎥\n",
       "⎢ 25    25    25       ⎥\n",
       "⎢                      ⎥\n",
       "⎢       √3          √3 ⎥\n",
       "⎢2/25   ──   2/25   ── ⎥\n",
       "⎢       25          25 ⎥\n",
       "⎢                      ⎥\n",
       "⎢ √3          √3       ⎥\n",
       "⎢ ──   3/25   ──   3/25⎥\n",
       "⎣ 25          25       ⎦"
      ]
     },
     "metadata": {},
     "output_type": "display_data"
    },
    {
     "data": {
      "text/plain": [
       "'rho1 x rho_2 == rho_0'"
      ]
     },
     "metadata": {},
     "output_type": "display_data"
    },
    {
     "data": {
      "text/plain": [
       "False"
      ]
     },
     "metadata": {},
     "output_type": "display_data"
    }
   ],
   "source": [
    "do_HW_2(psi_0_D)"
   ]
  },
  {
   "cell_type": "markdown",
   "metadata": {},
   "source": [
    "# Problema 1"
   ]
  },
  {
   "cell_type": "code",
   "execution_count": 9,
   "metadata": {},
   "outputs": [
    {
     "data": {
      "text/plain": [
       "'Px+'"
      ]
     },
     "metadata": {},
     "output_type": "display_data"
    },
    {
     "data": {
      "image/png": "[encoded data removed]",
      "text/latex": [
       "$$\\left[\\begin{matrix}\\frac{1}{2}\\end{matrix}\\right]$$"
      ],
      "text/plain": [
       "[1/2]"
      ]
     },
     "metadata": {},
     "output_type": "display_data"
    },
    {
     "data": {
      "text/plain": [
       "'Px-'"
      ]
     },
     "metadata": {},
     "output_type": "display_data"
    },
    {
     "data": {
      "image/png": "[encoded data removed]",
      "text/latex": [
       "$$\\left[\\begin{matrix}\\frac{1}{2}\\end{matrix}\\right]$$"
      ],
      "text/plain": [
       "[1/2]"
      ]
     },
     "metadata": {},
     "output_type": "display_data"
    }
   ],
   "source": [
    "th, phi, w = symbols('theta phi omega', real=True)\n",
    "chi_n_up = Matrix([[cos(th/2)],[sin(th/2)*exp(I*phi)]])\n",
    "chi_n_dn = Matrix([[sin(th/2)],[-cos(th/2)*exp(I*phi)]])\n",
    "sx_up = chi_n_up.subs(th,pi/2).subs(phi,0)\n",
    "sx_dn = chi_n_dn.subs(th,pi/2).subs(phi,0)\n",
    "sy_up = chi_n_up.subs(th,pi/2).subs(phi,pi/2)\n",
    "sy_dn = chi_n_dn.subs(th,pi/2).subs(phi,pi/2)\n",
    "sz_up = Matrix([[1],[0]])\n",
    "sz_dn =Matrix([[0],[1]])\n",
    "display('Px+', abs(Dagger(sx_up)*sz_up)**2)\n",
    "display('Px-', abs(Dagger(sx_dn)*sz_up)**2)"
   ]
  },
  {
   "cell_type": "code",
   "execution_count": 10,
   "metadata": {},
   "outputs": [
    {
     "data": {
      "text/plain": [
       "'sx=+h/2'"
      ]
     },
     "metadata": {},
     "output_type": "display_data"
    },
    {
     "data": {
      "image/png": "[encoded data removed]",
      "text/latex": [
       "$$\\left[\\begin{matrix}\\left(\\frac{\\sqrt{2}}{2} \\sin{\\left (\\omega t \\right )} + \\frac{\\sqrt{2}}{2} \\cos{\\left (\\omega t \\right )}\\right)^{2}\\end{matrix}\\right]$$"
      ],
      "text/plain": [
       "⎡                           2⎤\n",
       "⎢⎛√2⋅sin(ω⋅t)   √2⋅cos(ω⋅t)⎞ ⎥\n",
       "⎢⎜─────────── + ───────────⎟ ⎥\n",
       "⎣⎝     2             2     ⎠ ⎦"
      ]
     },
     "metadata": {},
     "output_type": "display_data"
    },
    {
     "data": {
      "text/plain": [
       "'sx=-h/2'"
      ]
     },
     "metadata": {},
     "output_type": "display_data"
    },
    {
     "data": {
      "image/png": "[encoded data removed]",
      "text/latex": [
       "$$\\left[\\begin{matrix}\\left(\\frac{\\sqrt{2}}{2} \\sin{\\left (\\omega t \\right )} - \\frac{\\sqrt{2}}{2} \\cos{\\left (\\omega t \\right )}\\right)^{2}\\end{matrix}\\right]$$"
      ],
      "text/plain": [
       "⎡                           2⎤\n",
       "⎢⎛√2⋅sin(ω⋅t)   √2⋅cos(ω⋅t)⎞ ⎥\n",
       "⎢⎜─────────── - ───────────⎟ ⎥\n",
       "⎣⎝     2             2     ⎠ ⎦"
      ]
     },
     "metadata": {},
     "output_type": "display_data"
    },
    {
     "data": {
      "text/plain": [
       "'sy=+h/2'"
      ]
     },
     "metadata": {},
     "output_type": "display_data"
    },
    {
     "data": {
      "image/png": "[encoded data removed]",
      "text/latex": [
       "$$\\left[\\begin{matrix}\\frac{1}{2} \\sin^{2}{\\left (\\omega t \\right )} + \\frac{1}{2} \\cos^{2}{\\left (\\omega t \\right )}\\end{matrix}\\right]$$"
      ],
      "text/plain": [
       "⎡   2           2     ⎤\n",
       "⎢sin (ω⋅t)   cos (ω⋅t)⎥\n",
       "⎢───────── + ─────────⎥\n",
       "⎣    2           2    ⎦"
      ]
     },
     "metadata": {},
     "output_type": "display_data"
    },
    {
     "data": {
      "text/plain": [
       "'sy=-h/2'"
      ]
     },
     "metadata": {},
     "output_type": "display_data"
    },
    {
     "data": {
      "image/png": "[encoded data removed]",
      "text/latex": [
       "$$\\left[\\begin{matrix}\\frac{1}{2} \\sin^{2}{\\left (\\omega t \\right )} + \\frac{1}{2} \\cos^{2}{\\left (\\omega t \\right )}\\end{matrix}\\right]$$"
      ],
      "text/plain": [
       "⎡   2           2     ⎤\n",
       "⎢sin (ω⋅t)   cos (ω⋅t)⎥\n",
       "⎢───────── + ─────────⎥\n",
       "⎣    2           2    ⎦"
      ]
     },
     "metadata": {},
     "output_type": "display_data"
    },
    {
     "data": {
      "text/plain": [
       "'sz=+h/2'"
      ]
     },
     "metadata": {},
     "output_type": "display_data"
    },
    {
     "data": {
      "image/png": "[encoded data removed]",
      "text/latex": [
       "$$\\left[\\begin{matrix}\\cos^{2}{\\left (\\omega t \\right )}\\end{matrix}\\right]$$"
      ],
      "text/plain": [
       "⎡   2     ⎤\n",
       "⎣cos (ω⋅t)⎦"
      ]
     },
     "metadata": {},
     "output_type": "display_data"
    },
    {
     "data": {
      "text/plain": [
       "'sz=-h/2'"
      ]
     },
     "metadata": {},
     "output_type": "display_data"
    },
    {
     "data": {
      "image/png": "[encoded data removed]",
      "text/latex": [
       "$$\\left[\\begin{matrix}\\sin^{2}{\\left (\\omega t \\right )}\\end{matrix}\\right]$$"
      ],
      "text/plain": [
       "⎡   2     ⎤\n",
       "⎣sin (ω⋅t)⎦"
      ]
     },
     "metadata": {},
     "output_type": "display_data"
    }
   ],
   "source": [
    "psi_t = cos(w*t)*sz_up + sin(w*t)*sz_dn\n",
    "display('sx=+h/2',abs(Dagger(sx_up)*psi_t)**2)\n",
    "display('sx=-h/2',abs(Dagger(sx_dn)*psi_t)**2)\n",
    "display('sy=+h/2',abs(Dagger(sy_up)*psi_t)**2)\n",
    "display('sy=-h/2',abs(Dagger(sy_dn)*psi_t)**2)\n",
    "display('sz=+h/2',abs(Dagger(sz_up)*psi_t)**2)\n",
    "display('sz=-h/2',abs(Dagger(sz_dn)*psi_t)**2)"
   ]
  },
  {
   "cell_type": "code",
   "execution_count": 11,
   "metadata": {},
   "outputs": [
    {
     "data": {
      "text/plain": [
       "'sx=+h/2'"
      ]
     },
     "metadata": {},
     "output_type": "display_data"
    },
    {
     "data": {
      "image/png": "[encoded data removed]",
      "text/latex": [
       "$$\\left[\\begin{matrix}\\frac{1}{2}\\end{matrix}\\right]$$"
      ],
      "text/plain": [
       "[1/2]"
      ]
     },
     "metadata": {},
     "output_type": "display_data"
    },
    {
     "data": {
      "text/plain": [
       "'sx=-h/2'"
      ]
     },
     "metadata": {},
     "output_type": "display_data"
    },
    {
     "data": {
      "image/png": "[encoded data removed]",
      "text/latex": [
       "$$\\left[\\begin{matrix}\\frac{1}{2}\\end{matrix}\\right]$$"
      ],
      "text/plain": [
       "[1/2]"
      ]
     },
     "metadata": {},
     "output_type": "display_data"
    },
    {
     "data": {
      "text/plain": [
       "'sy=+h/2'"
      ]
     },
     "metadata": {},
     "output_type": "display_data"
    },
    {
     "data": {
      "image/png": "[encoded data removed]",
      "text/latex": [
       "$$\\left[\\begin{matrix}\\frac{1}{2}\\end{matrix}\\right]$$"
      ],
      "text/plain": [
       "[1/2]"
      ]
     },
     "metadata": {},
     "output_type": "display_data"
    },
    {
     "data": {
      "text/plain": [
       "'sy=-h/2'"
      ]
     },
     "metadata": {},
     "output_type": "display_data"
    },
    {
     "data": {
      "image/png": "[encoded data removed]",
      "text/latex": [
       "$$\\left[\\begin{matrix}\\frac{1}{2}\\end{matrix}\\right]$$"
      ],
      "text/plain": [
       "[1/2]"
      ]
     },
     "metadata": {},
     "output_type": "display_data"
    },
    {
     "data": {
      "text/plain": [
       "'sz=+h/2'"
      ]
     },
     "metadata": {},
     "output_type": "display_data"
    },
    {
     "data": {
      "image/png": "[encoded data removed]",
      "text/latex": [
       "$$\\left[\\begin{matrix}1\\end{matrix}\\right]$$"
      ],
      "text/plain": [
       "[1]"
      ]
     },
     "metadata": {},
     "output_type": "display_data"
    },
    {
     "data": {
      "text/plain": [
       "'sz=-h/2'"
      ]
     },
     "metadata": {},
     "output_type": "display_data"
    },
    {
     "data": {
      "image/png": "[encoded data removed]",
      "text/latex": [
       "$$\\left[\\begin{matrix}0\\end{matrix}\\right]$$"
      ],
      "text/plain": [
       "[0]"
      ]
     },
     "metadata": {},
     "output_type": "display_data"
    }
   ],
   "source": [
    "T=2*pi/w\n",
    "n=4\n",
    "display('sx=+h/2',abs(Dagger(sx_up)*psi_t.subs(t,n*T))**2)\n",
    "display('sx=-h/2',abs(Dagger(sx_dn)*psi_t.subs(t,n*T))**2)\n",
    "display('sy=+h/2',abs(Dagger(sy_up)*psi_t.subs(t,n*T))**2)\n",
    "display('sy=-h/2',abs(Dagger(sy_dn)*psi_t.subs(t,n*T))**2)\n",
    "display('sz=+h/2',abs(Dagger(sz_up)*psi_t.subs(t,n*T))**2)\n",
    "display('sz=-h/2',abs(Dagger(sz_dn)*psi_t.subs(t,n*T))**2)"
   ]
  },
  {
   "cell_type": "code",
   "execution_count": null,
   "metadata": {},
   "outputs": [],
   "source": []
  }
 ],
 "metadata": {
  "anaconda-cloud": {},
  "kernelspec": {
   "display_name": "Python [conda root]",
   "language": "python",
   "name": "conda-root-py"
  },
  "language_info": {
   "codemirror_mode": {
    "name": "ipython",
    "version": 2
   },
   "file_extension": ".py",
   "mimetype": "text/x-python",
   "name": "python",
   "nbconvert_exporter": "python",
   "pygments_lexer": "ipython2",
   "version": "2.7.14"
  }
 },
 "nbformat": 4,
 "nbformat_minor": 2
}
